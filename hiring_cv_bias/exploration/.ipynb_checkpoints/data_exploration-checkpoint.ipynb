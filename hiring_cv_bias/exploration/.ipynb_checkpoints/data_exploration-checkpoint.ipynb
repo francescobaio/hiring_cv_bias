{
 "cells": [
  {
   "cell_type": "code",
   "execution_count": null,
   "metadata": {},
   "outputs": [],
   "source": [
    "%load_ext autoreload \n",
    "%autoreload 2\n",
    "from AIETHICS.utils import load_data\n",
    "from config import PARSED_DATA_PATH\n",
    "from visualize import plot_skills_frequency, plot_skills_per_category, plot_top_skills_for_job_title\n",
    "import polars as pl "
   ]
  },
  {
   "cell_type": "code",
   "execution_count": null,
   "metadata": {},
   "outputs": [],
   "source": [
    "cv_skills = load_data(PARSED_DATA_PATH)"
   ]
  },
  {
   "cell_type": "code",
   "execution_count": null,
   "metadata": {},
   "outputs": [],
   "source": [
    "plot_skills_frequency(cv_skills)"
   ]
  },
  {
   "cell_type": "code",
   "execution_count": null,
   "metadata": {},
   "outputs": [],
   "source": [
    "skill_pd = plot_skills_per_category(cv_skills,'Job_title',top_n=10)"
   ]
  },
  {
   "cell_type": "code",
   "execution_count": null,
   "metadata": {},
   "outputs": [],
   "source": [
    "missing_skills_df = cv_skills.filter(cv_skills[\"Skill\"].is_null())\n",
    "missing_skills_df"
   ]
  },
  {
   "cell_type": "code",
   "execution_count": null,
   "metadata": {},
   "outputs": [],
   "source": [
    "job_titles_df = cv_skills.filter(pl.col(\"Skill_Type\") == \"Job_title\")\n",
    "job_titles_df"
   ]
  },
  {
   "cell_type": "code",
   "execution_count": null,
   "metadata": {},
   "outputs": [],
   "source": [
    "job_titles_df = job_titles_df.select([\"CANDIDATE_ID\", \"Skill\"]).rename({\"Skill\": \"Job_title\"})\n",
    "candidate_skills = cv_skills.filter(pl.col(\"Skill_Type\") != \"Job_title\").select([\"CANDIDATE_ID\", \"Skill\"])\n",
    "job_title_skills = job_titles_df.join(candidate_skills, on=\"CANDIDATE_ID\", how=\"inner\")\n",
    "job_title_skills"
   ]
  },
  {
   "cell_type": "code",
   "execution_count": null,
   "metadata": {},
   "outputs": [],
   "source": [
    "job_skill_frequency = (\n",
    "    job_title_skills\n",
    "    .group_by([\"Job_title\", \"Skill\"])\n",
    "    .agg(pl.len().alias(\"Frequency\"))\n",
    "    .sort(\"Frequency\", descending=True)\n",
    ")\n",
    "job_skill_frequency"
   ]
  },
  {
   "cell_type": "code",
   "execution_count": null,
   "metadata": {},
   "outputs": [],
   "source": [
    "candidate_skills = job_skill_frequency.filter(pl.col(\"Job_title\") == \"Production Employee (m/f)\")\n",
    "candidate_skills"
   ]
  },
  {
   "cell_type": "code",
   "execution_count": null,
   "metadata": {},
   "outputs": [],
   "source": [
    "plot_top_skills_for_job_title(cv_skills,\"Commis Chef (m/f)\", \"IT_Skill\", top_n=20)"
   ]
  },
  {
   "cell_type": "code",
   "execution_count": null,
   "metadata": {},
   "outputs": [],
   "source": [
    "plot_top_skills_for_job_title(cv_skills,\"Commis Chef (m/f)\", \"Professional_Skill\", top_n=20)"
   ]
  },
  {
   "cell_type": "code",
   "execution_count": null,
   "metadata": {},
   "outputs": [],
   "source": [
    "plot_top_skills_for_job_title(cv_skills,\"Commis Chef (m/f)\", \"Language_Skill\", top_n=10)"
   ]
  },
  {
   "cell_type": "code",
   "execution_count": null,
   "metadata": {},
   "outputs": [],
   "source": [
    "plot_top_skills_for_job_title(cv_skills,\"Commis Chef (m/f)\", \"DRIVERSLIC\", top_n=20)"
   ]
  }
 ],
 "metadata": {
  "kernelspec": {
   "display_name": ".venv",
   "language": "python",
   "name": "python3"
  },
  "language_info": {
   "codemirror_mode": {
    "name": "ipython",
    "version": 3
   },
   "file_extension": ".py",
   "mimetype": "text/x-python",
   "name": "python",
   "nbconvert_exporter": "python",
   "pygments_lexer": "ipython3",
   "version": "3.11.9"
  }
 },
 "nbformat": 4,
 "nbformat_minor": 2
}

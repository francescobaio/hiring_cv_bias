{
 "cells": [
  {
   "cell_type": "code",
   "execution_count": null,
   "metadata": {},
   "outputs": [],
   "source": [
    "%load_ext autoreload \n",
    "%autoreload 2\n",
    "from utils import load_data, load_excel_sheets, plot_distribution_bar\n",
    "from config import PARSED_DATA_PATH, CANDIDATE_CVS_PATH, REVERSE_MATCHING_PATH, JOB_LINKS\n",
    "from gender_analysis import get_category_distribution, get_skill_distribution_by_gender, get_skill_gender_share,plot_gender_bias_skills_bar, get_skilltype_gender_share\n",
    "import polars as pl "
   ]
  },
  {
   "cell_type": "code",
   "execution_count": null,
   "metadata": {},
   "outputs": [],
   "source": [
    "cv_skills = load_data(PARSED_DATA_PATH)\n",
    "dfs = load_excel_sheets(REVERSE_MATCHING_PATH, [\"Candidates\"])"
   ]
  },
  {
   "cell_type": "code",
   "execution_count": null,
   "metadata": {},
   "outputs": [],
   "source": [
    "df_skills_with_gender = cv_skills.join(dfs[\"Candidates\"].select([\"CANDIDATE_ID\", \"Gender\"]), \n",
    "                    left_on=\"CANDIDATE_ID\", \n",
    "                    right_on=\"CANDIDATE_ID\", \n",
    "                    how=\"inner\")"
   ]
  },
  {
   "cell_type": "code",
   "execution_count": null,
   "metadata": {},
   "outputs": [],
   "source": [
    "df_skills_with_gender"
   ]
  },
  {
   "cell_type": "code",
   "execution_count": null,
   "metadata": {},
   "outputs": [],
   "source": [
    "gender_counts_df = get_category_distribution(df_skills_with_gender, \"Gender\")\n",
    "gender_counts_df"
   ]
  },
  {
   "cell_type": "code",
   "execution_count": null,
   "metadata": {},
   "outputs": [],
   "source": [
    "plot_distribution_bar(\n",
    "    gender_counts_df,\n",
    "    x_col=\"Gender\",\n",
    "    y_col=\"count\",\n",
    "    x_label=\"Gender\",\n",
    "    y_label=\"Number of Candidates\",\n",
    "    title=\"Candidate Distribution by Gender\"\n",
    ")"
   ]
  },
  {
   "cell_type": "code",
   "execution_count": null,
   "metadata": {},
   "outputs": [],
   "source": [
    "df_category_with_gender = get_skilltype_gender_share(df_skills_with_gender)\n",
    "df_category_with_gender"
   ]
  },
  {
   "cell_type": "code",
   "execution_count": null,
   "metadata": {},
   "outputs": [],
   "source": [
    "plot_gender_bias_skills_bar(df_category_with_gender,\"Skill_Type\",\"perc_male\",\"perc_female\",\"perc_diff\")"
   ]
  },
  {
   "cell_type": "code",
   "execution_count": null,
   "metadata": {},
   "outputs": [],
   "source": [
    "skill_distribution_df = get_skill_distribution_by_gender(df_skills_with_gender)\n",
    "skill_distribution_df"
   ]
  },
  {
   "cell_type": "code",
   "execution_count": null,
   "metadata": {},
   "outputs": [],
   "source": [
    "df_gender_bias = get_skill_gender_share(df_skills_with_gender)\n",
    "df_gender_bias"
   ]
  },
  {
   "cell_type": "code",
   "execution_count": null,
   "metadata": {},
   "outputs": [],
   "source": [
    "df_gender_bias.sort(pl.col(\"bias_strength\"), descending=True).head(20)"
   ]
  },
  {
   "cell_type": "code",
   "execution_count": null,
   "metadata": {},
   "outputs": [],
   "source": [
    "plot_gender_bias_skills_bar(df_gender_bias, \"Skill\",\"perc_male\",\"perc_female\",\"bias_strength\", top_n=20)"
   ]
  },
  {
   "cell_type": "code",
   "execution_count": null,
   "metadata": {},
   "outputs": [],
   "source": [
    "from datasets import load_dataset\n",
    "\n",
    "train_dataset = load_dataset(\"LabHC/bias_in_bios\", split='train')\n",
    "df_train = train_dataset.to_pandas()\n",
    "print(df_train.head())"
   ]
  },
  {
   "cell_type": "code",
   "execution_count": null,
   "metadata": {},
   "outputs": [],
   "source": [
    "print(df_train.columns)"
   ]
  },
  {
   "cell_type": "code",
   "execution_count": null,
   "metadata": {},
   "outputs": [],
   "source": [
    "df = df_gender_bias.sort(\"bias_strength\", descending=True).head(30)\n",
    "df"
   ]
  },
  {
   "cell_type": "code",
   "execution_count": null,
   "metadata": {},
   "outputs": [],
   "source": [
    "job_df = df.filter(pl.col(\"Skill_Type\") == \"Job_title\")\n",
    "job_df.drop([\"Skill_right\",\"Skill_Type_right\"])"
   ]
  },
  {
   "cell_type": "code",
   "execution_count": null,
   "metadata": {},
   "outputs": [],
   "source": [
    "job_links = pl.Series(JOB_LINKS)\n",
    "job_df.with_columns(job_links.alias(\"job_links\"))"
   ]
  }
 ],
 "metadata": {
  "kernelspec": {
   "display_name": ".venv",
   "language": "python",
   "name": "python3"
  },
  "language_info": {
   "codemirror_mode": {
    "name": "ipython",
    "version": 3
   },
   "file_extension": ".py",
   "mimetype": "text/x-python",
   "name": "python",
   "nbconvert_exporter": "python",
   "pygments_lexer": "ipython3",
   "version": "3.11.9"
  }
 },
 "nbformat": 4,
 "nbformat_minor": 2
}

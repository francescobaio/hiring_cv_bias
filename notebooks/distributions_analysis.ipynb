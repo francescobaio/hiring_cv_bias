{
 "cells": [
  {
   "cell_type": "markdown",
   "metadata": {},
   "source": [
    "# Uncover distributional imbalances \n",
    "\n",
    "**Main Objective:**  \n",
    "This notebook aims to uncover distributional imbalances by combining **demographic data** (age, gender, location) from the **Candidates** sheet of the reverse matching dataset and **Parsed skill data** extracted from raw CVs."
   ]
  },
  {
   "cell_type": "markdown",
   "metadata": {},
   "source": [
    "## Steps:\n",
    "\n",
    "- **Analyze distributional skews**  \n",
    "    - **Gender** distribution \n",
    "    - **Location** distribution  \n",
    "    - **Age** distribution  \n",
    "    - **Hard vs. soft skills** distribution  \n",
    "\n",
    "- **Visualize imbalances**  \n",
    "  - Use bar charts to highlight **over** or **under** representation.\n",
    "\n",
    "- **Surface parser induced bias**  \n",
    "  - Identify patterns where the parser **may** systematically favor or overlook certain groups or skill types.  \n",
    "\n",
    "\n",
    "**Why This Matters** \n",
    "\n",
    "> Detecting these imbalances is **critical** to designing a robust, fair pipeline that flags and mitigates biases introduced by the CV parser relying only on raw CV inputs and their parsed outputs.  "
   ]
  },
  {
   "cell_type": "markdown",
   "metadata": {},
   "source": [
    "## Merge & prepare data \n",
    "  - Bring together candidate metadata and their extracted skills.  "
   ]
  },
  {
   "cell_type": "code",
   "execution_count": null,
   "metadata": {},
   "outputs": [],
   "source": [
    "%load_ext autoreload \n",
    "%autoreload 2\n",
    "import polars as pl\n",
    "\n",
    "from hiring_cv_bias.config import (\n",
    "    CLEANED_REVERSE_MATCHING_PATH,\n",
    "    CLEANED_SKILLS,\n",
    "    HARD_SOFT_SKILLS,\n",
    ")\n",
    "from hiring_cv_bias.exploration.gender_analysis import (\n",
    "    add_zippia_columns,\n",
    "    compute_bias_strenght,\n",
    "    get_category_distribution,\n",
    "    get_skill_target_share,\n",
    "    plot_bias_skills_bar,\n",
    ")\n",
    "from hiring_cv_bias.exploration.utils import (\n",
    "    plot_distribution_bar,\n",
    "    split_df_per_attribute,\n",
    ")\n",
    "from hiring_cv_bias.exploration.visualize import (\n",
    "    compute_and_plot_disparity,\n",
    "    plot_histogram,\n",
    "    plot_target_distribution,\n",
    ")\n",
    "from hiring_cv_bias.utils import load_data"
   ]
  },
  {
   "cell_type": "code",
   "execution_count": null,
   "metadata": {},
   "outputs": [],
   "source": [
    "df_skills = load_data(CLEANED_SKILLS)\n",
    "df_info_candidates = load_data(CLEANED_REVERSE_MATCHING_PATH)\n",
    "df_skills.head()"
   ]
  },
  {
   "cell_type": "code",
   "execution_count": null,
   "metadata": {},
   "outputs": [],
   "source": [
    "df_info_candidates.sample(5)"
   ]
  },
  {
   "cell_type": "markdown",
   "metadata": {},
   "source": [
    "## Gender Analysis"
   ]
  },
  {
   "cell_type": "markdown",
   "metadata": {},
   "source": [
    "In this section, we analyze the distribution of extracted skills across candidates by incorporating **gender** information.\n",
    "\n",
    "We focus on:\n",
    "\n",
    "* Exploring the distribution of skills by gender.\n",
    "* Identifying job roles where the skill sets parsed from CVs exhibit significant gender based disparities.\n",
    "* Uncovering potential biases in how skills are emphasized for different genders."
   ]
  },
  {
   "cell_type": "code",
   "execution_count": null,
   "metadata": {},
   "outputs": [],
   "source": [
    "df_skills_with_gender = df_skills.join(\n",
    "    df_info_candidates.select([\"CANDIDATE_ID\", \"Gender\"]), on=\"CANDIDATE_ID\"\n",
    ")\n",
    "df_skills_with_gender.head()"
   ]
  },
  {
   "cell_type": "code",
   "execution_count": null,
   "metadata": {},
   "outputs": [],
   "source": [
    "gender_counts_df = get_category_distribution(df_info_candidates, \"Gender\")\n",
    "gender_counts_df"
   ]
  },
  {
   "cell_type": "markdown",
   "metadata": {},
   "source": [
    "We begin by examining the overall gender composition of the candidate pool, which shows 53.0% male and 45.5% female, therefore rather balanced and a small fraction identifying as “Other” or “Unknown.\""
   ]
  },
  {
   "cell_type": "code",
   "execution_count": null,
   "metadata": {},
   "outputs": [],
   "source": [
    "plot_distribution_bar(\n",
    "    gender_counts_df,\n",
    "    x_col=\"Gender\",\n",
    "    y_col=\"count\",\n",
    "    x_label=\"Gender\",\n",
    "    y_label=\"Number of Candidates\",\n",
    "    title=\"Candidate Distribution by Gender\",\n",
    ")"
   ]
  },
  {
   "cell_type": "markdown",
   "metadata": {},
   "source": [
    "Compute for each skill type the counts and percentages of male vs. female candidates and their differences.\n",
    "\n",
    "**Steps:**  \n",
    "1. Count males and females per skill type. These counts are **normalized** with respect to the prior distribution. \n",
    "2. Calculate total count, percent female/male (rounded to 1 decimal), absolute and percentage differences.  \n",
    "3. Sort by descending total count."
   ]
  },
  {
   "cell_type": "code",
   "execution_count": null,
   "metadata": {},
   "outputs": [],
   "source": [
    "df_category_with_gender = get_skill_target_share(\n",
    "    df_skills_with_gender,\n",
    "    gender_counts_df,\n",
    "    target_col=\"Gender\",\n",
    "    target_values=[\"Male\", \"Female\"],\n",
    ")\n",
    "df_category_with_gender"
   ]
  },
  {
   "cell_type": "markdown",
   "metadata": {},
   "source": [
    "We identify **skill categories** with the gender imbalance, highlighting those that are disproportionately associated with either male or female candidates. \n",
    "\n",
    "This analysis has as aim to uncover general categories (e.g. IT skills, professional skills, job_title) that are heavily skewed toward one gender."
   ]
  },
  {
   "cell_type": "code",
   "execution_count": null,
   "metadata": {},
   "outputs": [],
   "source": [
    "gender_percs_dict = {\"Male\": \"perc_male\", \"Female\": \"perc_female\"}\n",
    "gender_colors = {\"Male\": \"skyblue\", \"Female\": \"lightcoral\"}\n",
    "\n",
    "plot_bias_skills_bar(\n",
    "    df_category_with_gender,\n",
    "    \"Skill_Type\",\n",
    "    gender_percs_dict,\n",
    "    \"perc_diff\",\n",
    "    \"Skill Categories gender imbalance\",\n",
    "    colors=gender_colors,\n",
    ")"
   ]
  },
  {
   "cell_type": "markdown",
   "metadata": {},
   "source": [
    "Now we analyze gender representation across parsed skills by computing both **absolute counts** (normalized by prior distribution) and **relative percentages** for male and female candidates. The objective is to identify skills that show a significant **gender imbalance**.\n",
    "\n",
    "We group the data by each unique combination of `Skill` and `Skill_Type` and compute the following:\n",
    "\n",
    "- `count_male`: number of male candidates who have the skill \n",
    "- `count_female`: number of female candidates who have the skill  \n",
    "- `count_total = count_male + count_female`  \n",
    "- `perc_male = (count_male / count_total) × 100`  \n",
    "- `perc_female = (count_female / count_total) × 100`  \n",
    "- `perc_diff = perc_male - perc_female`  \n",
    "- `count_diff = count_male - count_female`  \n",
    "\n",
    "To quantify the **strength of gender bias** for each skill, we define the following metric:\n",
    "\n",
    "\n",
    "\n",
    "$$\n",
    "\\text{bias\\_strength} = \\left| \\frac{\\text{count\\_diff}}{\\text{count\\_total}} \\cdot \\log(1 + \\text{count\\_total}) \\right|\n",
    "$$\n",
    "\n",
    "\n",
    "This formula combines:\n",
    "- the **normalized difference** between male and female counts (relative to the total),\n",
    "- a **logarithmic weighting** that increases confidence in imbalances occurring in larger samples.\n",
    "\n",
    "The result is a **scale invariant** score that emphasizes statistically meaningful disparities.\n",
    "\n",
    "A higher `bias_strength` indicates a stronger imbalance between male and female representations for that particular skill."
   ]
  },
  {
   "cell_type": "code",
   "execution_count": null,
   "metadata": {},
   "outputs": [],
   "source": [
    "df_gender_bias = compute_bias_strenght(df_skills_with_gender, gender_counts_df)\n",
    "df_gender_bias"
   ]
  },
  {
   "cell_type": "code",
   "execution_count": null,
   "metadata": {},
   "outputs": [],
   "source": [
    "df_gender_bias.sort(pl.col(\"bias_strength\"), descending=True).head(20)"
   ]
  },
  {
   "cell_type": "markdown",
   "metadata": {},
   "source": [
    "> Note: From these results, we can see that certain skills known to be heavily \"gender skewed\" in society have been identified. <br>\n",
    "Although a high perc_diff highlights strong imbalances, it alone would also surface **rare** skills with extreme ratios (for example, 1 occurrence versus 0). By adding a logarithmic term based on counts, we ensure that only skills with both a large percentage difference and a sufficiently high frequency rise to the top. <br>\n",
    "This `bias_strenght` metric therefore uncovers the most widespread, gender-biased skills in our dataset."
   ]
  },
  {
   "cell_type": "code",
   "execution_count": null,
   "metadata": {},
   "outputs": [],
   "source": [
    "plot_bias_skills_bar(\n",
    "    df_gender_bias,\n",
    "    \"Skill\",\n",
    "    gender_percs_dict,\n",
    "    \"bias_strength\",\n",
    "    \"Top Skills with Highest Gender Imbalance\",\n",
    "    top_n=20,\n",
    "    colors=gender_colors,\n",
    ")"
   ]
  },
  {
   "cell_type": "markdown",
   "metadata": {},
   "source": [
    "Now we're going to examine gender bias in the relationship between **Job Titles** to understand how work experiences differ for male and female candidates.\n",
    "\n",
    "* Determine whether observed disparities could reflect **parser errors** or **real world biases** already present in our CV dataset.\n",
    "\n",
    "* Append two new columns `perc_female_zippia` and `perc_male_zippia` by scraping Zippia (USA) for the percentage of men and women in each role.\n",
    "\n",
    "By this we’ll see whether the same male/female proportions that we observe in our parsed skills and roles align with the real world distribution of those occupations. \n",
    "\n",
    "Example: If our parsed CVs dataset shows that 10% of “Software Engineer” CVs are female, but Zippia reports 30% of software engineer are female, this gap **may** indicate a parser bias. Conversely, if both sources match closely, it could suggests that any skew is likely a reflection of broader societal patterns rather than a flaw in our extraction process."
   ]
  },
  {
   "cell_type": "code",
   "execution_count": null,
   "metadata": {},
   "outputs": [],
   "source": [
    "df = df_gender_bias.sort(pl.col(\"bias_strength\"), descending=True).head(30)\n",
    "job_df = df.filter(pl.col(\"Skill_Type\") == \"Job_title\")\n",
    "job_df"
   ]
  },
  {
   "cell_type": "code",
   "execution_count": null,
   "metadata": {},
   "outputs": [],
   "source": [
    "job_df = add_zippia_columns(job_df)\n",
    "job_df"
   ]
  },
  {
   "cell_type": "markdown",
   "metadata": {},
   "source": [
    "## Geographical Analysis"
   ]
  },
  {
   "cell_type": "markdown",
   "metadata": {},
   "source": [
    "In this section, we analyze the distribution of extracted skills across candidates by incorporating **geographical position** information.\n",
    "\n",
    "We focus on:\n",
    "\n",
    "* Exploring the distribution of skills by geographical position.\n",
    "* Identifying job roles where the skill sets parsed from CVs exhibit significant position based disparities.\n",
    "* Uncovering potential biases in how skills are emphasized for different locations."
   ]
  },
  {
   "cell_type": "code",
   "execution_count": null,
   "metadata": {},
   "outputs": [],
   "source": [
    "df_skill_candidates = df_info_candidates.join(\n",
    "    df_skills,\n",
    "    on=\"CANDIDATE_ID\",\n",
    ").select(\"CANDIDATE_ID\", \"LATITUDE\", \"Skill\", \"Skill_Type\")\n",
    "display(df_skill_candidates)"
   ]
  },
  {
   "cell_type": "markdown",
   "metadata": {},
   "source": [
    "This distribution reveals a pronounced geographic imbalance: with nearly three‐quarters of candidates **(~71%)** coming from the **North** and very few from the Center (~14%) or South (~15%); the pool is heavily skewed toward Northern regions.\n",
    "\n",
    "This pronounced skew must be taken into account in all subsequent analyses."
   ]
  },
  {
   "cell_type": "code",
   "execution_count": null,
   "metadata": {},
   "outputs": [],
   "source": [
    "df_skill_candidates_localized = df_skill_candidates.with_columns(\n",
    "    pl.when(pl.col(\"LATITUDE\") > 44.5)\n",
    "    .then(pl.lit(\"NORTH\"))\n",
    "    .when(pl.col(\"LATITUDE\") < 42)\n",
    "    .then(pl.lit(\"SOUTH\"))\n",
    "    .otherwise(pl.lit(\"CENTER\"))\n",
    "    .alias(\"Location\")\n",
    ")\n",
    "df_location_per_candidate = df_skill_candidates_localized.select(\n",
    "    \"CANDIDATE_ID\", \"Location\"\n",
    ").unique()\n",
    "plot_histogram(\n",
    "    df_location_per_candidate[\"Location\"],\n",
    "    title=\"Candidates Geographical Distribution\",\n",
    "    normalize=True,\n",
    ")"
   ]
  },
  {
   "cell_type": "markdown",
   "metadata": {},
   "source": [
    "The charts below display the **percentage distribution** of each `Skill_Type` within three geographic regions (North, Center, South). Because each histogram is normalized, differences in absolute CV counts (e.g., 71% of candidates coming from the North) do not affect the shape of the distribution **within** each region. In other words, the y-axis values represent the relative share of each skill type among CVs from that specific area, regardless of the total volume of CVs.\n",
    "\n",
    "Each bar represents the percentage of occurrences of a given `Skill_Type` among the CVs collected in that area.\n",
    "\n",
    "> Note: The only noticeable difference is that in the **South**, the `Job_title` category is slightly more prevalent than `IT_Skill`. In the North and Center, these two categories remain roughly similar. All other proportions (e.g., the dominance of `Professional_Skill` and the marginal share of `DRIVERSLIC`) are nearly identical across regions.  "
   ]
  },
  {
   "cell_type": "code",
   "execution_count": null,
   "metadata": {},
   "outputs": [],
   "source": [
    "skills_per_location = split_df_per_attribute(df_skill_candidates_localized, \"Location\")\n",
    "plot_target_distribution(skills_per_location, \"Geographical Skill Type Distribution\")"
   ]
  },
  {
   "cell_type": "markdown",
   "metadata": {},
   "source": [
    "When comparing how specific skills are distributed across multiple geographic regions, it is crucial to identify which skills exhibit the most pronounced imbalance. \n",
    "The technique employed here involves:\n",
    "\n",
    "1. **Cutting out low frequencies skills**: first applying *log trasformation* on the total counts distribution, then computing *z-score* for each count and lastly filtering out those that are below a certain threshold.  \n",
    "\n",
    "2. **Gathering frequency counts (already scaled considering the groups prior distribution)** of each skill within each group.  (considering only skills as described in 1.) \n",
    "\n",
    "3. **Quantifying inequality** for each skill across these groups using a statistical measure.  \n",
    "\n",
    "4. **Selecting the top skills with the maximum inequality** and visualizing its breakdown to facilitate interpretation.\n",
    "\n",
    "**The Gini Index as an Inequality Metric**\n",
    "\n",
    "The chosen disparity metric is the **Gini index**, a widely used measure of statistical dispersion. For a given skill, let $n$ be the number of groups and let $x_i$ denote the frequency of that skill in group $i$. We first sort these values in non‐decreasing order and denote them by $x_{(1)}$, $x_{(2)}$, $...$, $x_{(n)}$. (in our case $n=3$) The Gini index \\(G\\) is then computed as:\n",
    "\n",
    "$$\n",
    "G \\;=\\; \\frac{\\displaystyle\\sum_{1 \\,\\le i < j \\,\\le n} \\bigl|x_i - x_j\\bigr|}{\\,n \\,\\sum_{i=1}^{n} x_i\\,}\\,.\n",
    "$$\n",
    "\n",
    "**How this works:**  \n",
    "1. **Intuition**:  \n",
    "   - It measures the **average absolute difference** between every pair of group values, scaled by the total.  \n",
    "   - If all $x_i$ are identical, each $\\lvert x_i - x_j\\rvert = 0$, so $G=0$ (perfect equality).  \n",
    "   - If one group has **all** of the mass and the others have zero, then the numerator is maximized, driving $G$ toward 1 (maximal inequality).  \n",
    "\n",
    "2. **Normalization**:  \n",
    "   - Dividing by $n \\sum_{i=1}^{n} x_i$ ensures $G$ ranges between 0 and (just under) 1 regardless of absolute scale or number of groups.  \n",
    "   - In practice, $G$ approaches 1 when one group’s share dominates and the rest contribute negligibly.\n",
    "\n",
    "3. **Interpretation**:  \n",
    "   - A **low Gini** (near 0) indicates the attribute is nearly equally represented across all groups.  \n",
    "   - A **high Gini** signals that the attribute is concentrated in one or a few groups, revealing a strong disparity.\n",
    "\n",
    "By sorting each skill’s group counts and computing this Gini formula, we rank skills by how unequal their distributions are. The top‐disparity skill is the one whose frequency differs most sharply between groups.  \n",
    "\n",
    "\n",
    "> **Note:** The Gini index’s maximum value is $(n-1)/n$. For $n=3$, this gives a range from 0 up to $2/3$ (approximately 0.667)."
   ]
  },
  {
   "cell_type": "code",
   "execution_count": null,
   "metadata": {},
   "outputs": [],
   "source": [
    "prof_skills_per_location = {\n",
    "    attr: df.filter(pl.col(\"Skill_Type\") == \"Professional_Skill\")[\"Skill\"]\n",
    "    for attr, df in skills_per_location.items()\n",
    "}\n",
    "\n",
    "\n",
    "location_colors = {\"NORTH\": \"#2d8659\", \"CENTER\": \"#dddddd\", \"SOUTH\": \"#b03a2e\"}\n",
    "\n",
    "location_weights = {\n",
    "    key: 1 / len(df[\"CANDIDATE_ID\"].unique()) for key, df in skills_per_location.items()\n",
    "}\n",
    "\n",
    "compute_and_plot_disparity(\n",
    "    prof_skills_per_location,\n",
    "    colors=location_colors,\n",
    "    attribute_name=\"Professional_Skills\",\n",
    "    weights_dict=location_weights,\n",
    ")"
   ]
  },
  {
   "cell_type": "code",
   "execution_count": null,
   "metadata": {},
   "outputs": [],
   "source": [
    "it_skills_per_location = {\n",
    "    attr: df.filter(pl.col(\"Skill_Type\") == \"IT_Skill\")[\"Skill\"]\n",
    "    for attr, df in skills_per_location.items()\n",
    "}\n",
    "\n",
    "\n",
    "compute_and_plot_disparity(\n",
    "    it_skills_per_location,\n",
    "    colors=location_colors,\n",
    "    attribute_name=\"IT_Skills\",\n",
    "    weights_dict=location_weights,\n",
    ")"
   ]
  },
  {
   "cell_type": "code",
   "execution_count": null,
   "metadata": {},
   "outputs": [],
   "source": [
    "job_title_per_location = {\n",
    "    attr: df.filter(pl.col(\"Skill_Type\") == \"Job_title\")[\"Skill\"]\n",
    "    for attr, df in skills_per_location.items()\n",
    "}\n",
    "\n",
    "\n",
    "compute_and_plot_disparity(\n",
    "    job_title_per_location,\n",
    "    colors=location_colors,\n",
    "    attribute_name=\"Job_titles\",\n",
    "    weights_dict=location_weights,\n",
    ")"
   ]
  },
  {
   "cell_type": "code",
   "execution_count": null,
   "metadata": {},
   "outputs": [],
   "source": [
    "lang_skills_per_location = {\n",
    "    attr: df.filter(pl.col(\"Skill_Type\") == \"Language_Skill\")[\"Skill\"]\n",
    "    for attr, df in skills_per_location.items()\n",
    "}\n",
    "\n",
    "\n",
    "compute_and_plot_disparity(\n",
    "    lang_skills_per_location,\n",
    "    min_threshold=0.5,\n",
    "    colors=location_colors,\n",
    "    attribute_name=\"Language_Skill\",\n",
    "    weights_dict=location_weights,\n",
    ")"
   ]
  },
  {
   "cell_type": "code",
   "execution_count": null,
   "metadata": {},
   "outputs": [],
   "source": [
    "driverslic_per_location = {\n",
    "    attr: df.filter(pl.col(\"Skill_Type\") == \"DRIVERSLIC\")[\"Skill\"]\n",
    "    for attr, df in skills_per_location.items()\n",
    "}\n",
    "\n",
    "\n",
    "compute_and_plot_disparity(\n",
    "    driverslic_per_location,\n",
    "    min_threshold=0.0,\n",
    "    colors=location_colors,\n",
    "    attribute_name=\"DRIVERSLIC\",\n",
    "    weights_dict=location_weights,\n",
    ")"
   ]
  },
  {
   "cell_type": "markdown",
   "metadata": {},
   "source": [
    "## Age Analysis"
   ]
  },
  {
   "cell_type": "markdown",
   "metadata": {},
   "source": [
    "In this section, we analyze the distribution of extracted skills across candidates by incorporating **age** information.\n",
    "\n",
    "We focus on:\n",
    "\n",
    "* Exploring the distribution of skills by age.\n",
    "* Identifying job roles where the skill sets parsed from CVs exhibit significant age disparities.\n",
    "* Uncovering potential biases in how skills are emphasized for different ages."
   ]
  },
  {
   "cell_type": "code",
   "execution_count": null,
   "metadata": {},
   "outputs": [],
   "source": [
    "df_age_candidates = df_info_candidates.join(df_skills, on=\"CANDIDATE_ID\").select(\n",
    "    \"CANDIDATE_ID\", \"Age_bucket\", \"Skill\", \"Skill_Type\"\n",
    ")\n",
    "df_age_candidates"
   ]
  },
  {
   "cell_type": "code",
   "execution_count": null,
   "metadata": {},
   "outputs": [],
   "source": [
    "df_age_per_candidate = df_age_candidates.select(\"CANDIDATE_ID\", \"Age_bucket\").unique(\n",
    "    maintain_order=True\n",
    ")\n",
    "plot_histogram(\n",
    "    df_age_per_candidate[\"Age_bucket\"],\n",
    "    normalize=True,\n",
    "    title=\"Candidates Age Distribution\",\n",
    ")"
   ]
  },
  {
   "cell_type": "code",
   "execution_count": null,
   "metadata": {},
   "outputs": [],
   "source": [
    "df_age_candidates = df_age_candidates.filter(pl.col(\"Age_bucket\") != \"Unknown\")\n",
    "skills_per_age = dict(\n",
    "    sorted(split_df_per_attribute(df_age_candidates, \"Age_bucket\").items())\n",
    ")\n",
    "plot_target_distribution(skills_per_age, \"Age Skill Type Distribution\")"
   ]
  },
  {
   "cell_type": "code",
   "execution_count": null,
   "metadata": {},
   "outputs": [],
   "source": [
    "prof_skills_per_age = {\n",
    "    attr: df.filter(pl.col(\"Skill_Type\") == \"Professional_Skill\")[\"Skill\"]\n",
    "    for attr, df in skills_per_age.items()\n",
    "}\n",
    "\n",
    "age_weights = {\n",
    "    key: 1 / len(df[\"CANDIDATE_ID\"].unique()) for key, df in skills_per_age.items()\n",
    "}\n",
    "\n",
    "age_colors = {\"25-34\": \"#99bdd4\", \"45-54\": \"#5499c7\", \"55-74\": \"#1e5579\"}\n",
    "\n",
    "compute_and_plot_disparity(\n",
    "    prof_skills_per_age,\n",
    "    attribute_name=\"Professional_Skills\",\n",
    "    weights_dict=age_weights,\n",
    "    colors=age_colors,\n",
    ")"
   ]
  },
  {
   "cell_type": "code",
   "execution_count": null,
   "metadata": {},
   "outputs": [],
   "source": [
    "it_skills_per_age = {\n",
    "    attr: df.filter(pl.col(\"Skill_Type\") == \"IT_Skill\")[\"Skill\"]\n",
    "    for attr, df in skills_per_age.items()\n",
    "}\n",
    "\n",
    "\n",
    "compute_and_plot_disparity(\n",
    "    it_skills_per_age,\n",
    "    attribute_name=\"IT_Skills\",\n",
    "    weights_dict=age_weights,\n",
    "    colors=age_colors,\n",
    ")"
   ]
  },
  {
   "cell_type": "code",
   "execution_count": null,
   "metadata": {},
   "outputs": [],
   "source": [
    "job_titles_per_age = {\n",
    "    attr: df.filter(pl.col(\"Skill_Type\") == \"Job_title\")[\"Skill\"]\n",
    "    for attr, df in skills_per_age.items()\n",
    "}\n",
    "\n",
    "\n",
    "compute_and_plot_disparity(\n",
    "    job_titles_per_age,\n",
    "    attribute_name=\"Job_titles\",\n",
    "    weights_dict=age_weights,\n",
    "    colors=age_colors,\n",
    ")"
   ]
  },
  {
   "cell_type": "code",
   "execution_count": null,
   "metadata": {},
   "outputs": [],
   "source": [
    "lang_skills_per_age = {\n",
    "    attr: df.filter(pl.col(\"Skill_Type\") == \"Language_Skill\")[\"Skill\"]\n",
    "    for attr, df in skills_per_age.items()\n",
    "}\n",
    "\n",
    "\n",
    "compute_and_plot_disparity(\n",
    "    lang_skills_per_age,\n",
    "    attribute_name=\"Language_Skills\",\n",
    "    weights_dict=age_weights,\n",
    "    colors=age_colors,\n",
    ")"
   ]
  },
  {
   "cell_type": "code",
   "execution_count": null,
   "metadata": {},
   "outputs": [],
   "source": [
    "driverslic_per_age = {\n",
    "    attr: df.filter(pl.col(\"Skill_Type\") == \"DRIVERSLIC\")[\"Skill\"]\n",
    "    for attr, df in skills_per_age.items()\n",
    "}\n",
    "\n",
    "\n",
    "compute_and_plot_disparity(\n",
    "    driverslic_per_age,\n",
    "    min_threshold=0.0,\n",
    "    attribute_name=\"DRIVERSLIC\",\n",
    "    weights_dict=age_weights,\n",
    "    colors=age_colors,\n",
    ")"
   ]
  },
  {
   "cell_type": "markdown",
   "metadata": {},
   "source": [
    "## Hard-Soft Skills Analysis"
   ]
  },
  {
   "cell_type": "markdown",
   "metadata": {},
   "source": [
    "In this section, we analyze the distribution of extracted skills across candidates by incorporating **the hard/soft skills label**. (column `Professional_Skill`)\n",
    "\n",
    "We will see the relations between this label and the three areas already explored, with the aim to investigate better possible biases. "
   ]
  },
  {
   "cell_type": "code",
   "execution_count": null,
   "metadata": {},
   "outputs": [],
   "source": [
    "hard_soft_skills = load_data(HARD_SOFT_SKILLS)\n",
    "df_skills_with_label = df_skills.join(hard_soft_skills, on=\"Skill\")\n",
    "df_skills_with_gender = df_skills_with_label.join(\n",
    "    df_info_candidates.select([\"CANDIDATE_ID\", \"Gender\"]), on=\"CANDIDATE_ID\"\n",
    ")\n",
    "df_skills_with_gender"
   ]
  },
  {
   "cell_type": "markdown",
   "metadata": {},
   "source": [
    "Let's now see the gender distribution on this section of candidates. "
   ]
  },
  {
   "cell_type": "code",
   "execution_count": null,
   "metadata": {},
   "outputs": [],
   "source": [
    "gender_counts_df = get_category_distribution(df_info_candidates, \"Gender\")\n",
    "gender_counts_df"
   ]
  },
  {
   "cell_type": "code",
   "execution_count": null,
   "metadata": {},
   "outputs": [],
   "source": [
    "df_gender_bias = get_skill_target_share(\n",
    "    df_skills_with_gender,\n",
    "    gender_counts_df,\n",
    "    target_col=\"Gender\",\n",
    "    target_values=[\"Male\", \"Female\"],\n",
    "    skill_col=[\"label\"],\n",
    ")\n",
    "df_gender_bias"
   ]
  },
  {
   "cell_type": "markdown",
   "metadata": {},
   "source": [
    "As we can see from the chart below, soft skills are prevalent for female candidates. (counts are normalized, as before, considering the prior distribution)"
   ]
  },
  {
   "cell_type": "code",
   "execution_count": null,
   "metadata": {},
   "outputs": [],
   "source": [
    "plot_bias_skills_bar(\n",
    "    df_gender_bias,\n",
    "    \"label\",\n",
    "    gender_percs_dict,\n",
    "    \"perc_diff\",\n",
    "    \"Top Skills with Highest Gender Imbalance\",\n",
    "    colors=gender_colors,\n",
    "    figsize=(10, 6),\n",
    ")"
   ]
  },
  {
   "cell_type": "markdown",
   "metadata": {},
   "source": [
    "### Hard/Soft Skills: Geographical Analysis"
   ]
  },
  {
   "cell_type": "code",
   "execution_count": null,
   "metadata": {},
   "outputs": [],
   "source": [
    "df_skills_with_location = df_skills_with_label.join(\n",
    "    df_skill_candidates_localized.select(\"CANDIDATE_ID\", \"Location\", \"Skill\"),\n",
    "    on=[\"CANDIDATE_ID\", \"Skill\"],\n",
    "    coalesce=True,\n",
    ")\n",
    "df_skills_with_location"
   ]
  },
  {
   "cell_type": "code",
   "execution_count": null,
   "metadata": {},
   "outputs": [],
   "source": [
    "location_counts_df = get_category_distribution(\n",
    "    df_skill_candidates_localized.unique(\"CANDIDATE_ID\"), \"Location\"\n",
    ")\n",
    "location_counts_df"
   ]
  },
  {
   "cell_type": "code",
   "execution_count": null,
   "metadata": {},
   "outputs": [],
   "source": [
    "df_location_bias = get_skill_target_share(\n",
    "    df_skills_with_location,\n",
    "    location_counts_df,\n",
    "    target_col=\"Location\",\n",
    "    target_values=[\"NORTH\", \"CENTER\", \"SOUTH\"],\n",
    "    skill_col=[\"label\"],\n",
    ")\n",
    "df_location_bias"
   ]
  },
  {
   "cell_type": "markdown",
   "metadata": {},
   "source": [
    "As shown in the chart below, the Northern bars are consistently the tallest, indicating that candidates from the **North** have, on average, **more skills**."
   ]
  },
  {
   "cell_type": "code",
   "execution_count": null,
   "metadata": {},
   "outputs": [],
   "source": [
    "location_percs_dict = {\n",
    "    \"NORTH\": \"perc_north\",\n",
    "    \"CENTER\": \"perc_center\",\n",
    "    \"SOUTH\": \"perc_south\",\n",
    "}\n",
    "\n",
    "plot_bias_skills_bar(\n",
    "    df_location_bias,\n",
    "    \"label\",\n",
    "    location_percs_dict,\n",
    "    \"perc_diff\",\n",
    "    \"Top Skills with Highest Location Imbalance\",\n",
    "    colors=location_colors,\n",
    "    figsize=(10, 6),\n",
    ")"
   ]
  },
  {
   "cell_type": "markdown",
   "metadata": {},
   "source": [
    "### Hard/Soft Skills: Age Analysis"
   ]
  },
  {
   "cell_type": "code",
   "execution_count": null,
   "metadata": {},
   "outputs": [],
   "source": [
    "df_skills_with_age = df_skills_with_label.join(\n",
    "    df_info_candidates.select(\"CANDIDATE_ID\", \"Age_bucket\"),\n",
    "    on=[\"CANDIDATE_ID\"],\n",
    "    coalesce=True,\n",
    ")\n",
    "df_skills_with_age"
   ]
  },
  {
   "cell_type": "code",
   "execution_count": null,
   "metadata": {},
   "outputs": [],
   "source": [
    "age_counts_df = get_category_distribution(df_info_candidates, \"Age_bucket\")\n",
    "age_counts_df"
   ]
  },
  {
   "cell_type": "code",
   "execution_count": null,
   "metadata": {},
   "outputs": [],
   "source": [
    "df_age_bias = get_skill_target_share(\n",
    "    df_skills_with_age,\n",
    "    age_counts_df,\n",
    "    target_col=\"Age_bucket\",\n",
    "    target_values=[\"25-34\", \"45-54\", \"55-74\"],\n",
    "    skill_col=[\"label\"],\n",
    ")\n",
    "df_age_bias"
   ]
  },
  {
   "cell_type": "code",
   "execution_count": null,
   "metadata": {},
   "outputs": [],
   "source": [
    "age_percs_dict = {\n",
    "    \"25-34\": \"perc_25-34\",\n",
    "    \"45-54\": \"perc_45-54\",\n",
    "    \"55-74\": \"perc_55-74\",\n",
    "}\n",
    "\n",
    "plot_bias_skills_bar(\n",
    "    df_age_bias,\n",
    "    \"label\",\n",
    "    age_percs_dict,\n",
    "    \"perc_diff\",\n",
    "    \"Top Skills with Highest Age Imbalance\",\n",
    "    colors=age_colors,\n",
    "    figsize=(10, 6),\n",
    ")"
   ]
  }
 ],
 "metadata": {
  "kernelspec": {
   "display_name": ".venv",
   "language": "python",
   "name": "python3"
  },
  "language_info": {
   "codemirror_mode": {
    "name": "ipython",
    "version": 3
   },
   "file_extension": ".py",
   "mimetype": "text/x-python",
   "name": "python",
   "nbconvert_exporter": "python",
   "pygments_lexer": "ipython3",
   "version": "3.12.10"
  }
 },
 "nbformat": 4,
 "nbformat_minor": 4
}

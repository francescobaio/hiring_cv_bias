{
 "cells": [
  {
   "cell_type": "markdown",
   "metadata": {},
   "source": [
    "# Data exploration"
   ]
  },
  {
   "cell_type": "markdown",
   "metadata": {},
   "source": [
    "**Main objective**\n",
    "\n",
    "In this notebook, the main objectives are: \n",
    "* Explore the distribution of parsed skills and job information.\n",
    "* Analyze the distribution of the number of skills per candidate and identify outliers.\n",
    "* Examine the distributions of hard and soft skills."
   ]
  },
  {
   "cell_type": "code",
   "execution_count": null,
   "metadata": {},
   "outputs": [],
   "source": [
    "%load_ext autoreload \n",
    "%autoreload 2\n",
    "import matplotlib.pyplot as plt\n",
    "import polars as pl\n",
    "\n",
    "from hiring_cv_bias.config import CLEANED_SKILLS, HARD_SOFT_SKIILS\n",
    "from hiring_cv_bias.exploration.utils import plot_boxplot, plot_distribution_bar\n",
    "from hiring_cv_bias.exploration.visualize import (\n",
    "    plot_skills_frequency,\n",
    "    plot_skills_per_category,\n",
    "    plot_top_skills_for_job_title,\n",
    ")\n",
    "from hiring_cv_bias.utils import load_data"
   ]
  },
  {
   "cell_type": "code",
   "execution_count": null,
   "metadata": {},
   "outputs": [],
   "source": [
    "cv_skills = load_data(CLEANED_SKILLS)\n",
    "cv_skills.head(10)"
   ]
  },
  {
   "cell_type": "markdown",
   "metadata": {},
   "source": [
    "### Skill Extraction by Category\n",
    "\n",
    "The bar chart displays the total number of skills extracted for each **skill_type**:\n",
    "\n",
    "- **Professional_Skill**: ~68,000 occurrences — the most frequently identified category.  \n",
    "- **Job_title**: ~23,000 occurrences.  \n",
    "- **IT_Skill**: ~22,000 occurrences.  \n",
    "- **Language_Skill**: ~13,000 occurrences.  \n",
    "- **DRIVERSLIC**: ~2,500 occurrences — the least common category.  "
   ]
  },
  {
   "cell_type": "code",
   "execution_count": null,
   "metadata": {},
   "outputs": [],
   "source": [
    "skill_counts = (\n",
    "    cv_skills.group_by(\"Skill_Type\")\n",
    "    .agg(pl.count(\"Skill_Type\").alias(\"count\"))\n",
    "    .sort(\"count\", descending=True)\n",
    ")\n",
    "skill_counts"
   ]
  },
  {
   "cell_type": "code",
   "execution_count": null,
   "metadata": {},
   "outputs": [],
   "source": [
    "plot_skills_frequency(cv_skills)"
   ]
  },
  {
   "cell_type": "markdown",
   "metadata": {},
   "source": [
    "### Top N Skills by Category\n",
    "\n",
    "The `plot_skills_per_category` function can be used to visualize the most frequent skills within any given skill category. It:\n",
    "\n",
    "1. Filters the `cv_skills` DataFrame by the chosen `skill_type`.  \n",
    "2. Computes the frequency of each individual skill in that category.  \n",
    "3. Plots the top _n_ skills by their occurrence count.  \n",
    "\n",
    "With the parameters below, we are displaying the **top 10** most common skills for the **Job_title** category."
   ]
  },
  {
   "cell_type": "code",
   "execution_count": null,
   "metadata": {},
   "outputs": [],
   "source": [
    "skill_pd = plot_skills_per_category(cv_skills, \"Job_title\", top_n=10)"
   ]
  },
  {
   "cell_type": "markdown",
   "metadata": {},
   "source": [
    "#### Top N Skills for a Given Job Title\n",
    "\n",
    "This function shows you the most common `<type_skill>` for candidates who have a specific `<job_title>`. It simply:\n",
    "\n",
    "1. Picks out all candidates with the chosen job title.  \n",
    "2. Collects their skills of **the specified category**.  \n",
    "3. Counts how often each skill appears.  \n",
    "4. Plots the top _n_ skills by frequency.\n",
    "\n",
    "With the parameters below, we are displaying the **top 10** most frequent **IT skills** among **“Commis Chef (m/f)”** candidates."
   ]
  },
  {
   "cell_type": "code",
   "execution_count": null,
   "metadata": {},
   "outputs": [],
   "source": [
    "plot_top_skills_for_job_title(cv_skills, \"Commis Chef (m/f)\", \"IT_Skill\", top_n=20)"
   ]
  },
  {
   "cell_type": "code",
   "execution_count": null,
   "metadata": {},
   "outputs": [],
   "source": [
    "plot_top_skills_for_job_title(\n",
    "    cv_skills, \"Commis Chef (m/f)\", \"Professional_Skill\", top_n=20\n",
    ")"
   ]
  },
  {
   "cell_type": "code",
   "execution_count": null,
   "metadata": {},
   "outputs": [],
   "source": [
    "plot_top_skills_for_job_title(\n",
    "    cv_skills, \"Commis Chef (m/f)\", \"Language_Skill\", top_n=10\n",
    ")"
   ]
  },
  {
   "cell_type": "code",
   "execution_count": null,
   "metadata": {},
   "outputs": [],
   "source": [
    "plot_top_skills_for_job_title(cv_skills, \"Commis Chef (m/f)\", \"DRIVERSLIC\", top_n=10)"
   ]
  },
  {
   "cell_type": "markdown",
   "metadata": {},
   "source": [
    "### Counting Skills per Candidate"
   ]
  },
  {
   "cell_type": "markdown",
   "metadata": {},
   "source": [
    "In this step, we aim to:\n",
    "\n",
    "- **Visualize the distribution** of the number of skills extracted per candidate.\n",
    "- **Spot and investigate outliers**, candidates who list an unusually high number of skills."
   ]
  },
  {
   "cell_type": "code",
   "execution_count": null,
   "metadata": {},
   "outputs": [],
   "source": [
    "skill_counts = cv_skills.group_by(\"CANDIDATE_ID\").len()\n",
    "\n",
    "fig, ax = plt.subplots(figsize=(10, 6))\n",
    "ax.hist(skill_counts[\"len\"], bins=40, edgecolor=\"black\")\n",
    "ax.set_title(\"Distribution of Number of Skills per Candidate\", fontsize=14, pad=10)\n",
    "ax.set_xlabel(\"Number of Skills\", fontsize=12)\n",
    "ax.set_ylabel(\"Number of Candidates\", fontsize=12)\n",
    "ax.grid(axis=\"y\", linestyle=\"--\", linewidth=0.7, alpha=0.7)"
   ]
  },
  {
   "cell_type": "code",
   "execution_count": null,
   "metadata": {},
   "outputs": [],
   "source": [
    "plot_boxplot(\n",
    "    data=skill_counts[\"len\"],\n",
    "    labels=None,\n",
    "    title=\"Boxplot of Skills per Candidate\",\n",
    "    xlabel=\"Number of Skills\",\n",
    "    colors=[\"orange\"],\n",
    "    figsize=(10, 2),\n",
    ")"
   ]
  },
  {
   "cell_type": "markdown",
   "metadata": {},
   "source": [
    "### Hard vs Soft Skills Analysis\n"
   ]
  },
  {
   "cell_type": "markdown",
   "metadata": {},
   "source": [
    "In this section, we investigate the distribution of **hard** and **soft** skills extracted from the candidate CVs. (column `Professional_Skill`)\n",
    "\n",
    "> The logic used to label each skill as *hard* or *soft* is documented in the `hard_soft_labelling.ipynb` notebook.\n",
    "\n",
    "Here we present:\n",
    "- **Total distribution** of hard vs soft skills across all candidates.\n",
    "- **Distribution per candidate**: number of hard vs soft skills per individual, to highlight representation gaps."
   ]
  },
  {
   "cell_type": "code",
   "execution_count": null,
   "metadata": {},
   "outputs": [],
   "source": [
    "hard_soft_skills = pl.read_csv(HARD_SOFT_SKIILS)\n",
    "hard_soft_skills"
   ]
  },
  {
   "cell_type": "code",
   "execution_count": null,
   "metadata": {},
   "outputs": [],
   "source": [
    "cv_skills_with_label = cv_skills.join(hard_soft_skills, on=\"Skill\")\n",
    "cv_skills_with_label"
   ]
  },
  {
   "cell_type": "markdown",
   "metadata": {},
   "source": [
    "* **Hard skills** dominate the dataset, accounting for roughly ~80% of all skills extracted from the CVs.\n",
    "\n",
    "* **Soft skills** are markedly under represented, at about one skill in six.\n",
    "\n",
    "> A small remainder is classified as “Unknown” terms that did not match either taxonomy, highlighting the presence of noise in the parsed skills data. (see `hard_soft_labelling.ipynb`)"
   ]
  },
  {
   "cell_type": "code",
   "execution_count": null,
   "metadata": {},
   "outputs": [],
   "source": [
    "counts = cv_skills_with_label[\"label\"].value_counts()\n",
    "plot_distribution_bar(\n",
    "    counts,\n",
    "    \"label\",\n",
    "    \"count\",\n",
    "    \"Label\",\n",
    "    \"Frequency\",\n",
    "    \"Absolute frequency for Hard/Soft skills\",\n",
    ")"
   ]
  },
  {
   "cell_type": "markdown",
   "metadata": {},
   "source": [
    "As we can see from the analysis below:\n",
    "\n",
    "* **Most applicants (about two thirds)** mention at least one hard **and** one soft skill, suggesting reasonably balanced self presentation.\n",
    "\n",
    "* **One third list exclusively hard skills**; they highlight technical competence but leave behavioural strengths implicit.\n",
    "\n",
    "* **Soft skill only CVs** are extremely rare; almost nobody relies on soft skills without pairing them with technical ones.\n",
    "\n",
    "A negligible fraction provide no skills at all, indicating either very short resumes or parsing errors that merit inspection.\n",
    "\n",
    "These proportions flag a potential representational gap: while hard skills dominate completely, soft skills appear primarily in combination with hard ones rather than standing alone."
   ]
  },
  {
   "cell_type": "code",
   "execution_count": null,
   "metadata": {},
   "outputs": [],
   "source": [
    "per_cand = (\n",
    "    cv_skills_with_label.group_by([\"CANDIDATE_ID\", \"label\"])\n",
    "    .agg(pl.len())\n",
    "    .pivot(\n",
    "        index=\"CANDIDATE_ID\",\n",
    "        on=\"label\",\n",
    "        values=\"len\",\n",
    "    )\n",
    "    .fill_null(0)\n",
    "    .with_columns(\n",
    "        [\n",
    "            (pl.col(\"Hard\") + pl.col(\"Soft\") + pl.col(\"Unknown\").fill_null(0)).alias(\n",
    "                \"total\"\n",
    "            ),\n",
    "        ]\n",
    "    )\n",
    ")"
   ]
  },
  {
   "cell_type": "code",
   "execution_count": null,
   "metadata": {},
   "outputs": [],
   "source": [
    "cats = per_cand.with_columns(\n",
    "    [\n",
    "        pl.when((pl.col(\"Hard\") == 0) & (pl.col(\"Soft\") == 0))\n",
    "        .then(pl.lit(\"No skills\"))\n",
    "        .when((pl.col(\"Hard\") > 0) & (pl.col(\"Soft\") == 0))\n",
    "        .then(pl.lit(\"Only hard\"))\n",
    "        .when((pl.col(\"Hard\") == 0) & (pl.col(\"Soft\") > 0))\n",
    "        .then(pl.lit(\"Only soft\"))\n",
    "        .otherwise(pl.lit(\"Both\"))\n",
    "        .alias(\"category\")\n",
    "    ]\n",
    ")\n",
    "\n",
    "counts = cats.group_by(\"category\").len().sort(\"len\", descending=True)\n",
    "\n",
    "plot_distribution_bar(\n",
    "    counts, \"category\", \"len\", \"Label\", \"Frequency\", \"Frequency for Hard/Soft skills\"\n",
    ")"
   ]
  },
  {
   "cell_type": "code",
   "execution_count": null,
   "metadata": {},
   "outputs": [],
   "source": [
    "per_cand = per_cand.with_columns(\n",
    "    (pl.col(\"Hard\") / pl.col(\"total\")).alias(\"hard_share\"),\n",
    ")\n",
    "per_cand"
   ]
  },
  {
   "cell_type": "markdown",
   "metadata": {},
   "source": [
    "The chart shows how technical competences (**hard skills**) are distributed across each candidate.\n",
    "\n",
    "For each one of them we calculate the **hard skill share**, the ratio between the number of hard skills and the total number of skills, listed (hard + soft + any unknown items) and we plot all of these percentages in a histogram."
   ]
  },
  {
   "cell_type": "code",
   "execution_count": null,
   "metadata": {},
   "outputs": [],
   "source": [
    "data = per_cand[\"hard_share\"].to_numpy()\n",
    "\n",
    "plt.figure(figsize=(8, 4))\n",
    "plt.hist(data, bins=20, edgecolor=\"black\")\n",
    "plt.xlabel(\"Share of hard skills per CV\")\n",
    "plt.ylabel(\"Number of candidates\")\n",
    "plt.title(\"Distribution of Hard-Skill Share Across CVs\")\n",
    "plt.tight_layout()\n",
    "plt.show()"
   ]
  },
  {
   "cell_type": "markdown",
   "metadata": {},
   "source": [
    "The box plot highlights several outliers. (reporting 40 + hard skills or 15 + soft skills)\n",
    "\n",
    "Such counts are well beyond the typical range and **may** indicate parsing errors (e.g bullet points misclassified as skills, the same skill split into multiple tokens ecc).\n",
    "These outliers should be reviewed manually to confirm whether they reflect genuine, unusually rich profiles or artefacts produced by the parsing pipeline."
   ]
  },
  {
   "cell_type": "code",
   "execution_count": null,
   "metadata": {},
   "outputs": [],
   "source": [
    "plot_boxplot(\n",
    "    data=[per_cand[\"Hard\"], per_cand[\"Soft\"]],\n",
    "    labels=[\"Hard\", \"Soft\"],\n",
    "    title=\"Hard vs Soft Skill Distribution\",\n",
    "    xlabel=\"Number of Skills\",\n",
    "    colors=[\"#1f77b4\", \"#ff7f0e\"],\n",
    "    figsize=(6, 4),\n",
    ")"
   ]
  }
 ],
 "metadata": {
  "kernelspec": {
   "display_name": ".venv",
   "language": "python",
   "name": "python3"
  },
  "language_info": {
   "codemirror_mode": {
    "name": "ipython",
    "version": 3
   },
   "file_extension": ".py",
   "mimetype": "text/x-python",
   "name": "python",
   "nbconvert_exporter": "python",
   "pygments_lexer": "ipython3",
   "version": "3.11.9"
  },
  "rise": {
   "autolaunch": false,
   "enable_chalkboard": true
  }
 },
 "nbformat": 4,
 "nbformat_minor": 4
}

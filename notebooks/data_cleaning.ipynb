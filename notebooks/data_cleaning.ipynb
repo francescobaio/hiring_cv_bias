{
 "cells": [
  {
   "cell_type": "markdown",
   "id": "0",
   "metadata": {
    "editable": true,
    "slideshow": {
     "slide_type": ""
    },
    "tags": []
   },
   "source": [
    "# Data Cleaning\n",
    "\n",
    "**Main Objective:**  \n",
    "In this notebook we inspect and clean missing or duplicate values in the three main datasets:\n",
    "\n",
    "1. **Raw CVs** (original, unstructured CV text)  \n",
    "2. **Parsed Skills** (the `cv_skills` DataFrame that feeds the matcher)  \n",
    "3. **Matcher Results** (output CSV from the matching algorithm)"
   ]
  },
  {
   "cell_type": "code",
   "execution_count": 248,
   "id": "1",
   "metadata": {},
   "outputs": [
    {
     "name": "stdout",
     "output_type": "stream",
     "text": [
      "The autoreload extension is already loaded. To reload it, use:\n",
      "  %reload_ext autoreload\n"
     ]
    }
   ],
   "source": [
    "%load_ext autoreload \n",
    "%autoreload 2\n",
    "\n",
    "import polars as pl\n",
    "\n",
    "from hiring_cv_bias.cleaning.common import (\n",
    "    cramers_v,\n",
    "    filter_out_candidate_ids,\n",
    "    find_garbage_skill_rows,\n",
    "    inspect_missing,\n",
    "    plot_cramer_matrix,\n",
    ")\n",
    "from hiring_cv_bias.cleaning.raw_cv import (\n",
    "    add_length_column,\n",
    "    assess_translation_completeness,\n",
    "    detect_corrupted_cvs,\n",
    "    detect_repetitive_cvs,\n",
    "    detect_vocab_sparsity,\n",
    "    filter_placeholder_tails,\n",
    "    find_and_print_short_cvs,\n",
    "    is_this_language,\n",
    "    plot_length_histogram,\n",
    ")\n",
    "from hiring_cv_bias.config import (\n",
    "    CANDIDATE_CVS_TRANSLATED_PATH,\n",
    "    PARSED_DATA_PATH,\n",
    "    REVERSE_MATCHING_PATH,\n",
    ")\n",
    "from hiring_cv_bias.utils import (\n",
    "    filter_unknown_and_other_rows,\n",
    "    load_data,\n",
    "    load_excel_sheets,\n",
    ")"
   ]
  },
  {
   "cell_type": "markdown",
   "id": "2",
   "metadata": {},
   "source": [
    "## 1. **Raw CVs** Cleaning Steps"
   ]
  },
  {
   "cell_type": "markdown",
   "id": "3",
   "metadata": {},
   "source": [
    "### 1. Schema & Load \n"
   ]
  },
  {
   "cell_type": "markdown",
   "id": "4",
   "metadata": {},
   "source": [
    "   - Define expected columns and data types\n",
    "   - Load CSV into Polars DataFrame, verify row count matches the number of uniques Candidate IDs."
   ]
  },
  {
   "cell_type": "code",
   "execution_count": 249,
   "id": "5",
   "metadata": {},
   "outputs": [
    {
     "name": "stdout",
     "output_type": "stream",
     "text": [
      "DataFrame schema: Schema({'CANDIDATE_ID': Int64, 'CV_text_anon': String, 'Translated_CV': String})\n",
      "Loaded: 7769 CVs\n",
      "Unique CANDIDATE_ID: 7769\n"
     ]
    },
    {
     "data": {
      "text/html": [
       "<div><style>\n",
       ".dataframe > thead > tr,\n",
       ".dataframe > tbody > tr {\n",
       "  text-align: right;\n",
       "  white-space: pre-wrap;\n",
       "}\n",
       "</style>\n",
       "<small>shape: (5, 3)</small><table border=\"1\" class=\"dataframe\"><thead><tr><th>CANDIDATE_ID</th><th>CV_text_anon</th><th>Translated_CV</th></tr><tr><td>i64</td><td>str</td><td>str</td></tr></thead><tbody><tr><td>6892877</td><td>&quot;CV anonimizzato:\n",
       "&quot;&quot;&quot;\n",
       "Traduttri…</td><td>&quot; translator en&amp;lt;&amp;gt;it, es&amp;l…</td></tr><tr><td>5216553</td><td>&quot;CV anonimizzato:\n",
       "\n",
       "&quot;&quot;&quot;\n",
       "Formato …</td><td>&quot; European format for CV person…</td></tr><tr><td>6965925</td><td>&quot;CV anonimizzato:\n",
       "&quot;&quot;&quot;\n",
       "ㅡ\n",
       "Possied…</td><td>&quot; ㅡ I have a certificate of low…</td></tr><tr><td>7329099</td><td>&quot;CV anonimizzato:\n",
       "&quot;&quot;&quot;\n",
       "&nbsp;&nbsp;&nbsp;&nbsp;&nbsp;\n",
       "F O…</td><td>&quot; europeanformatforcurriculumvi…</td></tr><tr><td>1698394</td><td>&quot;CV anonimizzato:\n",
       "&quot;&quot;&quot;\n",
       "Operaia\n",
       "I…</td><td>&quot; worker contact information da…</td></tr></tbody></table></div>"
      ],
      "text/plain": [
       "shape: (5, 3)\n",
       "┌──────────────┬──────────────────┬─────────────────────────────────┐\n",
       "│ CANDIDATE_ID ┆ CV_text_anon     ┆ Translated_CV                   │\n",
       "│ ---          ┆ ---              ┆ ---                             │\n",
       "│ i64          ┆ str              ┆ str                             │\n",
       "╞══════════════╪══════════════════╪═════════════════════════════════╡\n",
       "│ 6892877      ┆ CV anonimizzato: ┆  translator en&lt;&gt;it, es&l… │\n",
       "│              ┆ \"\"\"              ┆                                 │\n",
       "│              ┆ Traduttri…       ┆                                 │\n",
       "│ 5216553      ┆ CV anonimizzato: ┆  European format for CV person… │\n",
       "│              ┆                  ┆                                 │\n",
       "│              ┆ \"\"\"              ┆                                 │\n",
       "│              ┆ Formato …        ┆                                 │\n",
       "│ 6965925      ┆ CV anonimizzato: ┆ ㅡ I have a certificate of low… │\n",
       "│              ┆ \"\"\"              ┆                                 │\n",
       "│              ┆ ㅡ               ┆                                 │\n",
       "│              ┆ Possied…         ┆                                 │\n",
       "│ 7329099      ┆ CV anonimizzato: ┆  europeanformatforcurriculumvi… │\n",
       "│              ┆ \"\"\"              ┆                                 │\n",
       "│              ┆                  ┆                                 │\n",
       "│              ┆ F O…             ┆                                 │\n",
       "│ 1698394      ┆ CV anonimizzato: ┆  worker contact information da… │\n",
       "│              ┆ \"\"\"              ┆                                 │\n",
       "│              ┆ Operaia          ┆                                 │\n",
       "│              ┆ I…               ┆                                 │\n",
       "└──────────────┴──────────────────┴─────────────────────────────────┘"
      ]
     },
     "metadata": {},
     "output_type": "display_data"
    }
   ],
   "source": [
    "raw_cv = load_data(CANDIDATE_CVS_TRANSLATED_PATH)\n",
    "print(\"DataFrame schema:\", raw_cv.schema)\n",
    "print(f\"Loaded: {raw_cv.height} CVs\")\n",
    "\n",
    "################\n",
    "\n",
    "total_rows = raw_cv.height\n",
    "unique_ids = raw_cv.select(pl.col(\"CANDIDATE_ID\")).unique().height\n",
    "print(f\"Unique CANDIDATE_ID: {unique_ids}\")\n",
    "display(raw_cv.sample(5))"
   ]
  },
  {
   "cell_type": "markdown",
   "id": "6",
   "metadata": {},
   "source": [
    "### 2. Missing Value Inspection \n"
   ]
  },
  {
   "cell_type": "markdown",
   "id": "7",
   "metadata": {},
   "source": [
    "   - Count nulls per column, compute percentage of missing values and report any columns with > 0% missing."
   ]
  },
  {
   "cell_type": "code",
   "execution_count": 250,
   "id": "8",
   "metadata": {},
   "outputs": [
    {
     "name": "stdout",
     "output_type": "stream",
     "text": [
      "Missing value summary:\n",
      "\n"
     ]
    },
    {
     "data": {
      "text/html": [
       "<div><style>\n",
       ".dataframe > thead > tr,\n",
       ".dataframe > tbody > tr {\n",
       "  text-align: right;\n",
       "  white-space: pre-wrap;\n",
       "}\n",
       "</style>\n",
       "<small>shape: (3, 3)</small><table border=\"1\" class=\"dataframe\"><thead><tr><th>column</th><th>n_missing</th><th>pct_missing</th></tr><tr><td>str</td><td>u32</td><td>f64</td></tr></thead><tbody><tr><td>&quot;CANDIDATE_ID&quot;</td><td>0</td><td>0.0</td></tr><tr><td>&quot;CV_text_anon&quot;</td><td>0</td><td>0.0</td></tr><tr><td>&quot;Translated_CV&quot;</td><td>0</td><td>0.0</td></tr></tbody></table></div>"
      ],
      "text/plain": [
       "shape: (3, 3)\n",
       "┌───────────────┬───────────┬─────────────┐\n",
       "│ column        ┆ n_missing ┆ pct_missing │\n",
       "│ ---           ┆ ---       ┆ ---         │\n",
       "│ str           ┆ u32       ┆ f64         │\n",
       "╞═══════════════╪═══════════╪═════════════╡\n",
       "│ CANDIDATE_ID  ┆ 0         ┆ 0.0         │\n",
       "│ CV_text_anon  ┆ 0         ┆ 0.0         │\n",
       "│ Translated_CV ┆ 0         ┆ 0.0         │\n",
       "└───────────────┴───────────┴─────────────┘"
      ]
     },
     "metadata": {},
     "output_type": "display_data"
    },
    {
     "name": "stdout",
     "output_type": "stream",
     "text": [
      "\n",
      "No missing values detected in any column.\n"
     ]
    }
   ],
   "source": [
    "inspect_missing(raw_cv)"
   ]
  },
  {
   "cell_type": "markdown",
   "id": "9",
   "metadata": {},
   "source": [
    "### 3. Short or Empty CV Detection  "
   ]
  },
  {
   "cell_type": "markdown",
   "id": "10",
   "metadata": {},
   "source": [
    "Under this step we will:\n",
    "\n",
    "1. **Empty / Whitespace-Only/ Very Short Text** \n",
    "\n",
    "   - Filter out any records where `CV_text_anon` is below a chosen threshold (e.g. 300 characters), showing their IDs and snippets for manual review.\n",
    "\n",
    "2. **High Repetition**\n",
    "   - Split each CV into non-empty lines, count `n_lines` and `unique_lines`.  \n",
    "   - Compute `repetition_ratio = 1 − (unique_lines / n_lines)`.  \n",
    "   - Flag and drop any CVs with `repetition_ratio` above a threshold (e.g. > 0.7).\n",
    "   - These checks ensure we remove any CVs that are dominated by boilerplate before proceeding with further analysis."
   ]
  },
  {
   "cell_type": "code",
   "execution_count": 251,
   "id": "11",
   "metadata": {},
   "outputs": [
    {
     "data": {
      "image/png": "[encoded data removed]",
      "text/plain": [
       "<Figure size 800x600 with 1 Axes>"
      ]
     },
     "metadata": {},
     "output_type": "display_data"
    }
   ],
   "source": [
    "plot_length_histogram(raw_cv, text_col=\"CV_text_anon\", bin_size=300, max_bin=3000)"
   ]
  },
  {
   "cell_type": "markdown",
   "id": "12",
   "metadata": {},
   "source": [
    "Remove Empty / Whitespace-Only/ Very Short Text"
   ]
  },
  {
   "cell_type": "code",
   "execution_count": 252,
   "id": "13",
   "metadata": {},
   "outputs": [
    {
     "name": "stdout",
     "output_type": "stream",
     "text": [
      "Found 77 CVs with CV_text_anon < 300 chars. Showing up to 10:\n",
      " 1. ID 7560889: 263 chars\n",
      " 2. ID 7456101: 29 chars\n",
      " 3. ID 7437776: 279 chars\n",
      " 4. ID 7414638: 110 chars\n",
      " 5. ID 7373536: 58 chars\n",
      " 6. ID 7364629: 202 chars\n",
      " 7. ID 7347338: 82 chars\n",
      " 8. ID 7330315: 237 chars\n",
      " 9. ID 7230306: 238 chars\n",
      " 10. ID 7163148: 253 chars\n",
      "\n",
      "Example full CV for ID 5475487:\n",
      "'CV anonimizzato:\\n\"\"\"\\n03/2006 - 01/2010\\n02/1995 - 01/2006\\n04/1987 - 01/1995\\n10/1981 - 01/1987Autorizzo il trattamento dei miei dati personali presenti nel curriculum vitae ai sensi del Decreto Legislativo 30 giugno 2003, n. 196 e del GDPR (Regolamento UE 2016/679).\\n\"\"\"'\n"
     ]
    }
   ],
   "source": [
    "raw_cv = add_length_column(raw_cv, text_col=\"CV_text_anon\", length_col=\"len_anon\")\n",
    "\n",
    "\n",
    "too_short_df = find_and_print_short_cvs(\n",
    "    raw_cv,\n",
    "    length_col=\"len_anon\",\n",
    "    threshold=300,\n",
    "    id_col=\"CANDIDATE_ID\",\n",
    "    text_col=\"CV_text_anon\",\n",
    ")"
   ]
  },
  {
   "cell_type": "code",
   "execution_count": 253,
   "id": "14",
   "metadata": {},
   "outputs": [
    {
     "name": "stdout",
     "output_type": "stream",
     "text": [
      "CVs with under 300 characters: 77 out of 7769 total\n",
      "That is 0.99% of all cvs\n",
      "CVs -> Original rows: 7769\n",
      "CVs -> Dropped rows:  77 (IDs in provided list)\n",
      "CVs -> Remaining rows: 7692\n"
     ]
    }
   ],
   "source": [
    "short_cvs_ids = too_short_df.select(pl.col(\"CANDIDATE_ID\")).to_series().to_list()\n",
    "raw_cv_cleaned = filter_out_candidate_ids(\n",
    "    raw_cv, short_cvs_ids, df_name=\"CVs\", description=\"under 300 characters\"\n",
    ")"
   ]
  },
  {
   "cell_type": "markdown",
   "id": "15",
   "metadata": {},
   "source": [
    "Remove High Repetition / Low Structure CVs  "
   ]
  },
  {
   "cell_type": "code",
   "execution_count": 254,
   "id": "16",
   "metadata": {},
   "outputs": [
    {
     "name": "stdout",
     "output_type": "stream",
     "text": [
      "Found 39 repetitive CVs:\n"
     ]
    },
    {
     "data": {
      "text/html": [
       "<div><style>\n",
       ".dataframe > thead > tr,\n",
       ".dataframe > tbody > tr {\n",
       "  text-align: right;\n",
       "  white-space: pre-wrap;\n",
       "}\n",
       "</style>\n",
       "<small>shape: (39, 3)</small><table border=\"1\" class=\"dataframe\"><thead><tr><th>CANDIDATE_ID</th><th>n_lines</th><th>repetition_ratio</th></tr><tr><td>i64</td><td>i64</td><td>f64</td></tr></thead><tbody><tr><td>7259455</td><td>244</td><td>0.553279</td></tr><tr><td>7026944</td><td>105</td><td>0.971429</td></tr><tr><td>6981854</td><td>134</td><td>0.835821</td></tr><tr><td>6876738</td><td>195</td><td>0.548718</td></tr><tr><td>6788013</td><td>103</td><td>0.514563</td></tr><tr><td>&hellip;</td><td>&hellip;</td><td>&hellip;</td></tr><tr><td>164616</td><td>401</td><td>0.992519</td></tr><tr><td>153773</td><td>58</td><td>0.706897</td></tr><tr><td>125099</td><td>172</td><td>0.523256</td></tr><tr><td>122003</td><td>205</td><td>0.965854</td></tr><tr><td>121482</td><td>151</td><td>0.695364</td></tr></tbody></table></div>"
      ],
      "text/plain": [
       "shape: (39, 3)\n",
       "┌──────────────┬─────────┬──────────────────┐\n",
       "│ CANDIDATE_ID ┆ n_lines ┆ repetition_ratio │\n",
       "│ ---          ┆ ---     ┆ ---              │\n",
       "│ i64          ┆ i64     ┆ f64              │\n",
       "╞══════════════╪═════════╪══════════════════╡\n",
       "│ 7259455      ┆ 244     ┆ 0.553279         │\n",
       "│ 7026944      ┆ 105     ┆ 0.971429         │\n",
       "│ 6981854      ┆ 134     ┆ 0.835821         │\n",
       "│ 6876738      ┆ 195     ┆ 0.548718         │\n",
       "│ 6788013      ┆ 103     ┆ 0.514563         │\n",
       "│ …            ┆ …       ┆ …                │\n",
       "│ 164616       ┆ 401     ┆ 0.992519         │\n",
       "│ 153773       ┆ 58      ┆ 0.706897         │\n",
       "│ 125099       ┆ 172     ┆ 0.523256         │\n",
       "│ 122003       ┆ 205     ┆ 0.965854         │\n",
       "│ 121482       ┆ 151     ┆ 0.695364         │\n",
       "└──────────────┴─────────┴──────────────────┘"
      ]
     },
     "metadata": {},
     "output_type": "display_data"
    }
   ],
   "source": [
    "repetitive_cvs = detect_repetitive_cvs(\n",
    "    raw_cv_cleaned, text_col=\"CV_text_anon\", max_repetition=0.5\n",
    ")\n",
    "print(f\"Found {repetitive_cvs.height} repetitive CVs:\")\n",
    "display(repetitive_cvs.select([\"CANDIDATE_ID\", \"n_lines\", \"repetition_ratio\"]))"
   ]
  },
  {
   "cell_type": "code",
   "execution_count": 255,
   "id": "17",
   "metadata": {},
   "outputs": [
    {
     "name": "stdout",
     "output_type": "stream",
     "text": [
      "CVs with repetitive CVs: 39 out of 7692 total\n",
      "That is 0.51% of all cvs\n",
      "CVs -> Original rows: 7692\n",
      "CVs -> Dropped rows:  39 (IDs in provided list)\n",
      "CVs -> Remaining rows: 7653\n"
     ]
    }
   ],
   "source": [
    "repetitive_cvs_ids = repetitive_cvs.select(pl.col(\"CANDIDATE_ID\")).to_series().to_list()\n",
    "raw_cv_cleaned = filter_out_candidate_ids(\n",
    "    raw_cv_cleaned, repetitive_cvs_ids, df_name=\"CVs\", description=\"repetitive CVs\"\n",
    ")"
   ]
  },
  {
   "cell_type": "markdown",
   "id": "18",
   "metadata": {},
   "source": [
    "### 4. Text Quality Checks"
   ]
  },
  {
   "cell_type": "markdown",
   "id": "19",
   "metadata": {},
   "source": [
    "Furthermore we filter out “bad” or malformed CVs, for doing that we will perform:\n",
    "\n",
    "1. **Token & Vocabulary Richness**  \n",
    "   - Calculate the unique words / total words ratio to measure lexical variety.\n",
    "   - Filter out CVs with very low number of unique words (e.g < 20) or very low ratio (e.g. < 0.2).\n",
    "\n",
    "2. **Detect Placeholder Tails**\n",
    "   - Flag any CV whose text ends with a long run of the same character (e.g. “XXXXXXXXXX…”), seen after manual inspection. These indicate no usable content and should be excluded.\n",
    "\n",
    "3. **Detect Corrupted CVs**\n",
    "   - Compute the fraction of “unusual” characters in each CV. Flag and remove any CV where this fraction exceeds a small threshold (e.g. 3%), catching heavily distorted documents.\n",
    "\n",
    "\n",
    "These additional checks will help us catch CVs that are too short, overly repetitive, or structurally invalid."
   ]
  },
  {
   "cell_type": "markdown",
   "id": "20",
   "metadata": {},
   "source": [
    "**Token & Vocabulary Richness**  "
   ]
  },
  {
   "cell_type": "code",
   "execution_count": 256,
   "id": "21",
   "metadata": {},
   "outputs": [
    {
     "name": "stdout",
     "output_type": "stream",
     "text": [
      "CVs to discard based on vocabulary sparsity: 48\n"
     ]
    },
    {
     "data": {
      "text/html": [
       "<div><style>\n",
       ".dataframe > thead > tr,\n",
       ".dataframe > tbody > tr {\n",
       "  text-align: right;\n",
       "  white-space: pre-wrap;\n",
       "}\n",
       "</style>\n",
       "<small>shape: (48, 4)</small><table border=\"1\" class=\"dataframe\"><thead><tr><th>CANDIDATE_ID</th><th>total_words</th><th>unique_words</th><th>ttr</th></tr><tr><td>i64</td><td>i64</td><td>i64</td><td>f64</td></tr></thead><tbody><tr><td>6206994</td><td>1291</td><td>242</td><td>0.187452</td></tr><tr><td>7080072</td><td>755</td><td>149</td><td>0.197351</td></tr><tr><td>6015186</td><td>931</td><td>191</td><td>0.205156</td></tr><tr><td>6809297</td><td>462</td><td>101</td><td>0.218615</td></tr><tr><td>6987708</td><td>1621</td><td>375</td><td>0.231339</td></tr><tr><td>&hellip;</td><td>&hellip;</td><td>&hellip;</td><td>&hellip;</td></tr><tr><td>6501990</td><td>17</td><td>16</td><td>0.941176</td></tr><tr><td>4479547</td><td>17</td><td>16</td><td>0.941176</td></tr><tr><td>3583383</td><td>22</td><td>21</td><td>0.954545</td></tr><tr><td>6056802</td><td>27</td><td>26</td><td>0.962963</td></tr><tr><td>6099154</td><td>14</td><td>14</td><td>1.0</td></tr></tbody></table></div>"
      ],
      "text/plain": [
       "shape: (48, 4)\n",
       "┌──────────────┬─────────────┬──────────────┬──────────┐\n",
       "│ CANDIDATE_ID ┆ total_words ┆ unique_words ┆ ttr      │\n",
       "│ ---          ┆ ---         ┆ ---          ┆ ---      │\n",
       "│ i64          ┆ i64         ┆ i64          ┆ f64      │\n",
       "╞══════════════╪═════════════╪══════════════╪══════════╡\n",
       "│ 6206994      ┆ 1291        ┆ 242          ┆ 0.187452 │\n",
       "│ 7080072      ┆ 755         ┆ 149          ┆ 0.197351 │\n",
       "│ 6015186      ┆ 931         ┆ 191          ┆ 0.205156 │\n",
       "│ 6809297      ┆ 462         ┆ 101          ┆ 0.218615 │\n",
       "│ 6987708      ┆ 1621        ┆ 375          ┆ 0.231339 │\n",
       "│ …            ┆ …           ┆ …            ┆ …        │\n",
       "│ 6501990      ┆ 17          ┆ 16           ┆ 0.941176 │\n",
       "│ 4479547      ┆ 17          ┆ 16           ┆ 0.941176 │\n",
       "│ 3583383      ┆ 22          ┆ 21           ┆ 0.954545 │\n",
       "│ 6056802      ┆ 27          ┆ 26           ┆ 0.962963 │\n",
       "│ 6099154      ┆ 14          ┆ 14           ┆ 1.0      │\n",
       "└──────────────┴─────────────┴──────────────┴──────────┘"
      ]
     },
     "metadata": {},
     "output_type": "display_data"
    }
   ],
   "source": [
    "sparse_cvs = detect_vocab_sparsity(\n",
    "    raw_cv_cleaned, text_col=\"CV_text_anon\", min_words=30, min_ttr=0.3\n",
    ")\n",
    "\n",
    "print(f\"CVs to discard based on vocabulary sparsity: {sparse_cvs.height}\")\n",
    "display(\n",
    "    sparse_cvs.select([\"CANDIDATE_ID\", \"total_words\", \"unique_words\", \"ttr\"]).sort(\n",
    "        pl.col(\"ttr\"), descending=False\n",
    "    )\n",
    ")"
   ]
  },
  {
   "cell_type": "code",
   "execution_count": 257,
   "id": "22",
   "metadata": {},
   "outputs": [
    {
     "name": "stdout",
     "output_type": "stream",
     "text": [
      "CVs with low lexical variety: 48 out of 7653 total\n",
      "That is 0.63% of all cvs\n",
      "CVs -> Original rows: 7653\n",
      "CVs -> Dropped rows:  48 (IDs in provided list)\n",
      "CVs -> Remaining rows: 7605\n"
     ]
    }
   ],
   "source": [
    "sparse_ids = sparse_cvs.select(pl.col(\"CANDIDATE_ID\")).to_series().to_list()\n",
    "raw_cv_cleaned = filter_out_candidate_ids(\n",
    "    raw_cv_cleaned, sparse_ids, df_name=\"CVs\", description=\"low lexical variety\"\n",
    ")"
   ]
  },
  {
   "cell_type": "markdown",
   "id": "23",
   "metadata": {},
   "source": [
    "**Detect Placeholder Tails**"
   ]
  },
  {
   "cell_type": "code",
   "execution_count": 258,
   "id": "24",
   "metadata": {},
   "outputs": [
    {
     "name": "stdout",
     "output_type": "stream",
     "text": [
      "Found 52 CVs with trailing X placeholders:\n"
     ]
    },
    {
     "data": {
      "text/html": [
       "<div><style>\n",
       ".dataframe > thead > tr,\n",
       ".dataframe > tbody > tr {\n",
       "  text-align: right;\n",
       "  white-space: pre-wrap;\n",
       "}\n",
       "</style>\n",
       "<small>shape: (52, 1)</small><table border=\"1\" class=\"dataframe\"><thead><tr><th>CANDIDATE_ID</th></tr><tr><td>i64</td></tr></thead><tbody><tr><td>7471471</td></tr><tr><td>7423990</td></tr><tr><td>7386710</td></tr><tr><td>7295445</td></tr><tr><td>7228164</td></tr><tr><td>&hellip;</td></tr><tr><td>166297</td></tr><tr><td>156390</td></tr><tr><td>151354</td></tr><tr><td>146771</td></tr><tr><td>118642</td></tr></tbody></table></div>"
      ],
      "text/plain": [
       "shape: (52, 1)\n",
       "┌──────────────┐\n",
       "│ CANDIDATE_ID │\n",
       "│ ---          │\n",
       "│ i64          │\n",
       "╞══════════════╡\n",
       "│ 7471471      │\n",
       "│ 7423990      │\n",
       "│ 7386710      │\n",
       "│ 7295445      │\n",
       "│ 7228164      │\n",
       "│ …            │\n",
       "│ 166297       │\n",
       "│ 156390       │\n",
       "│ 151354       │\n",
       "│ 146771       │\n",
       "│ 118642       │\n",
       "└──────────────┘"
      ]
     },
     "metadata": {},
     "output_type": "display_data"
    }
   ],
   "source": [
    "placeholder_cvs = filter_placeholder_tails(\n",
    "    raw_cv_cleaned, text_col=\"CV_text_anon\", char=\"X\", min_run=20\n",
    ")\n",
    "print(f\"Found {placeholder_cvs.height} CVs with trailing X placeholders:\")\n",
    "display(placeholder_cvs.select([\"CANDIDATE_ID\"]))"
   ]
  },
  {
   "cell_type": "code",
   "execution_count": 259,
   "id": "25",
   "metadata": {},
   "outputs": [
    {
     "name": "stdout",
     "output_type": "stream",
     "text": [
      "CVs with trailing X placeholders: 52 out of 7605 total\n",
      "That is 0.68% of all cvs\n",
      "CVs -> Original rows: 7605\n",
      "CVs -> Dropped rows:  52 (IDs in provided list)\n",
      "CVs -> Remaining rows: 7553\n"
     ]
    }
   ],
   "source": [
    "placeholder_ids = placeholder_cvs.select(pl.col(\"CANDIDATE_ID\")).to_series().to_list()\n",
    "raw_cv_cleaned = filter_out_candidate_ids(\n",
    "    raw_cv_cleaned,\n",
    "    placeholder_ids,\n",
    "    df_name=\"CVs\",\n",
    "    description=\"trailing X placeholders\",\n",
    ")"
   ]
  },
  {
   "cell_type": "markdown",
   "id": "26",
   "metadata": {},
   "source": [
    "**Detect Corrupted CVs**"
   ]
  },
  {
   "cell_type": "code",
   "execution_count": 260,
   "id": "27",
   "metadata": {},
   "outputs": [
    {
     "name": "stdout",
     "output_type": "stream",
     "text": [
      "Corrupted CVs to discard: 14\n"
     ]
    },
    {
     "data": {
      "text/html": [
       "<div><style>\n",
       ".dataframe > thead > tr,\n",
       ".dataframe > tbody > tr {\n",
       "  text-align: right;\n",
       "  white-space: pre-wrap;\n",
       "}\n",
       "</style>\n",
       "<small>shape: (14, 2)</small><table border=\"1\" class=\"dataframe\"><thead><tr><th>CANDIDATE_ID</th><th>unusual_frac</th></tr><tr><td>i64</td><td>f64</td></tr></thead><tbody><tr><td>7265646</td><td>0.71831</td></tr><tr><td>7442026</td><td>0.683837</td></tr><tr><td>2963734</td><td>0.218973</td></tr><tr><td>4624374</td><td>0.044884</td></tr><tr><td>6745849</td><td>0.043478</td></tr><tr><td>&hellip;</td><td>&hellip;</td></tr><tr><td>7242049</td><td>0.021448</td></tr><tr><td>7133277</td><td>0.021265</td></tr><tr><td>6899819</td><td>0.021021</td></tr><tr><td>5400351</td><td>0.020385</td></tr><tr><td>6056462</td><td>0.020049</td></tr></tbody></table></div>"
      ],
      "text/plain": [
       "shape: (14, 2)\n",
       "┌──────────────┬──────────────┐\n",
       "│ CANDIDATE_ID ┆ unusual_frac │\n",
       "│ ---          ┆ ---          │\n",
       "│ i64          ┆ f64          │\n",
       "╞══════════════╪══════════════╡\n",
       "│ 7265646      ┆ 0.71831      │\n",
       "│ 7442026      ┆ 0.683837     │\n",
       "│ 2963734      ┆ 0.218973     │\n",
       "│ 4624374      ┆ 0.044884     │\n",
       "│ 6745849      ┆ 0.043478     │\n",
       "│ …            ┆ …            │\n",
       "│ 7242049      ┆ 0.021448     │\n",
       "│ 7133277      ┆ 0.021265     │\n",
       "│ 6899819      ┆ 0.021021     │\n",
       "│ 5400351      ┆ 0.020385     │\n",
       "│ 6056462      ┆ 0.020049     │\n",
       "└──────────────┴──────────────┘"
      ]
     },
     "metadata": {},
     "output_type": "display_data"
    }
   ],
   "source": [
    "corrupted_cvs = detect_corrupted_cvs(\n",
    "    raw_cv_cleaned, text_col=\"CV_text_anon\", max_unusual_frac=0.02\n",
    ")\n",
    "print(f\"Corrupted CVs to discard: {corrupted_cvs.height}\")\n",
    "display(\n",
    "    corrupted_cvs.select([\"CANDIDATE_ID\", \"unusual_frac\"]).sort(\n",
    "        \"unusual_frac\", descending=True\n",
    "    )\n",
    ")"
   ]
  },
  {
   "cell_type": "code",
   "execution_count": 261,
   "id": "28",
   "metadata": {},
   "outputs": [
    {
     "name": "stdout",
     "output_type": "stream",
     "text": [
      "CVs with corrupted symbols: 14 out of 7553 total\n",
      "That is 0.19% of all cvs\n",
      "CVs -> Original rows: 7553\n",
      "CVs -> Dropped rows:  14 (IDs in provided list)\n",
      "CVs -> Remaining rows: 7539\n"
     ]
    }
   ],
   "source": [
    "corrupted_ids = corrupted_cvs.select(pl.col(\"CANDIDATE_ID\")).to_series().to_list()\n",
    "raw_cv_cleaned = filter_out_candidate_ids(\n",
    "    raw_cv_cleaned, corrupted_ids, df_name=\"CVs\", description=\"corrupted symbols\"\n",
    ")"
   ]
  },
  {
   "cell_type": "markdown",
   "id": "29",
   "metadata": {},
   "source": [
    "### 5. **Translation Completeness**  \n"
   ]
  },
  {
   "cell_type": "markdown",
   "id": "30",
   "metadata": {},
   "source": [
    "- **Filter Out Poor Translations**  \n",
    "  Compute len_ratio = `len(Translated_CV) / len(CV_text_anon)` and flag any CV with <br>\n",
    "  `len_ratio < 0.7` as an empty/missing translation. <br>\n",
    "  \n",
    "Since these cases are very rare, we drop them outright instead of attempting a re-translation.  "
   ]
  },
  {
   "cell_type": "code",
   "execution_count": 262,
   "id": "31",
   "metadata": {},
   "outputs": [
    {
     "data": {
      "text/html": [
       "<div><style>\n",
       ".dataframe > thead > tr,\n",
       ".dataframe > tbody > tr {\n",
       "  text-align: right;\n",
       "  white-space: pre-wrap;\n",
       "}\n",
       "</style>\n",
       "<small>shape: (18, 4)</small><table border=\"1\" class=\"dataframe\"><thead><tr><th>CANDIDATE_ID</th><th>orig_len</th><th>trans_len</th><th>len_ratio</th></tr><tr><td>i64</td><td>i64</td><td>i64</td><td>f64</td></tr></thead><tbody><tr><td>7164534</td><td>6328</td><td>107</td><td>0.016909</td></tr><tr><td>158927</td><td>2700</td><td>139</td><td>0.051481</td></tr><tr><td>127945</td><td>1736</td><td>798</td><td>0.459677</td></tr><tr><td>6661398</td><td>3130</td><td>1731</td><td>0.553035</td></tr><tr><td>7303615</td><td>1134</td><td>661</td><td>0.582892</td></tr><tr><td>&hellip;</td><td>&hellip;</td><td>&hellip;</td><td>&hellip;</td></tr><tr><td>5964952</td><td>2017</td><td>1325</td><td>0.656916</td></tr><tr><td>5871851</td><td>5450</td><td>3636</td><td>0.667156</td></tr><tr><td>6278055</td><td>330</td><td>223</td><td>0.675758</td></tr><tr><td>1009832</td><td>4821</td><td>3332</td><td>0.691143</td></tr><tr><td>6200024</td><td>1442</td><td>997</td><td>0.691401</td></tr></tbody></table></div>"
      ],
      "text/plain": [
       "shape: (18, 4)\n",
       "┌──────────────┬──────────┬───────────┬───────────┐\n",
       "│ CANDIDATE_ID ┆ orig_len ┆ trans_len ┆ len_ratio │\n",
       "│ ---          ┆ ---      ┆ ---       ┆ ---       │\n",
       "│ i64          ┆ i64      ┆ i64       ┆ f64       │\n",
       "╞══════════════╪══════════╪═══════════╪═══════════╡\n",
       "│ 7164534      ┆ 6328     ┆ 107       ┆ 0.016909  │\n",
       "│ 158927       ┆ 2700     ┆ 139       ┆ 0.051481  │\n",
       "│ 127945       ┆ 1736     ┆ 798       ┆ 0.459677  │\n",
       "│ 6661398      ┆ 3130     ┆ 1731      ┆ 0.553035  │\n",
       "│ 7303615      ┆ 1134     ┆ 661       ┆ 0.582892  │\n",
       "│ …            ┆ …        ┆ …         ┆ …         │\n",
       "│ 5964952      ┆ 2017     ┆ 1325      ┆ 0.656916  │\n",
       "│ 5871851      ┆ 5450     ┆ 3636      ┆ 0.667156  │\n",
       "│ 6278055      ┆ 330      ┆ 223       ┆ 0.675758  │\n",
       "│ 1009832      ┆ 4821     ┆ 3332      ┆ 0.691143  │\n",
       "│ 6200024      ┆ 1442     ┆ 997       ┆ 0.691401  │\n",
       "└──────────────┴──────────┴───────────┴───────────┘"
      ]
     },
     "metadata": {},
     "output_type": "display_data"
    }
   ],
   "source": [
    "translation_stats_df = assess_translation_completeness(raw_cv_cleaned)\n",
    "display(\n",
    "    translation_stats_df.filter(pl.col(\"len_ratio\") < 0.7)\n",
    "    .select([\"CANDIDATE_ID\", \"orig_len\", \"trans_len\", \"len_ratio\"])\n",
    "    .sort(\"len_ratio\", descending=False)\n",
    ")"
   ]
  },
  {
   "cell_type": "code",
   "execution_count": 263,
   "id": "32",
   "metadata": {},
   "outputs": [
    {
     "name": "stdout",
     "output_type": "stream",
     "text": [
      "CVs with low translation completeness: 18 out of 7539 total\n",
      "That is 0.24% of all cvs\n",
      "CVs -> Original rows: 7539\n",
      "CVs -> Dropped rows:  18 (IDs in provided list)\n",
      "CVs -> Remaining rows: 7521\n"
     ]
    }
   ],
   "source": [
    "low_translation_ids = (\n",
    "    translation_stats_df.filter(pl.col(\"len_ratio\") < 0.7)\n",
    "    .select(\"CANDIDATE_ID\")\n",
    "    .to_series()\n",
    "    .to_list()\n",
    ")\n",
    "raw_cv_cleaned = filter_out_candidate_ids(\n",
    "    raw_cv_cleaned,\n",
    "    low_translation_ids,\n",
    "    df_name=\"CVs\",\n",
    "    description=\"low translation completeness\",\n",
    ")"
   ]
  },
  {
   "cell_type": "markdown",
   "id": "33",
   "metadata": {},
   "source": [
    "Since our analysis relies exclusively on the English translations, we will now verify that the `Translated_CV` column truly contains English text before proceeding with our analyses."
   ]
  },
  {
   "cell_type": "code",
   "execution_count": 264,
   "id": "34",
   "metadata": {},
   "outputs": [
    {
     "name": "stdout",
     "output_type": "stream",
     "text": [
      "Found 16 CVs not in English.\n"
     ]
    },
    {
     "data": {
      "text/html": [
       "<div><style>\n",
       ".dataframe > thead > tr,\n",
       ".dataframe > tbody > tr {\n",
       "  text-align: right;\n",
       "  white-space: pre-wrap;\n",
       "}\n",
       "</style>\n",
       "<small>shape: (5, 3)</small><table border=\"1\" class=\"dataframe\"><thead><tr><th>CANDIDATE_ID</th><th>Translated_CV</th><th>not_english</th></tr><tr><td>i64</td><td>str</td><td>bool</td></tr></thead><tbody><tr><td>7546519</td><td>&quot; gender male birthdate 18/10/1…</td><td>true</td></tr><tr><td>7292989</td><td>&quot; work experience 10/15/2015 – …</td><td>true</td></tr><tr><td>7282933</td><td>&quot; f o r m a t o e u r o p e o p…</td><td>true</td></tr><tr><td>7130948</td><td>&quot; professional experience ener …</td><td>true</td></tr><tr><td>6871809</td><td>&quot; experience bartender/barista …</td><td>true</td></tr></tbody></table></div>"
      ],
      "text/plain": [
       "shape: (5, 3)\n",
       "┌──────────────┬─────────────────────────────────┬─────────────┐\n",
       "│ CANDIDATE_ID ┆ Translated_CV                   ┆ not_english │\n",
       "│ ---          ┆ ---                             ┆ ---         │\n",
       "│ i64          ┆ str                             ┆ bool        │\n",
       "╞══════════════╪═════════════════════════════════╪═════════════╡\n",
       "│ 7546519      ┆  gender male birthdate 18/10/1… ┆ true        │\n",
       "│ 7292989      ┆  work experience 10/15/2015 – … ┆ true        │\n",
       "│ 7282933      ┆  f o r m a t o e u r o p e o p… ┆ true        │\n",
       "│ 7130948      ┆  professional experience ener … ┆ true        │\n",
       "│ 6871809      ┆  experience bartender/barista … ┆ true        │\n",
       "└──────────────┴─────────────────────────────────┴─────────────┘"
      ]
     },
     "metadata": {},
     "output_type": "display_data"
    }
   ],
   "source": [
    "not_english_df = (\n",
    "    raw_cv_cleaned.with_columns(\n",
    "        [\n",
    "            pl.col(\"Translated_CV\")\n",
    "            .map_elements(\n",
    "                lambda s: not is_this_language(s or \"\", \"en\"),\n",
    "                return_dtype=pl.Boolean,\n",
    "            )\n",
    "            .alias(\"not_english\")\n",
    "        ]\n",
    "    )\n",
    "    .select([\"CANDIDATE_ID\", \"Translated_CV\", \"not_english\"])\n",
    "    .filter(pl.col(\"not_english\"))\n",
    ")\n",
    "print(f\"Found {not_english_df.height} CVs not in English.\")\n",
    "display(not_english_df.head())"
   ]
  },
  {
   "cell_type": "code",
   "execution_count": 287,
   "id": "35",
   "metadata": {},
   "outputs": [
    {
     "name": "stdout",
     "output_type": "stream",
     "text": [
      "Sample CVs not in English:\n",
      " work experience 10/15/2015 – 01/18/2016 Vercelli, Italy Hertz mechanic 1. tire fitter 2. coupons address via fagiolini 11, 13100, Vercelli, Italy 09/01/2016 – 12/01/2016 Vercelli, Italy Hertz mechanic 1. tire fitter date of birth: 09/09/1995 2. coupons nationality: Italian address via fagiolini 11, 13100, Vercelli, Italy gender: male 04/02/2017 – 05/31/2017 Crescentino, Italy tire fitter Pneuscar sas di Mauro d&#39;Altoè e c. contacts 1. tire dealer address via giotto 54, 13044, crescentino, italy via umberto i 22  27030 palestro, italy (other) 01/07/2017 – 15/06/2018 saluggia, italy manuelboni31@gmail.com  electrician electrician momo massimo (+39) 3515326965 1. electrician  2. removal worker address via taiola, 13040, saluggia, italy 22/10/2018 – 07/12/2018 crescentino, italy tire dealer pneuscar sas di mauro d&#39;altoè e c. 1. tire dealer address via giotto 54, 13044, crescentino, italy 04/19/2019 – 06/15/2019 crescentino, italy tire dealer pneuscar sas di mauro d&#39;altoè e c. 1. tire dealer address via giotto 54, 13044, crescentino, italy 07/14/2020 – 10/18/2022 desana, italy blacksmith il ferraccio di balbo fabrizio 1. metalworker 2. maintenance and repairer of agricultural vehicles at &quot;claas agricoltura vercelli&quot; address via gioberti 64, 13034, desana, italy 10/19/2022 – 12/31/2022 vercelli, italy worker ecam srl 1. worker 2. assistant mechanical repairer of trucks 1 / 23. blacksmith address via f. donato 11/a, 13100, vercelli, italy education and training 09/2006 – 06/2012 vercelli, italy middle school diploma state school of first degree &quot;l. verga&quot; address via trino 32, vercelli, italy language skills native language: italian additional information driving license 05/25/2015 – 09/09/2025 driving license: b I authorize the processing of my personal data in the CV pursuant to art. 13 legislative decree 30 June 2003 n. 196 - &quot;personal data protection code&quot; and art. 13 gdpr 679/16 - &quot;european regulation on the protection of personal data&quot;. 2 / 2 \n"
     ]
    }
   ],
   "source": [
    "print(\"Sample CVs not in English:\")\n",
    "print(not_english_df.sample(1)[\"Translated_CV\"].item())"
   ]
  },
  {
   "cell_type": "markdown",
   "id": "36",
   "metadata": {},
   "source": [
    "We found only **16** records flagged as non-English. After a manual review, we discovered that these CVs are indeed written in English but include many Italian place names, addresses and organization titles which skew the language detector’s statistics. Since the underlying text is English and these cases are few, we will **not** drop them.\n",
    "\n",
    "> **Note:** going forward, all regex or pattern-based quality checks should be applied **only** to the **English** `Translated_CV` field.\n"
   ]
  },
  {
   "cell_type": "markdown",
   "id": "37",
   "metadata": {},
   "source": [
    "### 6. **Handling Empty CV Records** "
   ]
  },
  {
   "cell_type": "markdown",
   "id": "38",
   "metadata": {},
   "source": [
    "During our inspection we found many corrupted CVs. <br>\n",
    "In each dedicated section, to ensure data quality and consistency across all our analyses, we will:\n",
    "\n",
    "1. **Exclude their parsed skills**  \n",
    "   Filter out any rows in our parsed skills DataFrame (`cv_skills`) corresponding to those same `CANDIDATE_ID`s.\n",
    "\n",
    "2. **Omit their entries in the Reverse Matching results**  \n",
    "   Drop records in the Reverse Matching dataset (`ReverseMatching.xlsx`) for those candidate IDs."
   ]
  },
  {
   "cell_type": "markdown",
   "id": "39",
   "metadata": {},
   "source": [
    "## 2. **Parsed Skills** "
   ]
  },
  {
   "cell_type": "markdown",
   "id": "40",
   "metadata": {},
   "source": [
    "### 1. Schema & Load "
   ]
  },
  {
   "cell_type": "code",
   "execution_count": 266,
   "id": "41",
   "metadata": {},
   "outputs": [
    {
     "name": "stdout",
     "output_type": "stream",
     "text": [
      "DataFrame schema: Schema({'CANDIDATE_ID': Int64, 'Skill': String, 'Skill_Type': String})\n",
      "Loaded: 132985 Skills\n",
      "Unique CANDIDATE_ID: 7769\n"
     ]
    }
   ],
   "source": [
    "raw_cv = load_data(CANDIDATE_CVS_TRANSLATED_PATH)\n",
    "raw_skills = load_data(PARSED_DATA_PATH)\n",
    "print(\"DataFrame schema:\", raw_skills.schema)\n",
    "print(f\"Loaded: {raw_skills.height} Skills\")\n",
    "\n",
    "################\n",
    "\n",
    "total_rows = raw_skills.height\n",
    "unique_ids = raw_skills.select(pl.col(\"CANDIDATE_ID\")).unique().height\n",
    "print(f\"Unique CANDIDATE_ID: {unique_ids}\")"
   ]
  },
  {
   "cell_type": "markdown",
   "id": "42",
   "metadata": {},
   "source": [
    "Exclude parsed skills of the candidates with corrupted CVs."
   ]
  },
  {
   "cell_type": "code",
   "execution_count": 267,
   "id": "43",
   "metadata": {},
   "outputs": [
    {
     "name": "stdout",
     "output_type": "stream",
     "text": [
      "Number of CVs loaded -> 7769\n",
      "Number of CVs kept after cleaning -> 7521\n",
      "Number of CVs deleted -> 248\n"
     ]
    }
   ],
   "source": [
    "raw_cv_ids = raw_cv.select(pl.col(\"CANDIDATE_ID\")).to_series().to_list()\n",
    "print(\"Number of CVs loaded ->\", len(raw_cv_ids))\n",
    "\n",
    "raw_cv_cleaned_ids = raw_cv_cleaned.select(pl.col(\"CANDIDATE_ID\")).to_series().to_list()\n",
    "print(\n",
    "    \"Number of CVs kept after cleaning ->\",\n",
    "    len(raw_cv_cleaned_ids),\n",
    ")\n",
    "\n",
    "raw_cv_deleted_ids = (\n",
    "    raw_cv.filter(~pl.col(\"CANDIDATE_ID\").is_in(raw_cv_cleaned_ids))\n",
    "    .select(pl.col(\"CANDIDATE_ID\"))\n",
    "    .to_series()\n",
    "    .to_list()\n",
    ")\n",
    "print(\n",
    "    \"Number of CVs deleted ->\",\n",
    "    len(raw_cv_deleted_ids),\n",
    ")"
   ]
  },
  {
   "cell_type": "code",
   "execution_count": 268,
   "id": "44",
   "metadata": {},
   "outputs": [
    {
     "name": "stdout",
     "output_type": "stream",
     "text": [
      "Skills with CVs deleted: 4086 out of 132985 total\n",
      "That is 3.07% of all skills\n",
      "Skills -> Original rows: 132985\n",
      "Skills -> Dropped rows:  4086 (IDs in provided list)\n",
      "Skills -> Remaining rows: 128899\n",
      "Unique CANDIDATE_ID: 7521\n"
     ]
    }
   ],
   "source": [
    "raw_skills_cleaned = filter_out_candidate_ids(\n",
    "    raw_skills, raw_cv_deleted_ids, df_name=\"Skills\", description=\"CVs deleted\"\n",
    ")\n",
    "\n",
    "##################\n",
    "\n",
    "# Sanity check on the new number of unique candidate IDs.\n",
    "\n",
    "total_rows = raw_skills_cleaned.height\n",
    "unique_ids = raw_skills_cleaned.select(pl.col(\"CANDIDATE_ID\")).unique().height\n",
    "print(f\"Unique CANDIDATE_ID: {unique_ids}\")"
   ]
  },
  {
   "cell_type": "markdown",
   "id": "45",
   "metadata": {},
   "source": [
    "### 2. Missing Value Inspection "
   ]
  },
  {
   "cell_type": "code",
   "execution_count": 269,
   "id": "46",
   "metadata": {},
   "outputs": [
    {
     "name": "stdout",
     "output_type": "stream",
     "text": [
      "Missing value summary:\n",
      "\n"
     ]
    },
    {
     "data": {
      "text/html": [
       "<div><style>\n",
       ".dataframe > thead > tr,\n",
       ".dataframe > tbody > tr {\n",
       "  text-align: right;\n",
       "  white-space: pre-wrap;\n",
       "}\n",
       "</style>\n",
       "<small>shape: (3, 3)</small><table border=\"1\" class=\"dataframe\"><thead><tr><th>column</th><th>n_missing</th><th>pct_missing</th></tr><tr><td>str</td><td>u32</td><td>f64</td></tr></thead><tbody><tr><td>&quot;CANDIDATE_ID&quot;</td><td>0</td><td>0.0</td></tr><tr><td>&quot;Skill&quot;</td><td>82</td><td>0.06</td></tr><tr><td>&quot;Skill_Type&quot;</td><td>0</td><td>0.0</td></tr></tbody></table></div>"
      ],
      "text/plain": [
       "shape: (3, 3)\n",
       "┌──────────────┬───────────┬─────────────┐\n",
       "│ column       ┆ n_missing ┆ pct_missing │\n",
       "│ ---          ┆ ---       ┆ ---         │\n",
       "│ str          ┆ u32       ┆ f64         │\n",
       "╞══════════════╪═══════════╪═════════════╡\n",
       "│ CANDIDATE_ID ┆ 0         ┆ 0.0         │\n",
       "│ Skill        ┆ 82        ┆ 0.06        │\n",
       "│ Skill_Type   ┆ 0         ┆ 0.0         │\n",
       "└──────────────┴───────────┴─────────────┘"
      ]
     },
     "metadata": {},
     "output_type": "display_data"
    },
    {
     "name": "stdout",
     "output_type": "stream",
     "text": [
      "\n",
      "Columns with > 0% missing values:\n",
      "\n"
     ]
    },
    {
     "data": {
      "text/html": [
       "<div><style>\n",
       ".dataframe > thead > tr,\n",
       ".dataframe > tbody > tr {\n",
       "  text-align: right;\n",
       "  white-space: pre-wrap;\n",
       "}\n",
       "</style>\n",
       "<small>shape: (1, 3)</small><table border=\"1\" class=\"dataframe\"><thead><tr><th>column</th><th>n_missing</th><th>pct_missing</th></tr><tr><td>str</td><td>u32</td><td>f64</td></tr></thead><tbody><tr><td>&quot;Skill&quot;</td><td>82</td><td>0.06</td></tr></tbody></table></div>"
      ],
      "text/plain": [
       "shape: (1, 3)\n",
       "┌────────┬───────────┬─────────────┐\n",
       "│ column ┆ n_missing ┆ pct_missing │\n",
       "│ ---    ┆ ---       ┆ ---         │\n",
       "│ str    ┆ u32       ┆ f64         │\n",
       "╞════════╪═══════════╪═════════════╡\n",
       "│ Skill  ┆ 82        ┆ 0.06        │\n",
       "└────────┴───────────┴─────────────┘"
      ]
     },
     "metadata": {},
     "output_type": "display_data"
    }
   ],
   "source": [
    "inspect_missing(raw_skills_cleaned)"
   ]
  },
  {
   "cell_type": "markdown",
   "id": "47",
   "metadata": {},
   "source": [
    "Inspecting missing values we've found that 82 rows are missing a `Skill` value. Diving into the data, we see that these rows are all associated with the value `DRIVERSLIC` in the `Skill_Type` column. <br>\n",
    "This indicates that these rows are likely placeholders for driver license information, which is however useful to our analysis. <br>\n",
    "We will **not** drop these rows from the dataset."
   ]
  },
  {
   "cell_type": "markdown",
   "id": "48",
   "metadata": {},
   "source": [
    "**Remove Missing or Null Skills**"
   ]
  },
  {
   "cell_type": "code",
   "execution_count": 270,
   "id": "49",
   "metadata": {},
   "outputs": [
    {
     "name": "stdout",
     "output_type": "stream",
     "text": [
      "Found 1 rows with missing Skill (excluding DRIVERSLIC):\n"
     ]
    },
    {
     "data": {
      "text/html": [
       "<div><style>\n",
       ".dataframe > thead > tr,\n",
       ".dataframe > tbody > tr {\n",
       "  text-align: right;\n",
       "  white-space: pre-wrap;\n",
       "}\n",
       "</style>\n",
       "<small>shape: (1, 3)</small><table border=\"1\" class=\"dataframe\"><thead><tr><th>CANDIDATE_ID</th><th>Skill</th><th>Skill_Type</th></tr><tr><td>i64</td><td>str</td><td>str</td></tr></thead><tbody><tr><td>5107653</td><td>null</td><td>&quot;Language_Skill&quot;</td></tr></tbody></table></div>"
      ],
      "text/plain": [
       "shape: (1, 3)\n",
       "┌──────────────┬───────┬────────────────┐\n",
       "│ CANDIDATE_ID ┆ Skill ┆ Skill_Type     │\n",
       "│ ---          ┆ ---   ┆ ---            │\n",
       "│ i64          ┆ str   ┆ str            │\n",
       "╞══════════════╪═══════╪════════════════╡\n",
       "│ 5107653      ┆ null  ┆ Language_Skill │\n",
       "└──────────────┴───────┴────────────────┘"
      ]
     },
     "metadata": {},
     "output_type": "display_data"
    },
    {
     "name": "stdout",
     "output_type": "stream",
     "text": [
      "After dropping invalid rows, 128898 skill records remain.\n"
     ]
    }
   ],
   "source": [
    "invalid_rows = raw_skills_cleaned.filter(\n",
    "    pl.col(\"Skill\").is_null() & (pl.col(\"Skill_Type\") != \"DRIVERSLIC\")\n",
    ")\n",
    "print(f\"Found {invalid_rows.height} rows with missing Skill (excluding DRIVERSLIC):\")\n",
    "display(invalid_rows)\n",
    "\n",
    "##################\n",
    "\n",
    "raw_skills_cleaned = raw_skills_cleaned.filter(\n",
    "    ~(pl.col(\"Skill\").is_null() & (pl.col(\"Skill_Type\") != \"DRIVERSLIC\"))\n",
    ")\n",
    "print(f\"After dropping invalid rows, {raw_skills_cleaned.height} skill records remain.\")"
   ]
  },
  {
   "cell_type": "markdown",
   "id": "50",
   "metadata": {},
   "source": [
    "### 3. Find exact duplicate"
   ]
  },
  {
   "cell_type": "code",
   "execution_count": 271,
   "id": "51",
   "metadata": {},
   "outputs": [
    {
     "name": "stdout",
     "output_type": "stream",
     "text": [
      "Total rows: 128898\n",
      "Unique (ID, Skill, Skill_Type): 128898\n",
      "No duplicates found, skipping deduplication.\n"
     ]
    }
   ],
   "source": [
    "total_before = raw_skills_cleaned.height\n",
    "unique_before = raw_skills_cleaned.unique(subset=[\"CANDIDATE_ID\", \"Skill\"]).height\n",
    "\n",
    "print(f\"Total rows: {total_before}\")\n",
    "print(f\"Unique (ID, Skill, Skill_Type): {unique_before}\")\n",
    "\n",
    "##################\n",
    "\n",
    "if total_before != unique_before:\n",
    "    raw_skills_cleaned = raw_skills_cleaned.unique(subset=[\"CANDIDATE_ID\", \"Skill\"])\n",
    "    print(f\"Dropped {total_before - unique_before} duplicates.\")\n",
    "else:\n",
    "    print(\"No duplicates found, skipping deduplication.\")"
   ]
  },
  {
   "cell_type": "markdown",
   "id": "52",
   "metadata": {},
   "source": [
    "### 4. Validate Skill Types"
   ]
  },
  {
   "cell_type": "markdown",
   "id": "53",
   "metadata": {},
   "source": [
    "- Ensure Skill_Type only takes one of your known categories\n",
    "  (`IT_Skill`, `Job_title`, `Language_Skill`, `Professional_Skill`, `DRIVERSLIC`)."
   ]
  },
  {
   "cell_type": "code",
   "execution_count": 272,
   "id": "54",
   "metadata": {},
   "outputs": [
    {
     "name": "stdout",
     "output_type": "stream",
     "text": [
      "All Skill_Type values are valid.\n"
     ]
    }
   ],
   "source": [
    "VALID_TYPES = [\n",
    "    \"IT_Skill\",\n",
    "    \"Job_title\",\n",
    "    \"Language_Skill\",\n",
    "    \"Professional_Skill\",\n",
    "    \"DRIVERSLIC\",\n",
    "]\n",
    "\n",
    "all_types = raw_skills_cleaned.select(\"Skill_Type\").unique().to_series().to_list()\n",
    "invalid_types = [t for t in all_types if t not in VALID_TYPES]\n",
    "\n",
    "##############\n",
    "\n",
    "if invalid_types:\n",
    "    print(\"Found invalid Skill_Type values:\")\n",
    "    for t in invalid_types:\n",
    "        print(\"  -\", t)\n",
    "else:\n",
    "    print(\"All Skill_Type values are valid.\")"
   ]
  },
  {
   "cell_type": "markdown",
   "id": "55",
   "metadata": {},
   "source": [
    "### 5. Filter Out Garbage Skill Tokens\n"
   ]
  },
  {
   "cell_type": "markdown",
   "id": "56",
   "metadata": {},
   "source": [
    "   - Drop any `Skill` entries that are obviously malformed (e.g. length < 2 or > 100, only punctuation or digits).  \n",
    "   - Optionally remove entries matching placeholder patterns (like a long run of `X`)."
   ]
  },
  {
   "cell_type": "code",
   "execution_count": 273,
   "id": "57",
   "metadata": {},
   "outputs": [
    {
     "name": "stdout",
     "output_type": "stream",
     "text": [
      "Dropped 88 skill rows:\n"
     ]
    },
    {
     "data": {
      "text/html": [
       "<div><style>\n",
       ".dataframe > thead > tr,\n",
       ".dataframe > tbody > tr {\n",
       "  text-align: right;\n",
       "  white-space: pre-wrap;\n",
       "}\n",
       "</style>\n",
       "<small>shape: (10, 3)</small><table border=\"1\" class=\"dataframe\"><thead><tr><th>CANDIDATE_ID</th><th>Skill</th><th>Skill_Type</th></tr><tr><td>i64</td><td>str</td><td>str</td></tr></thead><tbody><tr><td>7747553</td><td>null</td><td>&quot;DRIVERSLIC&quot;</td></tr><tr><td>7583771</td><td>null</td><td>&quot;DRIVERSLIC&quot;</td></tr><tr><td>7527802</td><td>null</td><td>&quot;DRIVERSLIC&quot;</td></tr><tr><td>7484890</td><td>null</td><td>&quot;DRIVERSLIC&quot;</td></tr><tr><td>7456557</td><td>null</td><td>&quot;DRIVERSLIC&quot;</td></tr><tr><td>7422185</td><td>null</td><td>&quot;DRIVERSLIC&quot;</td></tr><tr><td>7413665</td><td>null</td><td>&quot;DRIVERSLIC&quot;</td></tr><tr><td>7347469</td><td>null</td><td>&quot;DRIVERSLIC&quot;</td></tr><tr><td>7164548</td><td>null</td><td>&quot;DRIVERSLIC&quot;</td></tr><tr><td>7099403</td><td>null</td><td>&quot;DRIVERSLIC&quot;</td></tr></tbody></table></div>"
      ],
      "text/plain": [
       "shape: (10, 3)\n",
       "┌──────────────┬───────┬────────────┐\n",
       "│ CANDIDATE_ID ┆ Skill ┆ Skill_Type │\n",
       "│ ---          ┆ ---   ┆ ---        │\n",
       "│ i64          ┆ str   ┆ str        │\n",
       "╞══════════════╪═══════╪════════════╡\n",
       "│ 7747553      ┆ null  ┆ DRIVERSLIC │\n",
       "│ 7583771      ┆ null  ┆ DRIVERSLIC │\n",
       "│ 7527802      ┆ null  ┆ DRIVERSLIC │\n",
       "│ 7484890      ┆ null  ┆ DRIVERSLIC │\n",
       "│ 7456557      ┆ null  ┆ DRIVERSLIC │\n",
       "│ 7422185      ┆ null  ┆ DRIVERSLIC │\n",
       "│ 7413665      ┆ null  ┆ DRIVERSLIC │\n",
       "│ 7347469      ┆ null  ┆ DRIVERSLIC │\n",
       "│ 7164548      ┆ null  ┆ DRIVERSLIC │\n",
       "│ 7099403      ┆ null  ┆ DRIVERSLIC │\n",
       "└──────────────┴───────┴────────────┘"
      ]
     },
     "metadata": {},
     "output_type": "display_data"
    }
   ],
   "source": [
    "garbage_skills = find_garbage_skill_rows(raw_skills)\n",
    "print(f\"Dropped {garbage_skills.height} skill rows:\")\n",
    "display(garbage_skills.head(10))"
   ]
  },
  {
   "cell_type": "code",
   "execution_count": 274,
   "id": "58",
   "metadata": {},
   "outputs": [
    {
     "data": {
      "text/html": [
       "<div><style>\n",
       ".dataframe > thead > tr,\n",
       ".dataframe > tbody > tr {\n",
       "  text-align: right;\n",
       "  white-space: pre-wrap;\n",
       "}\n",
       "</style>\n",
       "<small>shape: (87, 3)</small><table border=\"1\" class=\"dataframe\"><thead><tr><th>CANDIDATE_ID</th><th>Skill</th><th>Skill_Type</th></tr><tr><td>i64</td><td>str</td><td>str</td></tr></thead><tbody><tr><td>7747553</td><td>null</td><td>&quot;DRIVERSLIC&quot;</td></tr><tr><td>7583771</td><td>null</td><td>&quot;DRIVERSLIC&quot;</td></tr><tr><td>7527802</td><td>null</td><td>&quot;DRIVERSLIC&quot;</td></tr><tr><td>7484890</td><td>null</td><td>&quot;DRIVERSLIC&quot;</td></tr><tr><td>7456557</td><td>null</td><td>&quot;DRIVERSLIC&quot;</td></tr><tr><td>&hellip;</td><td>&hellip;</td><td>&hellip;</td></tr><tr><td>124012</td><td>null</td><td>&quot;DRIVERSLIC&quot;</td></tr><tr><td>123094</td><td>null</td><td>&quot;DRIVERSLIC&quot;</td></tr><tr><td>117943</td><td>null</td><td>&quot;DRIVERSLIC&quot;</td></tr><tr><td>117855</td><td>null</td><td>&quot;DRIVERSLIC&quot;</td></tr><tr><td>42289</td><td>null</td><td>&quot;DRIVERSLIC&quot;</td></tr></tbody></table></div>"
      ],
      "text/plain": [
       "shape: (87, 3)\n",
       "┌──────────────┬───────┬────────────┐\n",
       "│ CANDIDATE_ID ┆ Skill ┆ Skill_Type │\n",
       "│ ---          ┆ ---   ┆ ---        │\n",
       "│ i64          ┆ str   ┆ str        │\n",
       "╞══════════════╪═══════╪════════════╡\n",
       "│ 7747553      ┆ null  ┆ DRIVERSLIC │\n",
       "│ 7583771      ┆ null  ┆ DRIVERSLIC │\n",
       "│ 7527802      ┆ null  ┆ DRIVERSLIC │\n",
       "│ 7484890      ┆ null  ┆ DRIVERSLIC │\n",
       "│ 7456557      ┆ null  ┆ DRIVERSLIC │\n",
       "│ …            ┆ …     ┆ …          │\n",
       "│ 124012       ┆ null  ┆ DRIVERSLIC │\n",
       "│ 123094       ┆ null  ┆ DRIVERSLIC │\n",
       "│ 117943       ┆ null  ┆ DRIVERSLIC │\n",
       "│ 117855       ┆ null  ┆ DRIVERSLIC │\n",
       "│ 42289        ┆ null  ┆ DRIVERSLIC │\n",
       "└──────────────┴───────┴────────────┘"
      ]
     },
     "metadata": {},
     "output_type": "display_data"
    }
   ],
   "source": [
    "display(garbage_skills.filter(pl.col(\"Skill_Type\") == \"DRIVERSLIC\"))"
   ]
  },
  {
   "cell_type": "markdown",
   "id": "59",
   "metadata": {},
   "source": [
    "All the garbage_skills would be DRIVERSLIC, so we will **not** drop any rows from the skills, as previously discussed."
   ]
  },
  {
   "cell_type": "markdown",
   "id": "60",
   "metadata": {},
   "source": [
    "## 3. **Matcher Results**"
   ]
  },
  {
   "cell_type": "markdown",
   "id": "572aaddf",
   "metadata": {},
   "source": [
    "### 1. Schema & Load "
   ]
  },
  {
   "cell_type": "code",
   "execution_count": 275,
   "id": "61",
   "metadata": {},
   "outputs": [
    {
     "name": "stdout",
     "output_type": "stream",
     "text": [
      "DataFrame schema: Schema({'CANDIDATE_ID': Int64, 'Gender': String, 'Age_bucket': String, 'professional_categories_int': String, 'matterknowledges': String, 'languages': String, 'regulatedtrainings': String, 'candidatecity': String, 'drivinglicenses': String, 'LONGITUDE': Float64, 'LATITUDE': Float64, 'experience': String})\n",
      "Loaded: 7769 candidates\n",
      "Unique CANDIDATE_ID: 7769\n"
     ]
    }
   ],
   "source": [
    "reversed_skills_matching_dict = load_excel_sheets(\n",
    "    REVERSE_MATCHING_PATH, sheets=[\"Candidates\"]\n",
    ")\n",
    "reversed_skills_matching = reversed_skills_matching_dict[\"Candidates\"]\n",
    "\n",
    "print(\"DataFrame schema:\", reversed_skills_matching.schema)\n",
    "print(f\"Loaded: {reversed_skills_matching.height} candidates\")\n",
    "\n",
    "################\n",
    "\n",
    "total_rows = reversed_skills_matching.height\n",
    "unique_ids = reversed_skills_matching.select(pl.col(\"CANDIDATE_ID\")).unique().height\n",
    "print(f\"Unique CANDIDATE_ID: {unique_ids}\")"
   ]
  },
  {
   "cell_type": "code",
   "execution_count": 276,
   "id": "62",
   "metadata": {},
   "outputs": [
    {
     "name": "stdout",
     "output_type": "stream",
     "text": [
      "Reverse Matchhing Candidates with CVs deleted: 248 out of 7769 total\n",
      "That is 3.19% of all reverse matchhing candidates\n",
      "Reverse Matchhing Candidates -> Original rows: 7769\n",
      "Reverse Matchhing Candidates -> Dropped rows:  248 (IDs in provided list)\n",
      "Reverse Matchhing Candidates -> Remaining rows: 7521\n",
      "Unique CANDIDATE_ID: 7521\n"
     ]
    }
   ],
   "source": [
    "reversed_skills_matching = filter_out_candidate_ids(\n",
    "    reversed_skills_matching,\n",
    "    raw_cv_deleted_ids,\n",
    "    df_name=\"Reverse Matchhing Candidates\",\n",
    "    description=\"CVs deleted\",\n",
    ")\n",
    "\n",
    "##################\n",
    "\n",
    "# Sanity check on the new number of unique candidate IDs.\n",
    "\n",
    "total_rows = reversed_skills_matching.height\n",
    "unique_ids = reversed_skills_matching.select(pl.col(\"CANDIDATE_ID\")).unique().height\n",
    "print(f\"Unique CANDIDATE_ID: {unique_ids}\")"
   ]
  },
  {
   "cell_type": "markdown",
   "id": "89ed8b20",
   "metadata": {},
   "source": [
    "### 2. Missing Value Inspection "
   ]
  },
  {
   "cell_type": "code",
   "execution_count": 277,
   "id": "63",
   "metadata": {},
   "outputs": [
    {
     "name": "stdout",
     "output_type": "stream",
     "text": [
      "Missing value summary:\n",
      "\n"
     ]
    },
    {
     "data": {
      "text/html": [
       "<div><style>\n",
       ".dataframe > thead > tr,\n",
       ".dataframe > tbody > tr {\n",
       "  text-align: right;\n",
       "  white-space: pre-wrap;\n",
       "}\n",
       "</style>\n",
       "<small>shape: (12, 3)</small><table border=\"1\" class=\"dataframe\"><thead><tr><th>column</th><th>n_missing</th><th>pct_missing</th></tr><tr><td>str</td><td>u32</td><td>f64</td></tr></thead><tbody><tr><td>&quot;CANDIDATE_ID&quot;</td><td>0</td><td>0.0</td></tr><tr><td>&quot;Gender&quot;</td><td>0</td><td>0.0</td></tr><tr><td>&quot;Age_bucket&quot;</td><td>0</td><td>0.0</td></tr><tr><td>&quot;professional_categories_int&quot;</td><td>7</td><td>0.09</td></tr><tr><td>&quot;matterknowledges&quot;</td><td>3818</td><td>50.76</td></tr><tr><td>&hellip;</td><td>&hellip;</td><td>&hellip;</td></tr><tr><td>&quot;candidatecity&quot;</td><td>0</td><td>0.0</td></tr><tr><td>&quot;drivinglicenses&quot;</td><td>3586</td><td>47.68</td></tr><tr><td>&quot;LONGITUDE&quot;</td><td>0</td><td>0.0</td></tr><tr><td>&quot;LATITUDE&quot;</td><td>0</td><td>0.0</td></tr><tr><td>&quot;experience&quot;</td><td>2</td><td>0.03</td></tr></tbody></table></div>"
      ],
      "text/plain": [
       "shape: (12, 3)\n",
       "┌─────────────────────────────┬───────────┬─────────────┐\n",
       "│ column                      ┆ n_missing ┆ pct_missing │\n",
       "│ ---                         ┆ ---       ┆ ---         │\n",
       "│ str                         ┆ u32       ┆ f64         │\n",
       "╞═════════════════════════════╪═══════════╪═════════════╡\n",
       "│ CANDIDATE_ID                ┆ 0         ┆ 0.0         │\n",
       "│ Gender                      ┆ 0         ┆ 0.0         │\n",
       "│ Age_bucket                  ┆ 0         ┆ 0.0         │\n",
       "│ professional_categories_int ┆ 7         ┆ 0.09        │\n",
       "│ matterknowledges            ┆ 3818      ┆ 50.76       │\n",
       "│ …                           ┆ …         ┆ …           │\n",
       "│ candidatecity               ┆ 0         ┆ 0.0         │\n",
       "│ drivinglicenses             ┆ 3586      ┆ 47.68       │\n",
       "│ LONGITUDE                   ┆ 0         ┆ 0.0         │\n",
       "│ LATITUDE                    ┆ 0         ┆ 0.0         │\n",
       "│ experience                  ┆ 2         ┆ 0.03        │\n",
       "└─────────────────────────────┴───────────┴─────────────┘"
      ]
     },
     "metadata": {},
     "output_type": "display_data"
    },
    {
     "name": "stdout",
     "output_type": "stream",
     "text": [
      "\n",
      "Columns with > 0% missing values:\n",
      "\n"
     ]
    },
    {
     "data": {
      "text/html": [
       "<div><style>\n",
       ".dataframe > thead > tr,\n",
       ".dataframe > tbody > tr {\n",
       "  text-align: right;\n",
       "  white-space: pre-wrap;\n",
       "}\n",
       "</style>\n",
       "<small>shape: (6, 3)</small><table border=\"1\" class=\"dataframe\"><thead><tr><th>column</th><th>n_missing</th><th>pct_missing</th></tr><tr><td>str</td><td>u32</td><td>f64</td></tr></thead><tbody><tr><td>&quot;professional_categories_int&quot;</td><td>7</td><td>0.09</td></tr><tr><td>&quot;matterknowledges&quot;</td><td>3818</td><td>50.76</td></tr><tr><td>&quot;languages&quot;</td><td>4011</td><td>53.33</td></tr><tr><td>&quot;regulatedtrainings&quot;</td><td>4143</td><td>55.09</td></tr><tr><td>&quot;drivinglicenses&quot;</td><td>3586</td><td>47.68</td></tr><tr><td>&quot;experience&quot;</td><td>2</td><td>0.03</td></tr></tbody></table></div>"
      ],
      "text/plain": [
       "shape: (6, 3)\n",
       "┌─────────────────────────────┬───────────┬─────────────┐\n",
       "│ column                      ┆ n_missing ┆ pct_missing │\n",
       "│ ---                         ┆ ---       ┆ ---         │\n",
       "│ str                         ┆ u32       ┆ f64         │\n",
       "╞═════════════════════════════╪═══════════╪═════════════╡\n",
       "│ professional_categories_int ┆ 7         ┆ 0.09        │\n",
       "│ matterknowledges            ┆ 3818      ┆ 50.76       │\n",
       "│ languages                   ┆ 4011      ┆ 53.33       │\n",
       "│ regulatedtrainings          ┆ 4143      ┆ 55.09       │\n",
       "│ drivinglicenses             ┆ 3586      ┆ 47.68       │\n",
       "│ experience                  ┆ 2         ┆ 0.03        │\n",
       "└─────────────────────────────┴───────────┴─────────────┘"
      ]
     },
     "metadata": {},
     "output_type": "display_data"
    }
   ],
   "source": [
    "inspect_missing(reversed_skills_matching)"
   ]
  },
  {
   "cell_type": "markdown",
   "id": "64",
   "metadata": {},
   "source": [
    "### 3. Analyze demographic data"
   ]
  },
  {
   "cell_type": "markdown",
   "id": "65",
   "metadata": {},
   "source": [
    "Next, we examine the **demographic columns** (age, gender, and location) to spot correlations and identify any redundant fields."
   ]
  },
  {
   "cell_type": "code",
   "execution_count": 278,
   "id": "66",
   "metadata": {},
   "outputs": [],
   "source": [
    "reversed_skills_matching = reversed_skills_matching.with_columns(\n",
    "    pl.when(pl.col(\"LATITUDE\") > 44.5)\n",
    "    .then(pl.lit(\"NORTH\"))\n",
    "    .when(pl.col(\"LATITUDE\") < 42)\n",
    "    .then(pl.lit(\"SOUTH\"))\n",
    "    .otherwise(pl.lit(\"CENTER\"))\n",
    "    .alias(\"Location\")\n",
    ")"
   ]
  },
  {
   "cell_type": "markdown",
   "id": "67",
   "metadata": {},
   "source": [
    "After classifying candidates as North, Center, or South by latitude, we select the columns of interest and examine their inter-correlations to decide which ones to analyze next."
   ]
  },
  {
   "cell_type": "code",
   "execution_count": 279,
   "id": "68",
   "metadata": {},
   "outputs": [
    {
     "data": {
      "text/html": [
       "<div><style>\n",
       ".dataframe > thead > tr,\n",
       ".dataframe > tbody > tr {\n",
       "  text-align: right;\n",
       "  white-space: pre-wrap;\n",
       "}\n",
       "</style>\n",
       "<small>shape: (7_404, 3)</small><table border=\"1\" class=\"dataframe\"><thead><tr><th>Gender</th><th>Age_bucket</th><th>Location</th></tr><tr><td>str</td><td>str</td><td>str</td></tr></thead><tbody><tr><td>&quot;Female&quot;</td><td>&quot;55-74&quot;</td><td>&quot;NORTH&quot;</td></tr><tr><td>&quot;Female&quot;</td><td>&quot;55-74&quot;</td><td>&quot;CENTER&quot;</td></tr><tr><td>&quot;Female&quot;</td><td>&quot;55-74&quot;</td><td>&quot;NORTH&quot;</td></tr><tr><td>&quot;Male&quot;</td><td>&quot;25-34&quot;</td><td>&quot;NORTH&quot;</td></tr><tr><td>&quot;Female&quot;</td><td>&quot;55-74&quot;</td><td>&quot;CENTER&quot;</td></tr><tr><td>&hellip;</td><td>&hellip;</td><td>&hellip;</td></tr><tr><td>&quot;Female&quot;</td><td>&quot;55-74&quot;</td><td>&quot;NORTH&quot;</td></tr><tr><td>&quot;Male&quot;</td><td>&quot;25-34&quot;</td><td>&quot;CENTER&quot;</td></tr><tr><td>&quot;Male&quot;</td><td>&quot;25-34&quot;</td><td>&quot;SOUTH&quot;</td></tr><tr><td>&quot;Male&quot;</td><td>&quot;25-34&quot;</td><td>&quot;NORTH&quot;</td></tr><tr><td>&quot;Female&quot;</td><td>&quot;55-74&quot;</td><td>&quot;NORTH&quot;</td></tr></tbody></table></div>"
      ],
      "text/plain": [
       "shape: (7_404, 3)\n",
       "┌────────┬────────────┬──────────┐\n",
       "│ Gender ┆ Age_bucket ┆ Location │\n",
       "│ ---    ┆ ---        ┆ ---      │\n",
       "│ str    ┆ str        ┆ str      │\n",
       "╞════════╪════════════╪══════════╡\n",
       "│ Female ┆ 55-74      ┆ NORTH    │\n",
       "│ Female ┆ 55-74      ┆ CENTER   │\n",
       "│ Female ┆ 55-74      ┆ NORTH    │\n",
       "│ Male   ┆ 25-34      ┆ NORTH    │\n",
       "│ Female ┆ 55-74      ┆ CENTER   │\n",
       "│ …      ┆ …          ┆ …        │\n",
       "│ Female ┆ 55-74      ┆ NORTH    │\n",
       "│ Male   ┆ 25-34      ┆ CENTER   │\n",
       "│ Male   ┆ 25-34      ┆ SOUTH    │\n",
       "│ Male   ┆ 25-34      ┆ NORTH    │\n",
       "│ Female ┆ 55-74      ┆ NORTH    │\n",
       "└────────┴────────────┴──────────┘"
      ]
     },
     "metadata": {},
     "output_type": "display_data"
    }
   ],
   "source": [
    "reversed_skills_matching_filtered = filter_unknown_and_other_rows(\n",
    "    reversed_skills_matching\n",
    ")\n",
    "reversed_skills_matching_filtered = reversed_skills_matching_filtered.select(\n",
    "    \"Gender\",\n",
    "    \"Age_bucket\",\n",
    "    \"Location\",\n",
    ")\n",
    "reversed_skills_matching_filtered = reversed_skills_matching_filtered.drop_nulls()\n",
    "display(reversed_skills_matching_filtered)"
   ]
  },
  {
   "cell_type": "markdown",
   "id": "69",
   "metadata": {},
   "source": [
    "**Building a Cramér’s V Association Matrix**\n",
    "\n",
    "To find inter correlations, we compute a square matrix whose *(i, j)* entry is the Cramér’s V between column *i* and column *j* in `reversed_skills_matching`. (computed with <a href=\"https://github.com/abstractqqq/polars_ds_extension\" target=\"_blank\">polars‑ds</a>)\n",
    "\n",
    "It normalises the χ² test of independence to the range \\[0, 1]:\n",
    "\n",
    "$$\n",
    "V \\;=\\; \\sqrt{\\frac{\\chi^{2}}{\\,n\\bigl(k_{\\min}-1\\bigr)}}\n",
    "$$\n",
    "\n",
    "where\n",
    "\n",
    "* **χ²** is the chi-square statistic,\n",
    "* **n** is the number of rows,\n",
    "* **$k_{\\min}$** is the smaller of the two variables’ unique value counts.\n",
    "\n",
    "Thus `V = 0` means no association, `V = 1` means a perfect link."
   ]
  },
  {
   "cell_type": "code",
   "execution_count": 280,
   "id": "70",
   "metadata": {},
   "outputs": [],
   "source": [
    "cramer_corrs = [\n",
    "    [\n",
    "        cramers_v(reversed_skills_matching_filtered, c1, c2)\n",
    "        for c2 in reversed_skills_matching_filtered.columns\n",
    "    ]\n",
    "    for c1 in reversed_skills_matching_filtered.columns\n",
    "]\n",
    "\n",
    "cramer_matrix = (\n",
    "    pl.DataFrame(cramer_corrs, schema=reversed_skills_matching_filtered.columns)\n",
    "    .with_columns(pl.Series(\"index\", reversed_skills_matching_filtered.columns))\n",
    "    .unpivot(index=\"index\")\n",
    "    .pivot(index=\"index\", on=\"variable\", values=\"value\")\n",
    "    .sort(\"index\")\n",
    ")"
   ]
  },
  {
   "cell_type": "markdown",
   "id": "71",
   "metadata": {},
   "source": [
    "> **Attention!**  \n",
    "> The heat-map reveals a striking finding: **Age Bucket and Gender are perfectly correlated (Cramér’s V = 1.0).**  \n",
    "> Since either variable fully determines the other, we will keep **only one** in subsequent analyses to avoid redundancy.\n"
   ]
  },
  {
   "cell_type": "code",
   "execution_count": 281,
   "id": "72",
   "metadata": {},
   "outputs": [
    {
     "data": {
      "image/png": "[encoded data removed]",
      "text/plain": [
       "<Figure size 600x400 with 1 Axes>"
      ]
     },
     "metadata": {},
     "output_type": "display_data"
    }
   ],
   "source": [
    "plot_cramer_matrix(cramer_matrix)"
   ]
  },
  {
   "cell_type": "markdown",
   "id": "73",
   "metadata": {},
   "source": [
    "The tables below makes this explicit: **every female candidate is aged 55 – 74, while every male candidate is aged 25 – 34.**"
   ]
  },
  {
   "cell_type": "code",
   "execution_count": 282,
   "id": "74",
   "metadata": {},
   "outputs": [
    {
     "data": {
      "text/html": [
       "<div><style>\n",
       ".dataframe > thead > tr,\n",
       ".dataframe > tbody > tr {\n",
       "  text-align: right;\n",
       "  white-space: pre-wrap;\n",
       "}\n",
       "</style>\n",
       "<small>shape: (1, 2)</small><table border=\"1\" class=\"dataframe\"><thead><tr><th>Age_bucket</th><th>count</th></tr><tr><td>str</td><td>u32</td></tr></thead><tbody><tr><td>&quot;55-74&quot;</td><td>3420</td></tr></tbody></table></div>"
      ],
      "text/plain": [
       "shape: (1, 2)\n",
       "┌────────────┬───────┐\n",
       "│ Age_bucket ┆ count │\n",
       "│ ---        ┆ ---   │\n",
       "│ str        ┆ u32   │\n",
       "╞════════════╪═══════╡\n",
       "│ 55-74      ┆ 3420  │\n",
       "└────────────┴───────┘"
      ]
     },
     "metadata": {},
     "output_type": "display_data"
    }
   ],
   "source": [
    "female_candidates = reversed_skills_matching_filtered.filter(\n",
    "    pl.col(\"Gender\") == \"Female\"\n",
    ")\n",
    "display(female_candidates[\"Age_bucket\"].value_counts())"
   ]
  },
  {
   "cell_type": "code",
   "execution_count": 283,
   "id": "75",
   "metadata": {},
   "outputs": [
    {
     "data": {
      "text/html": [
       "<div><style>\n",
       ".dataframe > thead > tr,\n",
       ".dataframe > tbody > tr {\n",
       "  text-align: right;\n",
       "  white-space: pre-wrap;\n",
       "}\n",
       "</style>\n",
       "<small>shape: (1, 2)</small><table border=\"1\" class=\"dataframe\"><thead><tr><th>Age_bucket</th><th>count</th></tr><tr><td>str</td><td>u32</td></tr></thead><tbody><tr><td>&quot;25-34&quot;</td><td>3984</td></tr></tbody></table></div>"
      ],
      "text/plain": [
       "shape: (1, 2)\n",
       "┌────────────┬───────┐\n",
       "│ Age_bucket ┆ count │\n",
       "│ ---        ┆ ---   │\n",
       "│ str        ┆ u32   │\n",
       "╞════════════╪═══════╡\n",
       "│ 25-34      ┆ 3984  │\n",
       "└────────────┴───────┘"
      ]
     },
     "metadata": {},
     "output_type": "display_data"
    }
   ],
   "source": [
    "male_candidates = reversed_skills_matching_filtered.filter(pl.col(\"Gender\") == \"Male\")\n",
    "display(male_candidates[\"Age_bucket\"].value_counts())"
   ]
  },
  {
   "cell_type": "markdown",
   "id": "76",
   "metadata": {},
   "source": [
    "## Exporting the Cleaned Data"
   ]
  },
  {
   "cell_type": "markdown",
   "id": "77",
   "metadata": {},
   "source": [
    "- **Export the cleaned CVs**, the **cleaned parsed skills**, the **cleaned matcher result** to a **new** CSV file, ensuring the schema and data types are preserved."
   ]
  },
  {
   "cell_type": "code",
   "execution_count": 284,
   "id": "78",
   "metadata": {},
   "outputs": [],
   "source": [
    "raw_cv_cleaned.write_csv(\n",
    "    \"../data/Adecco_Dataset_cleaned/CV_translated_cleaned.csv\", separator=\";\"\n",
    ")\n",
    "raw_skills_cleaned.write_csv(\n",
    "    \"../data/Adecco_Dataset_cleaned/Skills_cleaned.csv\", separator=\";\"\n",
    ")\n",
    "reversed_skills_matching.write_csv(\n",
    "    \"../data/Adecco_Dataset_cleaned/reversed_skills_matching_candidate.csv\",\n",
    "    separator=\";\",\n",
    ")"
   ]
  }
 ],
 "metadata": {
  "kernelspec": {
   "display_name": ".venv",
   "language": "python",
   "name": "python3"
  },
  "language_info": {
   "codemirror_mode": {
    "name": "ipython",
    "version": 3
   },
   "file_extension": ".py",
   "mimetype": "text/x-python",
   "name": "python",
   "nbconvert_exporter": "python",
   "pygments_lexer": "ipython3",
   "version": "3.12.10"
  },
  "rise": {
   "theme": "moon"
  }
 },
 "nbformat": 4,
 "nbformat_minor": 5
}

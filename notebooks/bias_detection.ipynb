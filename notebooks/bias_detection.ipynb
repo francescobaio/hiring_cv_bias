{
 "cells": [
  {
   "cell_type": "markdown",
   "metadata": {},
   "source": [
    "# Bias Detection\n",
    "\n",
    "**Main Objective:**  \n",
    "Detect errors and biases introduced by the CV parser when extracting skills from raw CV text.\n",
    "We perform this inspection using both rule based (regular expressions) and semantic techniques.\n",
    "\n",
    "1. **Error detection steps:**  \n",
    "    - Identify errors in candidates **Driving Licenses** and **Language Skills** using Regex.  \n",
    "    - Uncover errors in candidates **Job Experience** using exact matching and semantic approach.  \n",
    "\n",
    "2. **Bias detection:**\n",
    "    - Analyze the errors identified in Step 1 for the groups previously examined (see `distribution_analysis.ipynb`) to determine whether the parser has disadvantaged or advantaged any of them."
   ]
  },
  {
   "cell_type": "code",
   "execution_count": 29,
   "metadata": {},
   "outputs": [
    {
     "name": "stdout",
     "output_type": "stream",
     "text": [
      "The autoreload extension is already loaded. To reload it, use:\n",
      "  %reload_ext autoreload\n"
     ]
    }
   ],
   "source": [
    "%load_ext autoreload \n",
    "%autoreload 2\n",
    "\n",
    "import json\n",
    "import os\n",
    "\n",
    "import polars as pl\n",
    "from huggingface_hub import login\n",
    "\n",
    "from hiring_cv_bias.bias_detection.fuzzy.matcher import SemanticMatcher\n",
    "from hiring_cv_bias.bias_detection.fuzzy.parser import JobParser\n",
    "from hiring_cv_bias.bias_detection.rule_based.data import (\n",
    "    add_demographic_info,\n",
    ")\n",
    "from hiring_cv_bias.bias_detection.rule_based.evaluation.compare_parser import (\n",
    "    compute_candidate_coverage,\n",
    ")\n",
    "from hiring_cv_bias.bias_detection.rule_based.extractors import (\n",
    "    extract_driver_license,\n",
    "    extract_languages,\n",
    "    norm_driver_license,\n",
    "    norm_languages,\n",
    ")\n",
    "from hiring_cv_bias.bias_detection.rule_based.patterns import (\n",
    "    driver_license_pattern_eng,\n",
    "    jobs_pattern,\n",
    "    languages_pattern_eng,\n",
    "    normalized_jobs,\n",
    ")\n",
    "from hiring_cv_bias.bias_detection.rule_based.utils import (\n",
    "    print_highlighted_cv,\n",
    "    print_report,\n",
    ")\n",
    "from hiring_cv_bias.config import (\n",
    "    CANDIDATE_CVS_TRANSLATED_CLEANED_PATH,\n",
    "    CLEANED_REVERSE_MATCHING_PATH,\n",
    "    CLEANED_SKILLS,\n",
    "    DRIVING_LICENSE_FALSE_NEGATIVES_PATH,\n",
    "    JOB_TITLE_FALSE_NEGATIVES_PATH,\n",
    "    LANGUAGE_SKILL_FALSE_NEGATIVES_PATH,\n",
    ")\n",
    "from hiring_cv_bias.utils import load_data\n",
    "\n",
    "pl.Config.set_tbl_cols(-1)\n",
    "pl.Config.set_tbl_width_chars(200);"
   ]
  },
  {
   "cell_type": "code",
   "execution_count": 30,
   "metadata": {},
   "outputs": [
    {
     "name": "stdout",
     "output_type": "stream",
     "text": [
      "Collecting en-core-web-sm==3.8.0\n",
      "  Downloading https://github.com/explosion/spacy-models/releases/download/en_core_web_sm-3.8.0/en_core_web_sm-3.8.0-py3-none-any.whl (12.8 MB)\n",
      "\u001b[2K     \u001b[90m━━━━━━━━━━━━━━━━━━━━━━━━━━━━━━━━━━━━━━━━\u001b[0m \u001b[32m12.8/12.8 MB\u001b[0m \u001b[31m1.8 MB/s\u001b[0m eta \u001b[36m0:00:00\u001b[0ma \u001b[36m0:00:01\u001b[0mm\n",
      "\u001b[?25h\u001b[38;5;2m✔ Download and installation successful\u001b[0m\n",
      "You can now load the package via spacy.load('en_core_web_sm')\n"
     ]
    }
   ],
   "source": [
    "os.environ[\"TOKENIZERS_PARALLELISM\"] = \"True\"\n",
    "with open(\"token.json\", \"r\") as token:\n",
    "    login(token=json.load(token)[\"token\"])\n",
    "\n",
    "!python -m spacy download en_core_web_sm "
   ]
  },
  {
   "cell_type": "markdown",
   "metadata": {},
   "source": [
    "### Load the data "
   ]
  },
  {
   "cell_type": "code",
   "execution_count": 31,
   "metadata": {},
   "outputs": [],
   "source": [
    "df_cv_raw = load_data(CANDIDATE_CVS_TRANSLATED_CLEANED_PATH)\n",
    "df_skills = load_data(CLEANED_SKILLS)\n",
    "df_info_candidates = load_data(CLEANED_REVERSE_MATCHING_PATH)"
   ]
  },
  {
   "cell_type": "code",
   "execution_count": 32,
   "metadata": {},
   "outputs": [],
   "source": [
    "df_info_candidates = df_info_candidates.with_columns(\n",
    "    pl.when(pl.col(\"LATITUDE\") > 44.5)\n",
    "    .then(pl.lit(\"NORTH\"))\n",
    "    .when(pl.col(\"LATITUDE\") < 42)\n",
    "    .then(pl.lit(\"SOUTH\"))\n",
    "    .otherwise(pl.lit(\"CENTER\"))\n",
    "    .alias(\"Location\")\n",
    ")\n",
    "\n",
    "df_cv_raw = df_cv_raw.with_columns(\n",
    "    pl.when(pl.col(\"len_anon\") < 1000)\n",
    "    .then(pl.lit(\"SHORT\"))\n",
    "    .when(pl.col(\"len_anon\") < 2500)\n",
    "    .then(pl.lit(\"MEDIUM\"))\n",
    "    .otherwise(pl.lit(\"LONG\"))\n",
    "    .alias(\"length\")\n",
    ")"
   ]
  },
  {
   "cell_type": "markdown",
   "metadata": {},
   "source": [
    "### Bias detection for Driver Licences"
   ]
  },
  {
   "cell_type": "markdown",
   "metadata": {},
   "source": [
    "- **Pre-processing step –> driving licence flag**  \n",
    "  We call `add_demographic_info()` to add a Boolean column, `has_driving_license`, to the CV dataframe. This flag will help us compare what the regex detects in the raw CV text with what the parser extracted as driving licence for each candidate, allowing us to identify potential omissions in the parsing step.\n",
    "\n",
    "- **How the flag is generated**  \n",
    "  - A single case insensitive regex (`driver_license_pattern_eng`) looks for common phrases such as “driving license B”, \"C1 driving licence” or even “own car”.  \n",
    "  - The helper function `extract_driver_license(text)` returns `True` if the regex matches anywhere in the CV text.  \n",
    "\n",
    "- **Resulting columns in `df_cv`**  \n",
    "  -  Same as before\n",
    "  - `Gender`, `Location` —> from the candidates sheet\n",
    "  - `has_driving_license` —> `True` if any licence is mentioned, otherwise `False`\n",
    "\n",
    "- **Note**  \n",
    "  For now we only care whether a candidate has *any* licence. (given that the driver license type column contains a handful of null values (see `data_cleaning.ipynb`))\n",
    "  \n",
    "  The same regex already captures specific categories (A, B, C…), so the analysis could be extended later if we want to explore potential biases tied to particular licence types."
   ]
  },
  {
   "cell_type": "code",
   "execution_count": 33,
   "metadata": {},
   "outputs": [
    {
     "data": {
      "text/html": [
       "<div><style>\n",
       ".dataframe > thead > tr,\n",
       ".dataframe > tbody > tr {\n",
       "  text-align: right;\n",
       "  white-space: pre-wrap;\n",
       "}\n",
       "</style>\n",
       "<small>shape: (5, 8)</small><table border=\"1\" class=\"dataframe\"><thead><tr><th>CANDIDATE_ID</th><th>CV_text_anon</th><th>Translated_CV</th><th>len_anon</th><th>length</th><th>Gender</th><th>Location</th><th>has_driving_license</th></tr><tr><td>i64</td><td>str</td><td>str</td><td>i64</td><td>str</td><td>str</td><td>str</td><td>bool</td></tr></thead><tbody><tr><td>7990324</td><td>&quot;CV anonimizzato:\n",
       "&quot;&quot;&quot;\n",
       "PROFILO\n",
       "D…</td><td>&quot; profile graduated from elsa m…</td><td>1445</td><td>&quot;MEDIUM&quot;</td><td>&quot;Female&quot;</td><td>&quot;NORTH&quot;</td><td>true</td></tr><tr><td>7974050</td><td>&quot;CV anonimizzato:\n",
       "&quot;&quot;&quot;\n",
       " Curricul…</td><td>&quot; curriculum vitae personal inf…</td><td>2148</td><td>&quot;MEDIUM&quot;</td><td>&quot;Female&quot;</td><td>&quot;CENTER&quot;</td><td>true</td></tr><tr><td>7965670</td><td>&quot;CV anonimizzato:\n",
       "&quot;&quot;&quot;\n",
       "ESPERIENZ…</td><td>&quot; work experience 03/27/2023 – …</td><td>4911</td><td>&quot;LONG&quot;</td><td>&quot;Female&quot;</td><td>&quot;NORTH&quot;</td><td>true</td></tr><tr><td>7960501</td><td>&quot;CV anonimizzato:\n",
       "&quot;&quot;&quot;\n",
       "Esperienz…</td><td>&quot; work experience waiter and ba…</td><td>680</td><td>&quot;SHORT&quot;</td><td>&quot;Male&quot;</td><td>&quot;NORTH&quot;</td><td>false</td></tr><tr><td>7960052</td><td>&quot;CV anonimizzato:\n",
       "&quot;&quot;&quot;\n",
       "&nbsp;&nbsp;&nbsp;&nbsp;&nbsp;\n",
       "Dat…</td><td>&quot; date of birth: 03/26/1996 nat…</td><td>5913</td><td>&quot;LONG&quot;</td><td>&quot;Female&quot;</td><td>&quot;CENTER&quot;</td><td>false</td></tr></tbody></table></div>"
      ],
      "text/plain": [
       "shape: (5, 8)\n",
       "┌──────────────┬──────────────────┬─────────────────────────────────┬──────────┬────────┬────────┬──────────┬─────────────────────┐\n",
       "│ CANDIDATE_ID ┆ CV_text_anon     ┆ Translated_CV                   ┆ len_anon ┆ length ┆ Gender ┆ Location ┆ has_driving_license │\n",
       "│ ---          ┆ ---              ┆ ---                             ┆ ---      ┆ ---    ┆ ---    ┆ ---      ┆ ---                 │\n",
       "│ i64          ┆ str              ┆ str                             ┆ i64      ┆ str    ┆ str    ┆ str      ┆ bool                │\n",
       "╞══════════════╪══════════════════╪═════════════════════════════════╪══════════╪════════╪════════╪══════════╪═════════════════════╡\n",
       "│ 7990324      ┆ CV anonimizzato: ┆  profile graduated from elsa m… ┆ 1445     ┆ MEDIUM ┆ Female ┆ NORTH    ┆ true                │\n",
       "│              ┆ \"\"\"              ┆                                 ┆          ┆        ┆        ┆          ┆                     │\n",
       "│              ┆ PROFILO          ┆                                 ┆          ┆        ┆        ┆          ┆                     │\n",
       "│              ┆ D…               ┆                                 ┆          ┆        ┆        ┆          ┆                     │\n",
       "│ 7974050      ┆ CV anonimizzato: ┆  curriculum vitae personal inf… ┆ 2148     ┆ MEDIUM ┆ Female ┆ CENTER   ┆ true                │\n",
       "│              ┆ \"\"\"              ┆                                 ┆          ┆        ┆        ┆          ┆                     │\n",
       "│              ┆  Curricul…       ┆                                 ┆          ┆        ┆        ┆          ┆                     │\n",
       "│ 7965670      ┆ CV anonimizzato: ┆  work experience 03/27/2023 – … ┆ 4911     ┆ LONG   ┆ Female ┆ NORTH    ┆ true                │\n",
       "│              ┆ \"\"\"              ┆                                 ┆          ┆        ┆        ┆          ┆                     │\n",
       "│              ┆ ESPERIENZ…       ┆                                 ┆          ┆        ┆        ┆          ┆                     │\n",
       "│ 7960501      ┆ CV anonimizzato: ┆  work experience waiter and ba… ┆ 680      ┆ SHORT  ┆ Male   ┆ NORTH    ┆ false               │\n",
       "│              ┆ \"\"\"              ┆                                 ┆          ┆        ┆        ┆          ┆                     │\n",
       "│              ┆ Esperienz…       ┆                                 ┆          ┆        ┆        ┆          ┆                     │\n",
       "│ 7960052      ┆ CV anonimizzato: ┆  date of birth: 03/26/1996 nat… ┆ 5913     ┆ LONG   ┆ Female ┆ CENTER   ┆ false               │\n",
       "│              ┆ \"\"\"              ┆                                 ┆          ┆        ┆        ┆          ┆                     │\n",
       "│              ┆                  ┆                                 ┆          ┆        ┆        ┆          ┆                     │\n",
       "│              ┆ Dat…             ┆                                 ┆          ┆        ┆        ┆          ┆                     │\n",
       "└──────────────┴──────────────────┴─────────────────────────────────┴──────────┴────────┴────────┴──────────┴─────────────────────┘"
      ]
     },
     "execution_count": 33,
     "metadata": {},
     "output_type": "execute_result"
    }
   ],
   "source": [
    "df_cv = add_demographic_info(df_cv_raw, df_info_candidates)\n",
    "df_cv.head()"
   ]
  },
  {
   "cell_type": "markdown",
   "metadata": {},
   "source": [
    "**Comparing parser output and regex detection**\n",
    "\n",
    "The `compute_candidate_coverage()` function evaluates how well the parsing system detects a specific category of skills  by comparing it to our approach. \n",
    "\n",
    "In this case, the chosen category is  `\"DRIVERSLIC\"` and we use a custom regex based extractor applied directly to the raw CV text.\n",
    "\n",
    "\n",
    "This step is crucial for measuring the parser’s coverage by quantifying **false negatives**. (skills that are mentioned in the CV but missed by the parser)"
   ]
  },
  {
   "cell_type": "markdown",
   "metadata": {},
   "source": [
    "**Output breakdown:** \n",
    "   1. **Regex positive candidates**: number of unique candidates flagged by our rule based extractor.\n",
    "   2. **Parser positive unique candidates**: number of unique candidates flagged by the parser.\n",
    "\n",
    "- **Both regex & parser**: candidates detected by both methods.\n",
    "- **Only regex**: candidates our regex caught but the parser missed. \n",
    "- **Only parser**: candidates the parser flagged but our regex did not.\n",
    "\n",
    "Then `print_report()` displays:\n",
    "   - The overall confusion matrix and derived metrics (accuracy, precision, recall, F1)."
   ]
  },
  {
   "cell_type": "code",
   "execution_count": 34,
   "metadata": {},
   "outputs": [
    {
     "data": {
      "application/vnd.jupyter.widget-view+json": {
       "model_id": "5b0746c3683249a9b1a9bd2c1c7d09d8",
       "version_major": 2,
       "version_minor": 0
      },
      "text/plain": [
       "  0%|          | 0/7404 [00:00<?, ?it/s]"
      ]
     },
     "metadata": {},
     "output_type": "display_data"
    },
    {
     "name": "stdout",
     "output_type": "stream",
     "text": [
      "Regex positive candidates        : 4134\n",
      "Parser positive unique candidates: 2032\n",
      "- Both regex & parser   : 1689\n",
      "- Only regex            : 2445\n",
      "- Only parser           : 343\n",
      "\n",
      "Confusion matrix: \n",
      "Counts   -> TP:1689   FP:343   TN:2927   FN:2445 \n",
      "Metrics  -> Precision:0.83  Recall:0.409  F1:0.548  Acc:0.623\n"
     ]
    }
   ],
   "source": [
    "res_dl = compute_candidate_coverage(\n",
    "    df_cv=df_cv,\n",
    "    df_parser=df_skills,\n",
    "    skill_type=\"DRIVERSLIC\",\n",
    "    extractor=extract_driver_license,\n",
    "    norm=norm_driver_license,\n",
    ")\n",
    "\n",
    "print(\"Confusion matrix:\", res_dl.conf)"
   ]
  },
  {
   "cell_type": "markdown",
   "metadata": {},
   "source": [
    "The parser achieves **high precision (~83 %)** but **low recall (~41 %)**.  \n",
    "In other words, when it flags a skill it is usually correct, yet it **misses more than half of the skills** that the regex finds."
   ]
  },
  {
   "cell_type": "markdown",
   "metadata": {},
   "source": [
    "Let's dive into **false negatives (FN)**  \n",
    "   * We’ll highlight in **red** the exact terms captured by the regex directly inside the CV text, making it easy to verify their presence at a glance."
   ]
  },
  {
   "cell_type": "code",
   "execution_count": 35,
   "metadata": {},
   "outputs": [
    {
     "name": "stdout",
     "output_type": "stream",
     "text": [
      "\n",
      "CANDIDATE ID: 6656580 - GENERE: Female\n",
      "Reason: Rule-based extractor found skill but parser missed it.\n",
      "--------------------------------------------------------------------------------\n",
      "ail / use of photo editing software (adobe lightroom) problem solving (problem analysis) / teamwork \u001b[31mdriving license: b\u001b[0m (25/08/2009)\n",
      "--------------------------------------------------------------------------------\n",
      "\n",
      "CANDIDATE ID: 2833090 - GENERE: Male\n",
      "Reason: Rule-based extractor found skill but parser missed it.\n",
      "--------------------------------------------------------------------------------\n",
      "verhead cranes technical skills and competences with computers, specific equipment, machinery, etc. \u001b[31mdriving licence or\u001b[0m licences driving licence b [insert any other relevant information here, e.g. contact persons, refer\n",
      "lls and competences with computers, specific equipment, machinery, etc. driving licence or licences \u001b[31mdriving licence b\u001b[0m [insert any other relevant information here, e.g. contact persons, references, further information,\n",
      "--------------------------------------------------------------------------------\n"
     ]
    }
   ],
   "source": [
    "df_fn = pl.DataFrame(res_dl.fn_rows)\n",
    "sample = df_fn.sample(n=2, shuffle=True)\n",
    "for row in sample.to_dicts():\n",
    "    print_highlighted_cv(row, pattern=driver_license_pattern_eng)"
   ]
  },
  {
   "cell_type": "code",
   "execution_count": 36,
   "metadata": {},
   "outputs": [
    {
     "name": "stdout",
     "output_type": "stream",
     "text": [
      "False negatives matching snippet pattern: 2445\n",
      "Saved filtered false negatives!\n"
     ]
    }
   ],
   "source": [
    "print(f\"False negatives matching snippet pattern: {df_fn.height}\")\n",
    "df_fn.write_csv(DRIVING_LICENSE_FALSE_NEGATIVES_PATH, separator=\";\")\n",
    "print(\"Saved filtered false negatives!\")"
   ]
  },
  {
   "cell_type": "code",
   "execution_count": 37,
   "metadata": {},
   "outputs": [],
   "source": [
    "%%bash --bg \n",
    "cd ..\n",
    "\n",
    "# for Unix users  \n",
    ".venv/bin/python -m streamlit run hiring_cv_bias/bias_detection/rule_based/app/fn_app.py\n",
    "\n",
    "# for Windows users\n",
    "#.venv/Scripts/python.exe -m streamlit run hiring_cv_bias/bias_detection/rule_based/app/fn_app.py"
   ]
  },
  {
   "cell_type": "markdown",
   "metadata": {},
   "source": [
    "### Bias Detection Metrics\n",
    "\n",
    "To assess the model’s fairness, we employed the following **bias detection metrics**:\n",
    "\n",
    "| Metric | Formula | Interpretation |\n",
    "|--------|---------|----------------|\n",
    "| **Equality of Opportunity&nbsp;(TPR parity)** | $$\\text{TPR}_g = \\frac{TP_g}{TP_g + FN_g} $$ | $\\text{TPR}_g$ equal for every $g$ ensures that **every individual who truly qualifies** for a positive outcome has the **same chance** of being correctly identified, regardless of group membership. |\n",
    "| **Calibration&nbsp;\\(NPV\\)** | $$\\text{NPV}_g = \\frac{TN_g}{TN_g + FN_g}\\qquad $$ | $\\text{NPV}_g$ parity for every $g$ ensures that **when the model predicts a negative outcome**, the probability of being correct is the **same** for every group. |\n",
    "| **Selection Rate** | $$\\text{SR}_g = \\frac{TP_g + FP_g}{TP_g + FP_g + TN_g + FN_g} $$ | Share of individuals in group $g$ predicted positive (selected). |\n",
    "| **Disparate Impact (DI)** | $$\\displaystyle DI = \\frac{\\text{SR}_{\\text{target}}}{\\text{SR}_{\\text{reference}}}$$ | Ratio of selection rates; values **\\< 0.80** (four-fifths rule) indicate potential adverse impact against the target group. |\n",
    "\n",
    "\n",
    "\n",
    "<u>All these metrics were computed for the **Gender** and **Location** groups to detect and quantify possible bias in the selection process.</u>\n"
   ]
  },
  {
   "cell_type": "code",
   "execution_count": 38,
   "metadata": {},
   "outputs": [
    {
     "name": "stdout",
     "output_type": "stream",
     "text": [
      "TP: 1689, FP: 343, TN: 2927, FN: 2445\n",
      "Accuracy: 0.623, Precision: 0.831, Recall: 0.409, F1: 0.548\n",
      "\n",
      "Error and rates by Gender:\n",
      " shape: (2, 12)\n",
      "┌────────┬───────┬─────┬─────┬──────┬──────┬──────────────┬──────────┬──────────┬─────────────────────────┬─────────────────┬──────────────────┐\n",
      "│ Gender ┆ total ┆ tp  ┆ fp  ┆ fn   ┆ tn   ┆ total_skills ┆ fp_rate  ┆ fn_rate  ┆ equality_of_opportunity ┆ calibration_npv ┆ disparate_impact │\n",
      "│ ---    ┆ ---   ┆ --- ┆ --- ┆ ---  ┆ ---  ┆ ---          ┆ ---      ┆ ---      ┆ ---                     ┆ ---             ┆ ---              │\n",
      "│ str    ┆ u32   ┆ u32 ┆ u32 ┆ u32  ┆ u32  ┆ u32          ┆ f64      ┆ f64      ┆ f64                     ┆ f64             ┆ f64              │\n",
      "╞════════╪═══════╪═════╪═════╪══════╪══════╪══════════════╪══════════╪══════════╪═════════════════════════╪═════════════════╪══════════════════╡\n",
      "│ Male   ┆ 3984  ┆ 966 ┆ 189 ┆ 1316 ┆ 1513 ┆ 3984         ┆ 0.04744  ┆ 0.330321 ┆ 0.423313                ┆ 0.534818        ┆ 1.0              │\n",
      "│ Female ┆ 3420  ┆ 723 ┆ 154 ┆ 1129 ┆ 1414 ┆ 3420         ┆ 0.045029 ┆ 0.330117 ┆ 0.390389                ┆ 0.556036        ┆ 0.884526         │\n",
      "└────────┴───────┴─────┴─────┴──────┴──────┴──────────────┴──────────┴──────────┴─────────────────────────┴─────────────────┴──────────────────┘\n"
     ]
    }
   ],
   "source": [
    "print_report(\n",
    "    result=res_dl,\n",
    "    df_population=df_cv,\n",
    "    reference_col=\"Male\",\n",
    "    group_col=\"Gender\",\n",
    "    metrics=[\n",
    "        \"equality_of_opportunity\",\n",
    "        \"calibration_npv\",\n",
    "    ],\n",
    ")"
   ]
  },
  {
   "cell_type": "code",
   "execution_count": 39,
   "metadata": {},
   "outputs": [
    {
     "name": "stdout",
     "output_type": "stream",
     "text": [
      "TP: 1689, FP: 343, TN: 2927, FN: 2445\n",
      "Accuracy: 0.623, Precision: 0.831, Recall: 0.409, F1: 0.548\n",
      "\n",
      "Error and rates by Location:\n",
      " shape: (3, 12)\n",
      "┌──────────┬───────┬──────┬─────┬──────┬──────┬──────────────┬──────────┬──────────┬─────────────────────────┬─────────────────┬──────────────────┐\n",
      "│ Location ┆ total ┆ tp   ┆ fp  ┆ fn   ┆ tn   ┆ total_skills ┆ fp_rate  ┆ fn_rate  ┆ equality_of_opportunity ┆ calibration_npv ┆ disparate_impact │\n",
      "│ ---      ┆ ---   ┆ ---  ┆ --- ┆ ---  ┆ ---  ┆ ---          ┆ ---      ┆ ---      ┆ ---                     ┆ ---             ┆ ---              │\n",
      "│ str      ┆ u32   ┆ u32  ┆ u32 ┆ u32  ┆ u32  ┆ u32          ┆ f64      ┆ f64      ┆ f64                     ┆ f64             ┆ f64              │\n",
      "╞══════════╪═══════╪══════╪═════╪══════╪══════╪══════════════╪══════════╪══════════╪═════════════════════════╪═════════════════╪══════════════════╡\n",
      "│ CENTER   ┆ 1001  ┆ 243  ┆ 52  ┆ 315  ┆ 391  ┆ 1001         ┆ 0.051948 ┆ 0.314685 ┆ 0.435484                ┆ 0.553824        ┆ 1.080721         │\n",
      "│ SOUTH    ┆ 1060  ┆ 229  ┆ 51  ┆ 341  ┆ 439  ┆ 1060         ┆ 0.048113 ┆ 0.321698 ┆ 0.401754                ┆ 0.562821        ┆ 0.968674         │\n",
      "│ NORTH    ┆ 5343  ┆ 1217 ┆ 240 ┆ 1789 ┆ 2097 ┆ 5343         ┆ 0.044919 ┆ 0.334831 ┆ 0.404857                ┆ 0.539629        ┆ 1.0              │\n",
      "└──────────┴───────┴──────┴─────┴──────┴──────┴──────────────┴──────────┴──────────┴─────────────────────────┴─────────────────┴──────────────────┘\n"
     ]
    }
   ],
   "source": [
    "print_report(\n",
    "    result=res_dl,\n",
    "    df_population=df_cv,\n",
    "    reference_col=\"NORTH\",\n",
    "    group_col=\"Location\",\n",
    "    metrics=[\n",
    "        \"equality_of_opportunity\",\n",
    "        \"calibration_npv\",\n",
    "    ],\n",
    ")"
   ]
  },
  {
   "cell_type": "code",
   "execution_count": 40,
   "metadata": {},
   "outputs": [
    {
     "name": "stdout",
     "output_type": "stream",
     "text": [
      "TP: 1689, FP: 343, TN: 2927, FN: 2445\n",
      "Accuracy: 0.623, Precision: 0.831, Recall: 0.409, F1: 0.548\n",
      "\n",
      "Error and rates by length:\n",
      " shape: (3, 12)\n",
      "┌────────┬───────┬─────┬─────┬──────┬──────┬──────────────┬──────────┬──────────┬─────────────────────────┬─────────────────┬──────────────────┐\n",
      "│ length ┆ total ┆ tp  ┆ fp  ┆ fn   ┆ tn   ┆ total_skills ┆ fp_rate  ┆ fn_rate  ┆ equality_of_opportunity ┆ calibration_npv ┆ disparate_impact │\n",
      "│ ---    ┆ ---   ┆ --- ┆ --- ┆ ---  ┆ ---  ┆ ---          ┆ ---      ┆ ---      ┆ ---                     ┆ ---             ┆ ---              │\n",
      "│ str    ┆ u32   ┆ u32 ┆ u32 ┆ u32  ┆ u32  ┆ u32          ┆ f64      ┆ f64      ┆ f64                     ┆ f64             ┆ f64              │\n",
      "╞════════╪═══════╪═════╪═════╪══════╪══════╪══════════════╪══════════╪══════════╪═════════════════════════╪═════════════════╪══════════════════╡\n",
      "│ LONG   ┆ 3789  ┆ 901 ┆ 161 ┆ 1470 ┆ 1257 ┆ 3789         ┆ 0.042491 ┆ 0.387965 ┆ 0.380008                ┆ 0.460946        ┆ 1.0              │\n",
      "│ SHORT  ┆ 610   ┆ 90  ┆ 39  ┆ 103  ┆ 378  ┆ 610          ┆ 0.063934 ┆ 0.168852 ┆ 0.466321                ┆ 0.785863        ┆ 0.754501         │\n",
      "│ MEDIUM ┆ 3005  ┆ 698 ┆ 143 ┆ 872  ┆ 1292 ┆ 3005         ┆ 0.047587 ┆ 0.290183 ┆ 0.444586                ┆ 0.597043        ┆ 0.998508         │\n",
      "└────────┴───────┴─────┴─────┴──────┴──────┴──────────────┴──────────┴──────────┴─────────────────────────┴─────────────────┴──────────────────┘\n"
     ]
    }
   ],
   "source": [
    "print_report(\n",
    "    result=res_dl,\n",
    "    df_population=df_cv,\n",
    "    reference_col=\"LONG\",\n",
    "    group_col=\"length\",\n",
    "    metrics=[\n",
    "        \"equality_of_opportunity\",\n",
    "        \"calibration_npv\",\n",
    "    ],\n",
    ")"
   ]
  },
  {
   "cell_type": "markdown",
   "metadata": {},
   "source": [
    "### Bias detection for Language Skill"
   ]
  },
  {
   "cell_type": "markdown",
   "metadata": {},
   "source": [
    "Just as we applied a simple presence check for driving licenses, we handle languages with a more granular, ad-hoc normalization and extraction pipeline that recognizes each specific language individually rather than merely flagging “has any language”.\n",
    "\n",
    "Main **steps** for doing this are:\n",
    "\n",
    "* Build a reverse lookup map (`_reverse_language_map`) by iterating over each language code in `LANGUAGE_VARIANTS` (populated from pycountry with English name variants `alpha_2`) and all its known name variants, storing entries like \"english\" -> \"en\", \"italian\" -> \"it\", etc.\n",
    "* Apply `norm_languages`to every extracted mention from our regex based extractor so that each occurrence (like \"English B2” is mapped to a clean ISO code (\"en\").\n",
    "* Once all language mentions have been normalized to ISO codes via `norm_languages`, we invoke the coverage routine to quantify how well the parser matches our “ground truth” extractions."
   ]
  },
  {
   "cell_type": "code",
   "execution_count": 41,
   "metadata": {},
   "outputs": [
    {
     "data": {
      "application/vnd.jupyter.widget-view+json": {
       "model_id": "bb3685dea5da4a65b9f8179aec0003b8",
       "version_major": 2,
       "version_minor": 0
      },
      "text/plain": [
       "  0%|          | 0/7404 [00:00<?, ?it/s]"
      ]
     },
     "metadata": {},
     "output_type": "display_data"
    },
    {
     "name": "stdout",
     "output_type": "stream",
     "text": [
      "Regex positive candidates        : 6387\n",
      "Parser positive unique candidates: 6500\n",
      "- Both regex & parser   : 5615\n",
      "- Only regex            : 772\n",
      "- Only parser           : 885\n",
      "\n",
      "Confusion matrix: \n",
      "Counts   -> TP:10389  FP:2392  TN:132    FN:5438 \n",
      "Metrics  -> Precision:0.81  Recall:0.656  F1:0.726  Acc:0.573\n"
     ]
    }
   ],
   "source": [
    "res_lg = compute_candidate_coverage(\n",
    "    df_cv=df_cv,\n",
    "    df_parser=df_skills,\n",
    "    skill_type=\"Language_Skill\",\n",
    "    extractor=extract_languages,\n",
    "    norm=norm_languages,\n",
    ")\n",
    "\n",
    "print(\"Confusion matrix:\", res_lg.conf)"
   ]
  },
  {
   "cell_type": "code",
   "execution_count": 42,
   "metadata": {},
   "outputs": [
    {
     "name": "stdout",
     "output_type": "stream",
     "text": [
      "\n",
      "CANDIDATE ID: 6976698 - GENERE: Male\n",
      "Reason: Rule-based extractor found skill but parser missed it.\n",
      "--------------------------------------------------------------------------------\n",
      "c operations to conduct chemical and biochemical analyses and know how to perform them nationality: \u001b[31mitalian\u001b[0m. - use of laboratory instruments for chemical and biochemical analyses. - define environmental, bio\n",
      "r, soil, air, waste. a1, b - draft technical reports and document individual and group activities. -\u001b[31mEnglish\u001b[0m language professional experiences: intermediate -office package intern as a chemical technician vid\n",
      "--------------------------------------------------------------------------------\n",
      "\n",
      "CANDIDATE ID: 120664 - GENERE: Male\n",
      "Reason: Rule-based extractor found skill but parser missed it.\n",
      "--------------------------------------------------------------------------------\n",
      "lephone ***/***.**.** ************ e-mail *********@*****.** – ********.*********@***.**********.** \u001b[31mItalian\u001b[0m citizenship **/**/**** date of birth male professional experience **.**.**** to **.**.**** dates of\n",
      "**********” - ****** education and training provider personal skills and competences native speaker \u001b[31mItalian\u001b[0m other languages English - French self-assessment comprehension speaking writing listening reading o\n",
      "****** education and training provider personal skills and competences native speaker Italian other \u001b[31mlanguages English\u001b[0m - French self-assessment comprehension speaking writing listening reading oral interaction oral pro\n",
      " training provider personal skills and competences native speaker Italian other languages English - \u001b[31mFrench\u001b[0m self-assessment comprehension speaking writing listening reading oral interaction oral production *\n",
      " interaction oral production *.basic level. * basic level * basic level * basic level * basic level \u001b[31mEnglish\u001b[0m language *.basic level. * basic level * basic level * basic level * basic level French language org\n",
      "basic level English language *.basic level. * basic level * basic level * basic level * basic level \u001b[31mFrench\u001b[0m language organizer of groups with the objective of supporting individuals and families with social \n",
      "vered “damage and property insurance” participation in the following training courses held by AIBA (\u001b[31mItalian\u001b[0m Association of Insurance and Reinsurance Brokers): - dated **.**.**** subject covered “in-depth stu\n",
      "--------------------------------------------------------------------------------\n",
      "\n",
      "CANDIDATE ID: 4417736 - GENERE: Male\n",
      "Reason: Rule-based extractor found skill but parser missed it.\n",
      "--------------------------------------------------------------------------------\n",
      "of hardware items, restocking, inventory and domicile: reggio emilia (re) stock check) citizenship: \u001b[31mitalian\u001b[0m 2004/ 2005 - company, mola di bari (ba) I am a humble, serious and reliable boy, apprentice electri\n",
      "eading of technical drawings excellent manual skills, knowledge of IT and use of electronic devices \u001b[31mknowledge of the English\u001b[0m language: level b1/b2 knowledge of the German language: level a2 \n",
      "kills, knowledge of IT and use of electronic devices knowledge of the English language: level b1/b2 \u001b[31mknowledge of the German\u001b[0m language: level a2 \n",
      "--------------------------------------------------------------------------------\n",
      "\n",
      "CANDIDATE ID: 4339388 - GENERE: Female\n",
      "Reason: Rule-based extractor found skill but parser missed it.\n",
      "--------------------------------------------------------------------------------\n",
      "ellent communication skills and good command of the printer\\scanner to create barcodes ensuring the \u001b[31mItalian\u001b[0m, English and French language. maximum precision and competence use of the bar code gun, pallet truc\n",
      "mmunication skills and good command of the printer\\scanner to create barcodes ensuring the Italian, \u001b[31mEnglish\u001b[0m and French language. maximum precision and competence use of the bar code gun, pallet truck good kn\n",
      "skills and good command of the printer\\scanner to create barcodes ensuring the Italian, English and \u001b[31mFrench\u001b[0m language. maximum precision and competence use of the bar code gun, pallet truck good knowledge of \n",
      "--------------------------------------------------------------------------------\n",
      "\n",
      "CANDIDATE ID: 4286199 - GENERE: Male\n",
      "Reason: Rule-based extractor found skill but parser missed it.\n",
      "--------------------------------------------------------------------------------\n",
      " iris brixia, brescia contacts in companies I was responsible for the following tasks: nationality: \u001b[31mitalian\u001b[0m gender: male brescia, italy 12/03/2017 – 03/04/2018 heating engineer antonio bernoni&#39;s heating \n",
      "umbing and heating technician school bottega artigiani di san polo language skills native language: \u001b[31mitalian\u001b[0m other languages: english listening reading production interaction writing a2 a2 oral oral a1 a1 a2 \n",
      "cian school bottega artigiani di san polo language skills native language: italian other languages: \u001b[31menglish\u001b[0m listening reading production interaction writing a2 a2 oral oral a1 a1 a2 french listening reading \n",
      " other languages: english listening reading production interaction writing a2 a2 oral oral a1 a1 a2 \u001b[31mfrench\u001b[0m listening reading production interaction writing a1 a1 oral oral a1 a1 a1 digital skills independen\n",
      "--------------------------------------------------------------------------------\n"
     ]
    }
   ],
   "source": [
    "df_fn = pl.DataFrame(res_lg.fn_rows)\n",
    "sample = df_fn.sample(n=5, shuffle=True)\n",
    "for row in sample.to_dicts():\n",
    "    print_highlighted_cv(row, pattern=languages_pattern_eng)"
   ]
  },
  {
   "cell_type": "code",
   "execution_count": 43,
   "metadata": {},
   "outputs": [
    {
     "name": "stdout",
     "output_type": "stream",
     "text": [
      "False negatives matching snippet pattern: 5438\n",
      "Saved filtered false negatives to false_negative.csv\n"
     ]
    }
   ],
   "source": [
    "print(f\"False negatives matching snippet pattern: {df_fn.height}\")\n",
    "df_fn.write_csv(LANGUAGE_SKILL_FALSE_NEGATIVES_PATH, separator=\";\")\n",
    "print(\"Saved filtered false negatives to false_negative.csv\")"
   ]
  },
  {
   "cell_type": "code",
   "execution_count": 44,
   "metadata": {},
   "outputs": [],
   "source": [
    "%%bash --bg \n",
    "cd ..\n",
    "# for Unix users\n",
    ".venv/bin/python -m streamlit run hiring_cv_bias/bias_detection/rule_based/app/fn_app.py\n",
    "\n",
    "# for Windows users\n",
    "#.venv/Scripts/python.exe -m streamlit run hiring_cv_bias/bias_detection/rule_based/app/fn_app.py"
   ]
  },
  {
   "cell_type": "code",
   "execution_count": 45,
   "metadata": {},
   "outputs": [
    {
     "name": "stdout",
     "output_type": "stream",
     "text": [
      "TP: 10389, FP: 2392, TN: 132, FN: 5438\n",
      "Accuracy: 0.573, Precision: 0.813, Recall: 0.656, F1: 0.726\n",
      "\n",
      "Error and rates by Gender:\n",
      " shape: (2, 12)\n",
      "┌────────┬───────┬──────┬──────┬──────┬─────┬──────────────┬──────────┬──────────┬─────────────────────────┬─────────────────┬──────────────────┐\n",
      "│ Gender ┆ total ┆ tp   ┆ fp   ┆ fn   ┆ tn  ┆ total_skills ┆ fp_rate  ┆ fn_rate  ┆ equality_of_opportunity ┆ calibration_npv ┆ disparate_impact │\n",
      "│ ---    ┆ ---   ┆ ---  ┆ ---  ┆ ---  ┆ --- ┆ ---          ┆ ---      ┆ ---      ┆ ---                     ┆ ---             ┆ ---              │\n",
      "│ str    ┆ u32   ┆ u32  ┆ u32  ┆ u32  ┆ u32 ┆ u32          ┆ f64      ┆ f64      ┆ f64                     ┆ f64             ┆ f64              │\n",
      "╞════════╪═══════╪══════╪══════╪══════╪═════╪══════════════╪══════════╪══════════╪═════════════════════════╪═════════════════╪══════════════════╡\n",
      "│ Male   ┆ 3984  ┆ 5420 ┆ 1251 ┆ 2608 ┆ 77  ┆ 9356         ┆ 0.133711 ┆ 0.278752 ┆ 0.675137                ┆ 0.028678        ┆ 1.0              │\n",
      "│ Female ┆ 3420  ┆ 4969 ┆ 1141 ┆ 2830 ┆ 55  ┆ 8995         ┆ 0.126848 ┆ 0.314619 ┆ 0.637133                ┆ 0.019064        ┆ 0.952663         │\n",
      "└────────┴───────┴──────┴──────┴──────┴─────┴──────────────┴──────────┴──────────┴─────────────────────────┴─────────────────┴──────────────────┘\n"
     ]
    }
   ],
   "source": [
    "print_report(\n",
    "    result=res_lg,\n",
    "    df_population=df_cv,\n",
    "    reference_col=\"Male\",\n",
    "    group_col=\"Gender\",\n",
    "    metrics=[\n",
    "        \"equality_of_opportunity\",\n",
    "        \"calibration_npv\",\n",
    "    ],\n",
    ")"
   ]
  },
  {
   "cell_type": "code",
   "execution_count": 46,
   "metadata": {},
   "outputs": [
    {
     "name": "stdout",
     "output_type": "stream",
     "text": [
      "TP: 10389, FP: 2392, TN: 132, FN: 5438\n",
      "Accuracy: 0.573, Precision: 0.813, Recall: 0.656, F1: 0.726\n",
      "\n",
      "Error and rates by Location:\n",
      " shape: (3, 12)\n",
      "┌──────────┬───────┬──────┬──────┬──────┬─────┬──────────────┬──────────┬──────────┬─────────────────────────┬─────────────────┬──────────────────┐\n",
      "│ Location ┆ total ┆ tp   ┆ fp   ┆ fn   ┆ tn  ┆ total_skills ┆ fp_rate  ┆ fn_rate  ┆ equality_of_opportunity ┆ calibration_npv ┆ disparate_impact │\n",
      "│ ---      ┆ ---   ┆ ---  ┆ ---  ┆ ---  ┆ --- ┆ ---          ┆ ---      ┆ ---      ┆ ---                     ┆ ---             ┆ ---              │\n",
      "│ str      ┆ u32   ┆ u32  ┆ u32  ┆ u32  ┆ u32 ┆ u32          ┆ f64      ┆ f64      ┆ f64                     ┆ f64             ┆ f64              │\n",
      "╞══════════╪═══════╪══════╪══════╪══════╪═════╪══════════════╪══════════╪══════════╪═════════════════════════╪═════════════════╪══════════════════╡\n",
      "│ CENTER   ┆ 1001  ┆ 1431 ┆ 343  ┆ 733  ┆ 10  ┆ 2517         ┆ 0.136273 ┆ 0.29122  ┆ 0.661275                ┆ 0.013459        ┆ 1.013434         │\n",
      "│ NORTH    ┆ 5343  ┆ 7484 ┆ 1701 ┆ 3914 ┆ 108 ┆ 13207        ┆ 0.128795 ┆ 0.296358 ┆ 0.656606                ┆ 0.026852        ┆ 1.0              │\n",
      "│ SOUTH    ┆ 1060  ┆ 1474 ┆ 348  ┆ 791  ┆ 14  ┆ 2627         ┆ 0.13247  ┆ 0.301104 ┆ 0.650773                ┆ 0.017391        ┆ 0.997271         │\n",
      "└──────────┴───────┴──────┴──────┴──────┴─────┴──────────────┴──────────┴──────────┴─────────────────────────┴─────────────────┴──────────────────┘\n"
     ]
    }
   ],
   "source": [
    "print_report(\n",
    "    result=res_lg,\n",
    "    df_population=df_cv,\n",
    "    reference_col=\"NORTH\",\n",
    "    group_col=\"Location\",\n",
    "    metrics=[\n",
    "        \"equality_of_opportunity\",\n",
    "        \"calibration_npv\",\n",
    "    ],\n",
    ")"
   ]
  },
  {
   "cell_type": "code",
   "execution_count": 47,
   "metadata": {},
   "outputs": [
    {
     "name": "stdout",
     "output_type": "stream",
     "text": [
      "TP: 10389, FP: 2392, TN: 132, FN: 5438\n",
      "Accuracy: 0.573, Precision: 0.813, Recall: 0.656, F1: 0.726\n",
      "\n",
      "Error and rates by length:\n",
      " shape: (3, 12)\n",
      "┌────────┬───────┬──────┬──────┬──────┬─────┬──────────────┬──────────┬──────────┬─────────────────────────┬─────────────────┬──────────────────┐\n",
      "│ length ┆ total ┆ tp   ┆ fp   ┆ fn   ┆ tn  ┆ total_skills ┆ fp_rate  ┆ fn_rate  ┆ equality_of_opportunity ┆ calibration_npv ┆ disparate_impact │\n",
      "│ ---    ┆ ---   ┆ ---  ┆ ---  ┆ ---  ┆ --- ┆ ---          ┆ ---      ┆ ---      ┆ ---                     ┆ ---             ┆ ---              │\n",
      "│ str    ┆ u32   ┆ u32  ┆ u32  ┆ u32  ┆ u32 ┆ u32          ┆ f64      ┆ f64      ┆ f64                     ┆ f64             ┆ f64              │\n",
      "╞════════╪═══════╪══════╪══════╪══════╪═════╪══════════════╪══════════╪══════════╪═════════════════════════╪═════════════════╪══════════════════╡\n",
      "│ LONG   ┆ 3789  ┆ 5715 ┆ 925  ┆ 3371 ┆ 43  ┆ 10054        ┆ 0.092003 ┆ 0.335289 ┆ 0.62899                 ┆ 0.012595        ┆ 1.0              │\n",
      "│ SHORT  ┆ 610   ┆ 489  ┆ 421  ┆ 219  ┆ 27  ┆ 1156         ┆ 0.364187 ┆ 0.189446 ┆ 0.690678                ┆ 0.109756        ┆ 1.19194          │\n",
      "│ MEDIUM ┆ 3005  ┆ 4185 ┆ 1046 ┆ 1848 ┆ 62  ┆ 7141         ┆ 0.146478 ┆ 0.258787 ┆ 0.693685                ┆ 0.032461        ┆ 1.109166         │\n",
      "└────────┴───────┴──────┴──────┴──────┴─────┴──────────────┴──────────┴──────────┴─────────────────────────┴─────────────────┴──────────────────┘\n"
     ]
    }
   ],
   "source": [
    "print_report(\n",
    "    result=res_lg,\n",
    "    df_population=df_cv,\n",
    "    reference_col=\"LONG\",\n",
    "    group_col=\"length\",\n",
    "    metrics=[\n",
    "        \"equality_of_opportunity\",\n",
    "        \"calibration_npv\",\n",
    "    ],\n",
    ")"
   ]
  },
  {
   "cell_type": "markdown",
   "metadata": {},
   "source": [
    "### Bias detection for Job Title"
   ]
  },
  {
   "cell_type": "markdown",
   "metadata": {},
   "source": [
    "Loading list of jobs from [ESCO](https://esco.ec.europa.eu/en/about-esco) and filtering out those that are too specific (length > 3)."
   ]
  },
  {
   "cell_type": "code",
   "execution_count": 48,
   "metadata": {},
   "outputs": [],
   "source": [
    "df_skills_cleaned = df_skills.with_columns(\n",
    "    pl.col(\"Skill\")\n",
    "    .str.to_lowercase()\n",
    "    .str.replace_all(\"(m/f)\", \"\", literal=True)\n",
    "    .str.strip_chars()\n",
    "    .alias(\"Skill\")\n",
    ")"
   ]
  },
  {
   "cell_type": "markdown",
   "metadata": {},
   "source": [
    "The **bias detection pipeline for job titles** consists of two main components:\n",
    "\n",
    "* **JobParser**: a class that extracts job experiences listed in [ESCO](https://esco.ec.europa.eu/en/about-esco) from raw CV texts, using SpaCy's `PhraseMatcher`.\n",
    "\n",
    "* **SemanticMatcher**: once job experiences are extracted, the `SemanticMatcher` (`all-MiniLM-L6-v2`) is then used exclusively to determine which of these experiences match the parser extracted skills, employing semantic embeddings. Pairwise cosine similarity is calculated between the embeddings of **JobParser** skills and Parser skills. Matches are established when this similarity exceeds a specified threshold. This matching step is used only to compute metrics.\n"
   ]
  },
  {
   "cell_type": "code",
   "execution_count": 49,
   "metadata": {},
   "outputs": [],
   "source": [
    "parser = JobParser(normalized_jobs)\n",
    "matcher = SemanticMatcher()"
   ]
  },
  {
   "cell_type": "code",
   "execution_count": 50,
   "metadata": {},
   "outputs": [
    {
     "data": {
      "application/vnd.jupyter.widget-view+json": {
       "model_id": "b3c5031c884f4463ab8a293030a85d07",
       "version_major": 2,
       "version_minor": 0
      },
      "text/plain": [
       "  0%|          | 0/7404 [00:00<?, ?it/s]"
      ]
     },
     "metadata": {},
     "output_type": "display_data"
    },
    {
     "name": "stdout",
     "output_type": "stream",
     "text": [
      "Regex positive candidates        : 5614\n",
      "Parser positive unique candidates: 6763\n",
      "- Both regex & parser   : 5299\n",
      "- Only regex            : 315\n",
      "- Only parser           : 1464\n",
      "\n",
      "Confusion matrix: \n",
      "Counts   -> TP:7838   FP:14976 TN:326    FN:6394 \n",
      "Metrics  -> Precision:0.34  Recall:0.551  F1:0.423  Acc:0.276\n"
     ]
    }
   ],
   "source": [
    "res_job = compute_candidate_coverage(\n",
    "    df_cv,\n",
    "    df_skills_cleaned,\n",
    "    \"Job_title\",\n",
    "    parser.parse_with_n_grams,\n",
    "    matcher=matcher.semantic_comparison,\n",
    ")\n",
    "\n",
    "print(\"Confusion matrix:\", res_job.conf)"
   ]
  },
  {
   "cell_type": "code",
   "execution_count": 51,
   "metadata": {},
   "outputs": [
    {
     "name": "stdout",
     "output_type": "stream",
     "text": [
      "\n",
      "CANDIDATE ID: 164547 - GENERE: Male\n",
      "Reason: Rule-based extractor found skill but parser missed it.\n",
      "--------------------------------------------------------------------------------\n",
      "rth havana - cuba with regular residence permit let me introduce myself, I have had experience as a \u001b[31mwarehouse worker\u001b[0m: picking, reception, loading and unloading goods, checking and issuing transport documents, sorting\n",
      " oficina del historiador havana - cuba type of employment employee main duties and responsibilities \u001b[31mcarriage driver\u001b[0m and tour guide date 2004 - 2005 name and address of employer partagas - tobacco factory havana - cu\n",
      "griculture type of employment employee main duties and responsibilities clerk: customer service and \u001b[31mwarehouse worker\u001b[0m education date november - december 2018 name and type of educational institution or - personal trai\n",
      "ehouse worker education date november - december 2018 name and type of educational institution or - \u001b[31mpersonal trainer\u001b[0m training - forming, learning, coaching day - german basic course utl - english high level utl - the\n",
      "--------------------------------------------------------------------------------\n",
      "\n",
      "CANDIDATE ID: 4856923 - GENERE: Female\n",
      "Reason: Rule-based extractor found skill but parser missed it.\n",
      "--------------------------------------------------------------------------------\n",
      " student of ti work experience from 07/10/2020 to 31/12/2020 duar group (arezzo) profile - sector: \u001b[31mgoldsmith\u001b[0m industry. - occupation: worker. - job description: packaging, assembly and quality control of jewel\n",
      "--------------------------------------------------------------------------------\n",
      "\n",
      "CANDIDATE ID: 6787616 - GENERE: Female\n",
      "Reason: Rule-based extractor found skill but parser missed it.\n",
      "--------------------------------------------------------------------------------\n",
      "ae date of birth: 04/07/1988 nationality: Italian work experience: • from July 2022 to October 2022 \u001b[31mcashier\u001b[0m and shelf-stocking assistant at Alì supermarkets in San Donà di Piave with a seasonal contract (IV \n",
      "from August 2017 to January 2018 internship at Maxi supermarket in Musile di Piave with the role of \u001b[31mcashier\u001b[0m and shelf-stocking assistant • from October 2014 to November 2016 occasional collaboration contract\n",
      "s and supermarkets, San Donà and Oderzo area, on behalf of the Progetto srl agency with the role of \u001b[31mpromoter\u001b[0m • from May to November 2012 sales assistant at the Piave shopping centre, GoKids children&#39;s clo\n",
      "zo area, on behalf of the Progetto srl agency with the role of promoter • from May to November 2012 \u001b[31msales assistant\u001b[0m at the Piave shopping centre, GoKids children&#39;s clothing store, Bernardi affiliate, with the ro\n",
      "e Piave shopping centre, GoKids children&#39;s clothing store, Bernardi affiliate, with the role of \u001b[31mcashier\u001b[0m, warehouse and customer service assistant, shelf-stocking assistant. • from May to October 2011 pac\n",
      "ouse and customer service assistant, shelf-stocking assistant. • from May to October 2011 packager, \u001b[31msales assistant\u001b[0m and shop window display manager at Quadrifoglio Bomboniere in San Donà di Piave • from December 201\n",
      " manager at Quadrifoglio Bomboniere in San Donà di Piave • from December 2010 to today Avon product \u001b[31mpresenter\u001b[0m • from March to September 2009 payroll clerk at Studio Articom in San Donà di Piave with internship\n",
      "n Donà di Piave • from December 2010 to today Avon product presenter • from March to September 2009 \u001b[31mpayroll clerk\u001b[0m at Studio Articom in San Donà di Piave with internship contract: • from June to November 2014 - 260\n",
      "edited in the Veneto region • October 2014 - certificate of participation in the qualified homework \u001b[31mtutor\u001b[0m course, obtained at “non solo tata” by Serena Mestre in Noventa di Piave • March 2014 - certificate\n",
      "ena Mestre in Noventa di Piave • January 2013 - certificate of participation in the “I want to be a \u001b[31mnanny\u001b[0m” course, obtained at “non solo tata” by Serena Mestre in Noventa di Piave • 2010 - accounting diplo\n",
      "--------------------------------------------------------------------------------\n",
      "\n",
      "CANDIDATE ID: 7377989 - GENERE: Female\n",
      "Reason: Rule-based extractor found skill but parser missed it.\n",
      "--------------------------------------------------------------------------------\n",
      "professional diploma in food and wine services and hotel hospitality experience lidl italia srl gdo \u001b[31mwarehouse worker\u001b[0m / sales assistant - collaboration with the team for optimal management of the point of sale - resto\n",
      "a in food and wine services and hotel hospitality experience lidl italia srl gdo warehouse worker / \u001b[31msales assistant\u001b[0m - collaboration with the team for optimal management of the point of sale - restocking of products \n",
      " of the point of sale - restocking of products on pallets - preparation of new items on promotion - \u001b[31mcashier\u001b[0m management - tidying up and cleaning of the premises - customer assistance pizzeria n1 pizza chef /\n",
      "ashier management - tidying up and cleaning of the premises - customer assistance pizzeria n1 pizza \u001b[31mchef\u001b[0m / counter assistant - preparation of various baked goods (focaccia, etc.) - preparation of all type\n",
      "of custom pizzas this CV was created with CV app 2014 - 2016 2016ristorante nettuno (summer season) \u001b[31mhead waiter\u001b[0m - management of the room and staff - ensuring compliance with food regulations (haccp) - cashier ma\n",
      "ead waiter - management of the room and staff - ensuring compliance with food regulations (haccp) - \u001b[31mcashier\u001b[0m management - taking care of the appearance of the restaurant ristorante girasole head waiter profes\n",
      " (haccp) - cashier management - taking care of the appearance of the restaurant ristorante girasole \u001b[31mhead waiter\u001b[0m professional and enthusiastic waitress with over three years of experience serving tables in busy r\n",
      "e of the appearance of the restaurant ristorante girasole head waiter professional and enthusiastic \u001b[31mwaitress\u001b[0m with over three years of experience serving tables in busy restaurants and banquets. able to provid\n",
      "--------------------------------------------------------------------------------\n",
      "\n",
      "CANDIDATE ID: 7413888 - GENERE: Female\n",
      "Reason: Rule-based extractor found skill but parser missed it.\n",
      "--------------------------------------------------------------------------------\n",
      " of payment schedules • management of paper and digital archives • preparation of documents for the \u001b[31maccountant\u001b[0m 09/2013 – 05/2016 Graz, Austria au pair private family duties: • responsible for the daily care of \n",
      " and digital archives • preparation of documents for the accountant 09/2013 – 05/2016 Graz, Austria \u001b[31mau pair\u001b[0m private family duties: • responsible for the daily care of a child starting from the age of 18 mont\n",
      "e bright side of things, I always try to be proactive and collaborative. The experience of being an \u001b[31mau pair\u001b[0m in Austria was very formative because it allowed me to consolidate a good spirit of adaptation, fle\n",
      "--------------------------------------------------------------------------------\n"
     ]
    }
   ],
   "source": [
    "df_fn = pl.DataFrame(res_job.fn_rows)\n",
    "sample = df_fn.sample(n=5, shuffle=True)\n",
    "for row in sample.to_dicts():\n",
    "    print_highlighted_cv(row, pattern=jobs_pattern)"
   ]
  },
  {
   "cell_type": "code",
   "execution_count": 52,
   "metadata": {},
   "outputs": [
    {
     "name": "stdout",
     "output_type": "stream",
     "text": [
      "False negatives matching snippet pattern: 6394\n",
      "Saved filtered false negatives to false_negative.csv\n"
     ]
    }
   ],
   "source": [
    "print(f\"False negatives matching snippet pattern: {df_fn.height}\")\n",
    "df_fn.write_csv(JOB_TITLE_FALSE_NEGATIVES_PATH, separator=\";\")\n",
    "print(\"Saved filtered false negatives to false_negative.csv\")"
   ]
  },
  {
   "cell_type": "code",
   "execution_count": 53,
   "metadata": {},
   "outputs": [],
   "source": [
    "%%bash --bg \n",
    "cd ..\n",
    "\n",
    "# for Unix users\n",
    ".venv/bin/python -m streamlit run hiring_cv_bias/bias_detection/rule_based/app/fn_app.py\n",
    "\n",
    "# for Windows users\n",
    "#.venv/Scripts/python.exe -m streamlit run hiring_cv_bias/bias_detection/rule_based/app/fn_app.py"
   ]
  },
  {
   "cell_type": "code",
   "execution_count": 54,
   "metadata": {},
   "outputs": [
    {
     "name": "stdout",
     "output_type": "stream",
     "text": [
      "TP: 7838, FP: 14976, TN: 326, FN: 6394\n",
      "Accuracy: 0.276, Precision: 0.344, Recall: 0.551, F1: 0.423\n",
      "\n",
      "Error and rates by Gender:\n",
      " shape: (2, 12)\n",
      "┌────────┬───────┬──────┬──────┬──────┬─────┬──────────────┬──────────┬──────────┬─────────────────────────┬─────────────────┬──────────────────┐\n",
      "│ Gender ┆ total ┆ tp   ┆ fp   ┆ fn   ┆ tn  ┆ total_skills ┆ fp_rate  ┆ fn_rate  ┆ equality_of_opportunity ┆ calibration_npv ┆ disparate_impact │\n",
      "│ ---    ┆ ---   ┆ ---  ┆ ---  ┆ ---  ┆ --- ┆ ---          ┆ ---      ┆ ---      ┆ ---                     ┆ ---             ┆ ---              │\n",
      "│ str    ┆ u32   ┆ u32  ┆ u32  ┆ u32  ┆ u32 ┆ u32          ┆ f64      ┆ f64      ┆ f64                     ┆ f64             ┆ f64              │\n",
      "╞════════╪═══════╪══════╪══════╪══════╪═════╪══════════════╪══════════╪══════════╪═════════════════════════╪═════════════════╪══════════════════╡\n",
      "│ Female ┆ 3420  ┆ 4265 ┆ 6534 ┆ 3273 ┆ 111 ┆ 14183        ┆ 0.460692 ┆ 0.230769 ┆ 0.5658                  ┆ 0.032801        ┆ 0.972811         │\n",
      "│ Male   ┆ 3984  ┆ 3573 ┆ 8442 ┆ 3121 ┆ 215 ┆ 15351        ┆ 0.549932 ┆ 0.203309 ┆ 0.533762                ┆ 0.064448        ┆ 1.0              │\n",
      "└────────┴───────┴──────┴──────┴──────┴─────┴──────────────┴──────────┴──────────┴─────────────────────────┴─────────────────┴──────────────────┘\n"
     ]
    }
   ],
   "source": [
    "print_report(\n",
    "    result=res_job,\n",
    "    df_population=df_cv,\n",
    "    reference_col=\"Male\",\n",
    "    group_col=\"Gender\",\n",
    "    metrics=[\n",
    "        \"equality_of_opportunity\",\n",
    "        \"calibration_npv\",\n",
    "    ],\n",
    ")"
   ]
  },
  {
   "cell_type": "code",
   "execution_count": 55,
   "metadata": {},
   "outputs": [
    {
     "name": "stdout",
     "output_type": "stream",
     "text": [
      "TP: 7838, FP: 14976, TN: 326, FN: 6394\n",
      "Accuracy: 0.276, Precision: 0.344, Recall: 0.551, F1: 0.423\n",
      "\n",
      "Error and rates by Location:\n",
      " shape: (3, 12)\n",
      "┌──────────┬───────┬──────┬───────┬──────┬─────┬──────────────┬──────────┬──────────┬─────────────────────────┬─────────────────┬──────────────────┐\n",
      "│ Location ┆ total ┆ tp   ┆ fp    ┆ fn   ┆ tn  ┆ total_skills ┆ fp_rate  ┆ fn_rate  ┆ equality_of_opportunity ┆ calibration_npv ┆ disparate_impact │\n",
      "│ ---      ┆ ---   ┆ ---  ┆ ---   ┆ ---  ┆ --- ┆ ---          ┆ ---      ┆ ---      ┆ ---                     ┆ ---             ┆ ---              │\n",
      "│ str      ┆ u32   ┆ u32  ┆ u32   ┆ u32  ┆ u32 ┆ u32          ┆ f64      ┆ f64      ┆ f64                     ┆ f64             ┆ f64              │\n",
      "╞══════════╪═══════╪══════╪═══════╪══════╪═════╪══════════════╪══════════╪══════════╪═════════════════════════╪═════════════════╪══════════════════╡\n",
      "│ CENTER   ┆ 1001  ┆ 1211 ┆ 2130  ┆ 938  ┆ 36  ┆ 4315         ┆ 0.493627 ┆ 0.217381 ┆ 0.563518                ┆ 0.036961        ┆ 0.997859         │\n",
      "│ SOUTH    ┆ 1060  ┆ 1078 ┆ 1956  ┆ 937  ┆ 62  ┆ 4033         ┆ 0.484999 ┆ 0.232333 ┆ 0.534988                ┆ 0.062062        ┆ 0.969529         │\n",
      "│ NORTH    ┆ 5343  ┆ 5549 ┆ 10890 ┆ 4519 ┆ 228 ┆ 21186        ┆ 0.514019 ┆ 0.213301 ┆ 0.551152                ┆ 0.04803         ┆ 1.0              │\n",
      "└──────────┴───────┴──────┴───────┴──────┴─────┴──────────────┴──────────┴──────────┴─────────────────────────┴─────────────────┴──────────────────┘\n"
     ]
    }
   ],
   "source": [
    "print_report(\n",
    "    result=res_job,\n",
    "    df_population=df_cv,\n",
    "    reference_col=\"NORTH\",\n",
    "    group_col=\"Location\",\n",
    "    metrics=[\n",
    "        \"equality_of_opportunity\",\n",
    "        \"calibration_npv\",\n",
    "    ],\n",
    ")"
   ]
  },
  {
   "cell_type": "code",
   "execution_count": 56,
   "metadata": {},
   "outputs": [
    {
     "name": "stdout",
     "output_type": "stream",
     "text": [
      "TP: 7838, FP: 14976, TN: 326, FN: 6394\n",
      "Accuracy: 0.276, Precision: 0.344, Recall: 0.551, F1: 0.423\n",
      "\n",
      "Error and rates by length:\n",
      " shape: (3, 12)\n",
      "┌────────┬───────┬──────┬──────┬──────┬─────┬──────────────┬──────────┬──────────┬─────────────────────────┬─────────────────┬──────────────────┐\n",
      "│ length ┆ total ┆ tp   ┆ fp   ┆ fn   ┆ tn  ┆ total_skills ┆ fp_rate  ┆ fn_rate  ┆ equality_of_opportunity ┆ calibration_npv ┆ disparate_impact │\n",
      "│ ---    ┆ ---   ┆ ---  ┆ ---  ┆ ---  ┆ --- ┆ ---          ┆ ---      ┆ ---      ┆ ---                     ┆ ---             ┆ ---              │\n",
      "│ str    ┆ u32   ┆ u32  ┆ u32  ┆ u32  ┆ u32 ┆ u32          ┆ f64      ┆ f64      ┆ f64                     ┆ f64             ┆ f64              │\n",
      "╞════════╪═══════╪══════╪══════╪══════╪═════╪══════════════╪══════════╪══════════╪═════════════════════════╪═════════════════╪══════════════════╡\n",
      "│ LONG   ┆ 3789  ┆ 5212 ┆ 9071 ┆ 4065 ┆ 62  ┆ 18410        ┆ 0.492721 ┆ 0.220804 ┆ 0.56182                 ┆ 0.015023        ┆ 1.0              │\n",
      "│ MEDIUM ┆ 3005  ┆ 2360 ┆ 5122 ┆ 2075 ┆ 167 ┆ 9724         ┆ 0.526738 ┆ 0.21339  ┆ 0.532131                ┆ 0.074487        ┆ 0.991761         │\n",
      "│ SHORT  ┆ 610   ┆ 266  ┆ 783  ┆ 254  ┆ 97  ┆ 1400         ┆ 0.559286 ┆ 0.181429 ┆ 0.511538                ┆ 0.276353        ┆ 0.965788         │\n",
      "└────────┴───────┴──────┴──────┴──────┴─────┴──────────────┴──────────┴──────────┴─────────────────────────┴─────────────────┴──────────────────┘\n"
     ]
    }
   ],
   "source": [
    "print_report(\n",
    "    result=res_job,\n",
    "    df_population=df_cv,\n",
    "    reference_col=\"LONG\",\n",
    "    group_col=\"length\",\n",
    "    metrics=[\n",
    "        \"equality_of_opportunity\",\n",
    "        \"calibration_npv\",\n",
    "    ],\n",
    ")"
   ]
  }
 ],
 "metadata": {
  "kernelspec": {
   "display_name": ".venv",
   "language": "python",
   "name": "python3"
  },
  "language_info": {
   "codemirror_mode": {
    "name": "ipython",
    "version": 3
   },
   "file_extension": ".py",
   "mimetype": "text/x-python",
   "name": "python",
   "nbconvert_exporter": "python",
   "pygments_lexer": "ipython3",
   "version": "3.12.10"
  }
 },
 "nbformat": 4,
 "nbformat_minor": 4
}

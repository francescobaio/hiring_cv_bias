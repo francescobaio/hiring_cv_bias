{
 "cells": [
  {
   "cell_type": "markdown",
   "metadata": {},
   "source": [
    "# Bias Detection\n",
    "\n",
    "**Main Objective:**  \n",
    "Detect errors and biases introduced by the CV parser when extracting skills from raw CV text.\n",
    "We perform this inspection using both rule based (regular expressions) and semantic techniques.\n",
    "\n",
    "1. **Error detection steps:**  \n",
    "    - Identify errors in candidates **Driving Licenses** and **Language Skills** using Regex.  \n",
    "    - Uncover errors in candidates **Job Experience** using exact matching and semantic approach.  \n",
    "\n",
    "2. **Bias detection:**\n",
    "    - Analyze the errors identified in Step 1 for the groups previously examined (see `distribution_analysis.ipynb`) to determine whether the parser has disadvantaged or advantaged any of them."
   ]
  },
  {
   "cell_type": "code",
   "execution_count": 1,
   "metadata": {},
   "outputs": [],
   "source": [
    "%load_ext autoreload \n",
    "%autoreload 2\n",
    "\n",
    "import json\n",
    "import os\n",
    "\n",
    "import polars as pl\n",
    "from huggingface_hub import login\n",
    "\n",
    "from hiring_cv_bias.bias_detection.fuzzy.matcher import SemanticMatcher\n",
    "from hiring_cv_bias.bias_detection.fuzzy.parser import JobParser\n",
    "from hiring_cv_bias.bias_detection.rule_based.data import (\n",
    "    add_demographic_info,\n",
    ")\n",
    "from hiring_cv_bias.bias_detection.rule_based.evaluation.compare_parser import (\n",
    "    compute_candidate_coverage,\n",
    ")\n",
    "from hiring_cv_bias.bias_detection.rule_based.extractors import (\n",
    "    extract_driver_license,\n",
    "    extract_languages,\n",
    "    norm_driver_license,\n",
    "    norm_languages,\n",
    ")\n",
    "from hiring_cv_bias.bias_detection.rule_based.patterns import (\n",
    "    driver_license_pattern_eng,\n",
    "    jobs_pattern,\n",
    "    languages_pattern_eng,\n",
    "    normalized_jobs,\n",
    ")\n",
    "from hiring_cv_bias.bias_detection.rule_based.utils import (\n",
    "    print_highlighted_cv,\n",
    "    print_report,\n",
    ")\n",
    "from hiring_cv_bias.config import (\n",
    "    CANDIDATE_CVS_TRANSLATED_CLEANED_PATH,\n",
    "    CLEANED_REVERSE_MATCHING_PATH,\n",
    "    CLEANED_SKILLS,\n",
    "    DRIVING_LICENSE_FALSE_NEGATIVES_PATH,\n",
    "    JOB_TITLE_FALSE_NEGATIVES_PATH,\n",
    "    LANGUAGE_SKILL_FALSE_NEGATIVES_PATH,\n",
    ")\n",
    "from hiring_cv_bias.utils import load_data\n",
    "\n",
    "pl.Config.set_tbl_cols(-1)\n",
    "pl.Config.set_tbl_width_chars(200);"
   ]
  },
  {
   "cell_type": "code",
   "execution_count": 2,
   "metadata": {},
   "outputs": [
    {
     "name": "stdout",
     "output_type": "stream",
     "text": [
      "Collecting en-core-web-sm==3.8.0\n",
      "  Downloading https://github.com/explosion/spacy-models/releases/download/en_core_web_sm-3.8.0/en_core_web_sm-3.8.0-py3-none-any.whl (12.8 MB)\n",
      "\u001b[2K     \u001b[90m━━━━━━━━━━━━━━━━━━━━━━━━━━━━━━━━━━━━━━━━\u001b[0m \u001b[32m12.8/12.8 MB\u001b[0m \u001b[31m3.9 MB/s\u001b[0m eta \u001b[36m0:00:00\u001b[0ma \u001b[36m0:00:01\u001b[0m\n",
      "\u001b[?25h\u001b[38;5;2m✔ Download and installation successful\u001b[0m\n",
      "You can now load the package via spacy.load('en_core_web_sm')\n"
     ]
    }
   ],
   "source": [
    "os.environ[\"TOKENIZERS_PARALLELISM\"] = \"True\"\n",
    "with open(\"token.json\", \"r\") as token:\n",
    "    login(token=json.load(token)[\"token\"])\n",
    "\n",
    "!python -m spacy download en_core_web_sm "
   ]
  },
  {
   "cell_type": "markdown",
   "metadata": {},
   "source": [
    "### Load the data "
   ]
  },
  {
   "cell_type": "code",
   "execution_count": 3,
   "metadata": {},
   "outputs": [],
   "source": [
    "df_cv_raw = load_data(CANDIDATE_CVS_TRANSLATED_CLEANED_PATH)\n",
    "df_skills = load_data(CLEANED_SKILLS)\n",
    "df_info_candidates = load_data(CLEANED_REVERSE_MATCHING_PATH)"
   ]
  },
  {
   "cell_type": "code",
   "execution_count": 4,
   "metadata": {},
   "outputs": [],
   "source": [
    "df_info_candidates = df_info_candidates.with_columns(\n",
    "    pl.when(pl.col(\"LATITUDE\") > 44.5)\n",
    "    .then(pl.lit(\"NORTH\"))\n",
    "    .when(pl.col(\"LATITUDE\") < 42)\n",
    "    .then(pl.lit(\"SOUTH\"))\n",
    "    .otherwise(pl.lit(\"CENTER\"))\n",
    "    .alias(\"Location\")\n",
    ")\n",
    "\n",
    "df_cv_raw = df_cv_raw.with_columns(\n",
    "    pl.when(pl.col(\"len_anon\") < 1000)\n",
    "    .then(pl.lit(\"SHORT\"))\n",
    "    .when(pl.col(\"len_anon\") < 2500)\n",
    "    .then(pl.lit(\"MEDIUM\"))\n",
    "    .otherwise(pl.lit(\"LONG\"))\n",
    "    .alias(\"length\")\n",
    ")"
   ]
  },
  {
   "cell_type": "markdown",
   "metadata": {},
   "source": [
    "### Bias detection for Driver Licences"
   ]
  },
  {
   "cell_type": "markdown",
   "metadata": {},
   "source": [
    "- **Pre-processing step –> driving licence flag**  \n",
    "  We call `add_demographic_info()` to add a Boolean column, `has_driving_license`, to the CV dataframe. This flag will help us compare what the regex detects in the raw CV text with what the parser extracted as driving licence for each candidate, allowing us to identify potential omissions in the parsing step.\n",
    "\n",
    "- **How the flag is generated**  \n",
    "  - A single case insensitive regex (`driver_license_pattern_eng`) looks for common phrases such as “driving license B”, \"C1 driving licence” or even “own car”.  \n",
    "  - The helper function `extract_driver_license(text)` returns `True` if the regex matches anywhere in the CV text.  \n",
    "\n",
    "- **Resulting columns in `df_cv`**  \n",
    "  -  Same as before\n",
    "  - `Gender`, `Location` —> from the candidates sheet\n",
    "  - `has_driving_license` —> `True` if any licence is mentioned, otherwise `False`\n",
    "\n",
    "- **Note**  \n",
    "  For now we only care whether a candidate has *any* licence. (given that the driver license type column contains a handful of null values (see `data_cleaning.ipynb`))\n",
    "  \n",
    "  The same regex already captures specific categories (A, B, C…), so the analysis could be extended later if we want to explore potential biases tied to particular licence types."
   ]
  },
  {
   "cell_type": "code",
   "execution_count": 5,
   "metadata": {},
   "outputs": [
    {
     "data": {
      "text/html": [
       "<div><style>\n",
       ".dataframe > thead > tr,\n",
       ".dataframe > tbody > tr {\n",
       "  text-align: right;\n",
       "  white-space: pre-wrap;\n",
       "}\n",
       "</style>\n",
       "<small>shape: (5, 8)</small><table border=\"1\" class=\"dataframe\"><thead><tr><th>CANDIDATE_ID</th><th>CV_text_anon</th><th>Translated_CV</th><th>len_anon</th><th>length</th><th>Gender</th><th>Location</th><th>has_driving_license</th></tr><tr><td>i64</td><td>str</td><td>str</td><td>i64</td><td>str</td><td>str</td><td>str</td><td>bool</td></tr></thead><tbody><tr><td>7990324</td><td>&quot;CV anonimizzato:\n",
       "&quot;&quot;&quot;\n",
       "PROFILO\n",
       "D…</td><td>&quot; profile graduated from elsa m…</td><td>1445</td><td>&quot;MEDIUM&quot;</td><td>&quot;Female&quot;</td><td>&quot;NORTH&quot;</td><td>true</td></tr><tr><td>7974050</td><td>&quot;CV anonimizzato:\n",
       "&quot;&quot;&quot;\n",
       " Curricul…</td><td>&quot; curriculum vitae personal inf…</td><td>2148</td><td>&quot;MEDIUM&quot;</td><td>&quot;Female&quot;</td><td>&quot;CENTER&quot;</td><td>true</td></tr><tr><td>7965670</td><td>&quot;CV anonimizzato:\n",
       "&quot;&quot;&quot;\n",
       "ESPERIENZ…</td><td>&quot; work experience 03/27/2023 – …</td><td>4911</td><td>&quot;LONG&quot;</td><td>&quot;Female&quot;</td><td>&quot;NORTH&quot;</td><td>true</td></tr><tr><td>7960501</td><td>&quot;CV anonimizzato:\n",
       "&quot;&quot;&quot;\n",
       "Esperienz…</td><td>&quot; work experience waiter and ba…</td><td>680</td><td>&quot;SHORT&quot;</td><td>&quot;Male&quot;</td><td>&quot;NORTH&quot;</td><td>false</td></tr><tr><td>7960052</td><td>&quot;CV anonimizzato:\n",
       "&quot;&quot;&quot;\n",
       "&nbsp;&nbsp;&nbsp;&nbsp;&nbsp;\n",
       "Dat…</td><td>&quot; date of birth: 03/26/1996 nat…</td><td>5913</td><td>&quot;LONG&quot;</td><td>&quot;Female&quot;</td><td>&quot;CENTER&quot;</td><td>false</td></tr></tbody></table></div>"
      ],
      "text/plain": [
       "shape: (5, 8)\n",
       "┌──────────────┬──────────────────┬─────────────────────────────────┬──────────┬────────┬────────┬──────────┬─────────────────────┐\n",
       "│ CANDIDATE_ID ┆ CV_text_anon     ┆ Translated_CV                   ┆ len_anon ┆ length ┆ Gender ┆ Location ┆ has_driving_license │\n",
       "│ ---          ┆ ---              ┆ ---                             ┆ ---      ┆ ---    ┆ ---    ┆ ---      ┆ ---                 │\n",
       "│ i64          ┆ str              ┆ str                             ┆ i64      ┆ str    ┆ str    ┆ str      ┆ bool                │\n",
       "╞══════════════╪══════════════════╪═════════════════════════════════╪══════════╪════════╪════════╪══════════╪═════════════════════╡\n",
       "│ 7990324      ┆ CV anonimizzato: ┆  profile graduated from elsa m… ┆ 1445     ┆ MEDIUM ┆ Female ┆ NORTH    ┆ true                │\n",
       "│              ┆ \"\"\"              ┆                                 ┆          ┆        ┆        ┆          ┆                     │\n",
       "│              ┆ PROFILO          ┆                                 ┆          ┆        ┆        ┆          ┆                     │\n",
       "│              ┆ D…               ┆                                 ┆          ┆        ┆        ┆          ┆                     │\n",
       "│ 7974050      ┆ CV anonimizzato: ┆  curriculum vitae personal inf… ┆ 2148     ┆ MEDIUM ┆ Female ┆ CENTER   ┆ true                │\n",
       "│              ┆ \"\"\"              ┆                                 ┆          ┆        ┆        ┆          ┆                     │\n",
       "│              ┆  Curricul…       ┆                                 ┆          ┆        ┆        ┆          ┆                     │\n",
       "│ 7965670      ┆ CV anonimizzato: ┆  work experience 03/27/2023 – … ┆ 4911     ┆ LONG   ┆ Female ┆ NORTH    ┆ true                │\n",
       "│              ┆ \"\"\"              ┆                                 ┆          ┆        ┆        ┆          ┆                     │\n",
       "│              ┆ ESPERIENZ…       ┆                                 ┆          ┆        ┆        ┆          ┆                     │\n",
       "│ 7960501      ┆ CV anonimizzato: ┆  work experience waiter and ba… ┆ 680      ┆ SHORT  ┆ Male   ┆ NORTH    ┆ false               │\n",
       "│              ┆ \"\"\"              ┆                                 ┆          ┆        ┆        ┆          ┆                     │\n",
       "│              ┆ Esperienz…       ┆                                 ┆          ┆        ┆        ┆          ┆                     │\n",
       "│ 7960052      ┆ CV anonimizzato: ┆  date of birth: 03/26/1996 nat… ┆ 5913     ┆ LONG   ┆ Female ┆ CENTER   ┆ false               │\n",
       "│              ┆ \"\"\"              ┆                                 ┆          ┆        ┆        ┆          ┆                     │\n",
       "│              ┆                  ┆                                 ┆          ┆        ┆        ┆          ┆                     │\n",
       "│              ┆ Dat…             ┆                                 ┆          ┆        ┆        ┆          ┆                     │\n",
       "└──────────────┴──────────────────┴─────────────────────────────────┴──────────┴────────┴────────┴──────────┴─────────────────────┘"
      ]
     },
     "execution_count": 5,
     "metadata": {},
     "output_type": "execute_result"
    }
   ],
   "source": [
    "df_cv = add_demographic_info(df_cv_raw, df_info_candidates)\n",
    "df_cv.head()"
   ]
  },
  {
   "cell_type": "markdown",
   "metadata": {},
   "source": [
    "**Comparing parser output and regex extraction**\n",
    "\n",
    "The `compute_candidate_coverage()` function evaluates how well the parsing system detects a specific category of skills  by comparing it to our approach. \n",
    "\n",
    "In this case, the chosen category is  `\"DRIVERSLIC\"` and we use a custom regex based extractor applied directly to the raw CV text.\n",
    "\n",
    "\n",
    "This step is crucial for measuring the parser’s coverage by quantifying **false negatives**. (skills that are mentioned in the CV but missed by the parser)"
   ]
  },
  {
   "cell_type": "markdown",
   "metadata": {},
   "source": [
    "**Output breakdown:** \n",
    "\n",
    "   1. **Regex positive candidates**: number of unique candidates flagged by our rule based extractor.\n",
    "   2. **Parser positive candidates**: number of unique candidates flagged by the parser.\n",
    "\n",
    "- **Both regex & parser**: candidates detected by both methods.\n",
    "- **Only regex**: candidates our regex caught but the parser missed. \n",
    "- **Only parser**: candidates the parser flagged but our regex did not.\n",
    "\n",
    "Then `print_report()` displays the overall confusion matrix and derived metrics (accuracy, precision, recall, F1)."
   ]
  },
  {
   "cell_type": "code",
   "execution_count": 6,
   "metadata": {},
   "outputs": [
    {
     "data": {
      "application/vnd.jupyter.widget-view+json": {
       "model_id": "571d9921e7e149ca8d761346aca5dace",
       "version_major": 2,
       "version_minor": 0
      },
      "text/plain": [
       "  0%|          | 0/7404 [00:00<?, ?it/s]"
      ]
     },
     "metadata": {},
     "output_type": "display_data"
    },
    {
     "name": "stdout",
     "output_type": "stream",
     "text": [
      "Regex positive candidates        : 4134\n",
      "Parser positive candidates: 2032\n",
      "- Both regex & parser   : 1689\n",
      "- Only regex            : 2445\n",
      "- Only parser           : 343\n",
      "\n",
      "Confusion matrix: \n",
      "Counts   -> TP:1689   FP:343   TN:2927   FN:2445 \n",
      "Metrics  -> Precision:0.83  Recall:0.409  F1:0.548  Acc:0.623\n"
     ]
    }
   ],
   "source": [
    "res_dl = compute_candidate_coverage(\n",
    "    df_cv=df_cv,\n",
    "    df_parser=df_skills,\n",
    "    skill_type=\"DRIVERSLIC\",\n",
    "    extractor=extract_driver_license,\n",
    "    norm=norm_driver_license,\n",
    ")\n",
    "\n",
    "print(\"Confusion matrix:\", res_dl.conf)"
   ]
  },
  {
   "cell_type": "markdown",
   "metadata": {},
   "source": [
    "The parser achieves **high precision (~83 %)** but **low recall (~41 %)**.  \n",
    "In other words, when it flags a skill it is usually correct, yet it **misses more than half of the skills** that the regex finds."
   ]
  },
  {
   "cell_type": "markdown",
   "metadata": {},
   "source": [
    "Let's dive into **false negatives (FN)**  \n",
    "   * We’ll highlight in **red** the exact terms captured by the regex directly inside the CV text, making it easy to verify their presence at a glance."
   ]
  },
  {
   "cell_type": "code",
   "execution_count": 7,
   "metadata": {},
   "outputs": [
    {
     "name": "stdout",
     "output_type": "stream",
     "text": [
      "\n",
      "CANDIDATE ID: 7090785 - GENERE: Male\n",
      "Reason: Rule-based extractor found skill but parser missed it.\n",
      "--------------------------------------------------------------------------------\n",
      "lift driver in possession of a forklift \u001b[31mdriving license\u001b[0m: use of electric and diesel forklifts s\n",
      "--------------------------------------------------------------------------------\n",
      "\n",
      "CANDIDATE ID: 5108733 - GENERE: Male\n",
      "Reason: Rule-based extractor found skill but parser missed it.\n",
      "--------------------------------------------------------------------------------\n",
      "stems. technical skills and competences \u001b[31mb driving license\u001b[0m or driving licenses I authorize the pro\n",
      "ls and competences b driving license or \u001b[31mdriving licenses\u001b[0m I authorize the processing of personal \n",
      "--------------------------------------------------------------------------------\n"
     ]
    }
   ],
   "source": [
    "df_fn = pl.DataFrame(res_dl.fn_rows)\n",
    "sample = df_fn.sample(n=2, shuffle=True)\n",
    "for row in sample.to_dicts():\n",
    "    print_highlighted_cv(row, pattern=driver_license_pattern_eng)"
   ]
  },
  {
   "cell_type": "code",
   "execution_count": 8,
   "metadata": {},
   "outputs": [
    {
     "name": "stdout",
     "output_type": "stream",
     "text": [
      "False negatives matching snippet pattern: 2445\n",
      "Saved filtered false negatives!\n"
     ]
    }
   ],
   "source": [
    "print(f\"False negatives matching snippet pattern: {df_fn.height}\")\n",
    "df_fn.write_csv(DRIVING_LICENSE_FALSE_NEGATIVES_PATH, separator=\";\")\n",
    "print(\"Saved filtered false negatives!\")"
   ]
  },
  {
   "cell_type": "markdown",
   "metadata": {},
   "source": [
    "### Bias Detection Metrics\n",
    "\n",
    "To assess the model’s fairness, we employed the following **bias detection metrics**:\n",
    "\n",
    "| Metric | Formula   | Interpretation  |\n",
    "|--------|:---------:|:----------------|\n",
    "| **Equality of Opportunity&nbsp;(TPR parity)** | $$\\text{TPR}_g = \\frac{TP_g}{TP_g + FN_g} $$ | $\\text{TPR}_g$ equal for every $g$ ensures that **every individual who truly qualifies** for a positive outcome has the **same chance** of being correctly identified, regardless of group membership. |\n",
    "| <br> **Calibration&nbsp;\\(NPV\\)** | $$\\text{NPV}_g = \\frac{TN_g}{TN_g + FN_g}\\qquad $$ | $\\text{NPV}_g$ parity for every $g$ ensures that **when the model predicts a negative outcome**, the probability of being correct is the **same** for every group. |\n",
    "| <br> **Selection Rate** | $$\\text{SR}_g = \\frac{TP_g + FP_g}{TP_g + FP_g + TN_g + FN_g} $$ | Share of individuals in group $g$ predicted positive (selected). |\n",
    "| <br> **Disparate Impact (DI)** | $$\\displaystyle DI = \\frac{\\text{SR}_{\\text{target}}}{\\text{SR}_{\\text{reference}}}$$ | Ratio of selection rates; values **\\< 0.80** (four-fifths rule) indicate potential adverse impact against the target group. |\n",
    "\n",
    "\n",
    "\n",
    "<u>All these metrics were computed for the **Gender**, **Location** and **CV length** groups to detect and quantify possible bias in the extraction process.</u>\n"
   ]
  },
  {
   "cell_type": "code",
   "execution_count": 9,
   "metadata": {},
   "outputs": [
    {
     "name": "stdout",
     "output_type": "stream",
     "text": [
      "TP: 1689, FP: 343, TN: 2927, FN: 2445\n",
      "Accuracy: 0.623, Precision: 0.831, Recall: 0.409, F1: 0.548\n",
      "\n",
      "Error and rates by Gender:\n",
      "\n"
     ]
    },
    {
     "data": {
      "text/html": [
       "<div><style>\n",
       ".dataframe > thead > tr,\n",
       ".dataframe > tbody > tr {\n",
       "  text-align: right;\n",
       "  white-space: pre-wrap;\n",
       "}\n",
       "</style>\n",
       "<small>shape: (2, 12)</small><table border=\"1\" class=\"dataframe\"><thead><tr><th>Gender</th><th>total</th><th>tp</th><th>fp</th><th>fn</th><th>tn</th><th>total_skills</th><th>fp_rate</th><th>fn_rate</th><th>equality_of_opportunity</th><th>calibration_npv</th><th>disparate_impact</th></tr><tr><td>str</td><td>u32</td><td>u32</td><td>u32</td><td>u32</td><td>u32</td><td>u32</td><td>f64</td><td>f64</td><td>f64</td><td>f64</td><td>f64</td></tr></thead><tbody><tr><td>&quot;Male&quot;</td><td>3984</td><td>966</td><td>189</td><td>1316</td><td>1513</td><td>3984</td><td>0.04744</td><td>0.330321</td><td>0.423313</td><td>0.534818</td><td>1.0</td></tr><tr><td>&quot;Female&quot;</td><td>3420</td><td>723</td><td>154</td><td>1129</td><td>1414</td><td>3420</td><td>0.045029</td><td>0.330117</td><td>0.390389</td><td>0.556036</td><td>0.884526</td></tr></tbody></table></div>"
      ],
      "text/plain": [
       "shape: (2, 12)\n",
       "┌────────┬───────┬─────┬─────┬──────┬──────┬──────────────┬──────────┬──────────┬─────────────────────────┬─────────────────┬──────────────────┐\n",
       "│ Gender ┆ total ┆ tp  ┆ fp  ┆ fn   ┆ tn   ┆ total_skills ┆ fp_rate  ┆ fn_rate  ┆ equality_of_opportunity ┆ calibration_npv ┆ disparate_impact │\n",
       "│ ---    ┆ ---   ┆ --- ┆ --- ┆ ---  ┆ ---  ┆ ---          ┆ ---      ┆ ---      ┆ ---                     ┆ ---             ┆ ---              │\n",
       "│ str    ┆ u32   ┆ u32 ┆ u32 ┆ u32  ┆ u32  ┆ u32          ┆ f64      ┆ f64      ┆ f64                     ┆ f64             ┆ f64              │\n",
       "╞════════╪═══════╪═════╪═════╪══════╪══════╪══════════════╪══════════╪══════════╪═════════════════════════╪═════════════════╪══════════════════╡\n",
       "│ Male   ┆ 3984  ┆ 966 ┆ 189 ┆ 1316 ┆ 1513 ┆ 3984         ┆ 0.04744  ┆ 0.330321 ┆ 0.423313                ┆ 0.534818        ┆ 1.0              │\n",
       "│ Female ┆ 3420  ┆ 723 ┆ 154 ┆ 1129 ┆ 1414 ┆ 3420         ┆ 0.045029 ┆ 0.330117 ┆ 0.390389                ┆ 0.556036        ┆ 0.884526         │\n",
       "└────────┴───────┴─────┴─────┴──────┴──────┴──────────────┴──────────┴──────────┴─────────────────────────┴─────────────────┴──────────────────┘"
      ]
     },
     "metadata": {},
     "output_type": "display_data"
    }
   ],
   "source": [
    "print_report(\n",
    "    result=res_dl,\n",
    "    df_population=df_cv,\n",
    "    reference_col=\"Male\",\n",
    "    group_col=\"Gender\",\n",
    "    metrics=[\n",
    "        \"equality_of_opportunity\",\n",
    "        \"calibration_npv\",\n",
    "    ],\n",
    ")"
   ]
  },
  {
   "cell_type": "code",
   "execution_count": 10,
   "metadata": {},
   "outputs": [
    {
     "name": "stdout",
     "output_type": "stream",
     "text": [
      "TP: 1689, FP: 343, TN: 2927, FN: 2445\n",
      "Accuracy: 0.623, Precision: 0.831, Recall: 0.409, F1: 0.548\n",
      "\n",
      "Error and rates by Location:\n",
      "\n"
     ]
    },
    {
     "data": {
      "text/html": [
       "<div><style>\n",
       ".dataframe > thead > tr,\n",
       ".dataframe > tbody > tr {\n",
       "  text-align: right;\n",
       "  white-space: pre-wrap;\n",
       "}\n",
       "</style>\n",
       "<small>shape: (3, 12)</small><table border=\"1\" class=\"dataframe\"><thead><tr><th>Location</th><th>total</th><th>tp</th><th>fp</th><th>fn</th><th>tn</th><th>total_skills</th><th>fp_rate</th><th>fn_rate</th><th>equality_of_opportunity</th><th>calibration_npv</th><th>disparate_impact</th></tr><tr><td>str</td><td>u32</td><td>u32</td><td>u32</td><td>u32</td><td>u32</td><td>u32</td><td>f64</td><td>f64</td><td>f64</td><td>f64</td><td>f64</td></tr></thead><tbody><tr><td>&quot;SOUTH&quot;</td><td>1060</td><td>229</td><td>51</td><td>341</td><td>439</td><td>1060</td><td>0.048113</td><td>0.321698</td><td>0.401754</td><td>0.562821</td><td>0.968674</td></tr><tr><td>&quot;NORTH&quot;</td><td>5343</td><td>1217</td><td>240</td><td>1789</td><td>2097</td><td>5343</td><td>0.044919</td><td>0.334831</td><td>0.404857</td><td>0.539629</td><td>1.0</td></tr><tr><td>&quot;CENTER&quot;</td><td>1001</td><td>243</td><td>52</td><td>315</td><td>391</td><td>1001</td><td>0.051948</td><td>0.314685</td><td>0.435484</td><td>0.553824</td><td>1.080721</td></tr></tbody></table></div>"
      ],
      "text/plain": [
       "shape: (3, 12)\n",
       "┌──────────┬───────┬──────┬─────┬──────┬──────┬──────────────┬──────────┬──────────┬─────────────────────────┬─────────────────┬──────────────────┐\n",
       "│ Location ┆ total ┆ tp   ┆ fp  ┆ fn   ┆ tn   ┆ total_skills ┆ fp_rate  ┆ fn_rate  ┆ equality_of_opportunity ┆ calibration_npv ┆ disparate_impact │\n",
       "│ ---      ┆ ---   ┆ ---  ┆ --- ┆ ---  ┆ ---  ┆ ---          ┆ ---      ┆ ---      ┆ ---                     ┆ ---             ┆ ---              │\n",
       "│ str      ┆ u32   ┆ u32  ┆ u32 ┆ u32  ┆ u32  ┆ u32          ┆ f64      ┆ f64      ┆ f64                     ┆ f64             ┆ f64              │\n",
       "╞══════════╪═══════╪══════╪═════╪══════╪══════╪══════════════╪══════════╪══════════╪═════════════════════════╪═════════════════╪══════════════════╡\n",
       "│ SOUTH    ┆ 1060  ┆ 229  ┆ 51  ┆ 341  ┆ 439  ┆ 1060         ┆ 0.048113 ┆ 0.321698 ┆ 0.401754                ┆ 0.562821        ┆ 0.968674         │\n",
       "│ NORTH    ┆ 5343  ┆ 1217 ┆ 240 ┆ 1789 ┆ 2097 ┆ 5343         ┆ 0.044919 ┆ 0.334831 ┆ 0.404857                ┆ 0.539629        ┆ 1.0              │\n",
       "│ CENTER   ┆ 1001  ┆ 243  ┆ 52  ┆ 315  ┆ 391  ┆ 1001         ┆ 0.051948 ┆ 0.314685 ┆ 0.435484                ┆ 0.553824        ┆ 1.080721         │\n",
       "└──────────┴───────┴──────┴─────┴──────┴──────┴──────────────┴──────────┴──────────┴─────────────────────────┴─────────────────┴──────────────────┘"
      ]
     },
     "metadata": {},
     "output_type": "display_data"
    }
   ],
   "source": [
    "print_report(\n",
    "    result=res_dl,\n",
    "    df_population=df_cv,\n",
    "    reference_col=\"NORTH\",\n",
    "    group_col=\"Location\",\n",
    "    metrics=[\n",
    "        \"equality_of_opportunity\",\n",
    "        \"calibration_npv\",\n",
    "    ],\n",
    ")"
   ]
  },
  {
   "cell_type": "code",
   "execution_count": 11,
   "metadata": {},
   "outputs": [
    {
     "name": "stdout",
     "output_type": "stream",
     "text": [
      "TP: 1689, FP: 343, TN: 2927, FN: 2445\n",
      "Accuracy: 0.623, Precision: 0.831, Recall: 0.409, F1: 0.548\n",
      "\n",
      "Error and rates by length:\n",
      "\n"
     ]
    },
    {
     "data": {
      "text/html": [
       "<div><style>\n",
       ".dataframe > thead > tr,\n",
       ".dataframe > tbody > tr {\n",
       "  text-align: right;\n",
       "  white-space: pre-wrap;\n",
       "}\n",
       "</style>\n",
       "<small>shape: (3, 12)</small><table border=\"1\" class=\"dataframe\"><thead><tr><th>length</th><th>total</th><th>tp</th><th>fp</th><th>fn</th><th>tn</th><th>total_skills</th><th>fp_rate</th><th>fn_rate</th><th>equality_of_opportunity</th><th>calibration_npv</th><th>disparate_impact</th></tr><tr><td>str</td><td>u32</td><td>u32</td><td>u32</td><td>u32</td><td>u32</td><td>u32</td><td>f64</td><td>f64</td><td>f64</td><td>f64</td><td>f64</td></tr></thead><tbody><tr><td>&quot;LONG&quot;</td><td>3789</td><td>901</td><td>161</td><td>1470</td><td>1257</td><td>3789</td><td>0.042491</td><td>0.387965</td><td>0.380008</td><td>0.460946</td><td>1.0</td></tr><tr><td>&quot;SHORT&quot;</td><td>610</td><td>90</td><td>39</td><td>103</td><td>378</td><td>610</td><td>0.063934</td><td>0.168852</td><td>0.466321</td><td>0.785863</td><td>0.754501</td></tr><tr><td>&quot;MEDIUM&quot;</td><td>3005</td><td>698</td><td>143</td><td>872</td><td>1292</td><td>3005</td><td>0.047587</td><td>0.290183</td><td>0.444586</td><td>0.597043</td><td>0.998508</td></tr></tbody></table></div>"
      ],
      "text/plain": [
       "shape: (3, 12)\n",
       "┌────────┬───────┬─────┬─────┬──────┬──────┬──────────────┬──────────┬──────────┬─────────────────────────┬─────────────────┬──────────────────┐\n",
       "│ length ┆ total ┆ tp  ┆ fp  ┆ fn   ┆ tn   ┆ total_skills ┆ fp_rate  ┆ fn_rate  ┆ equality_of_opportunity ┆ calibration_npv ┆ disparate_impact │\n",
       "│ ---    ┆ ---   ┆ --- ┆ --- ┆ ---  ┆ ---  ┆ ---          ┆ ---      ┆ ---      ┆ ---                     ┆ ---             ┆ ---              │\n",
       "│ str    ┆ u32   ┆ u32 ┆ u32 ┆ u32  ┆ u32  ┆ u32          ┆ f64      ┆ f64      ┆ f64                     ┆ f64             ┆ f64              │\n",
       "╞════════╪═══════╪═════╪═════╪══════╪══════╪══════════════╪══════════╪══════════╪═════════════════════════╪═════════════════╪══════════════════╡\n",
       "│ LONG   ┆ 3789  ┆ 901 ┆ 161 ┆ 1470 ┆ 1257 ┆ 3789         ┆ 0.042491 ┆ 0.387965 ┆ 0.380008                ┆ 0.460946        ┆ 1.0              │\n",
       "│ SHORT  ┆ 610   ┆ 90  ┆ 39  ┆ 103  ┆ 378  ┆ 610          ┆ 0.063934 ┆ 0.168852 ┆ 0.466321                ┆ 0.785863        ┆ 0.754501         │\n",
       "│ MEDIUM ┆ 3005  ┆ 698 ┆ 143 ┆ 872  ┆ 1292 ┆ 3005         ┆ 0.047587 ┆ 0.290183 ┆ 0.444586                ┆ 0.597043        ┆ 0.998508         │\n",
       "└────────┴───────┴─────┴─────┴──────┴──────┴──────────────┴──────────┴──────────┴─────────────────────────┴─────────────────┴──────────────────┘"
      ]
     },
     "metadata": {},
     "output_type": "display_data"
    }
   ],
   "source": [
    "print_report(\n",
    "    result=res_dl,\n",
    "    df_population=df_cv,\n",
    "    reference_col=\"LONG\",\n",
    "    group_col=\"length\",\n",
    "    metrics=[\n",
    "        \"equality_of_opportunity\",\n",
    "        \"calibration_npv\",\n",
    "    ],\n",
    ")"
   ]
  },
  {
   "cell_type": "markdown",
   "metadata": {},
   "source": [
    "### Bias detection for Language Skill"
   ]
  },
  {
   "cell_type": "markdown",
   "metadata": {},
   "source": [
    "Just as we applied a simple presence check for driving licenses, we handle languages with a more granular, ad-hoc normalization and extraction pipeline that recognizes each specific language individually rather than just flagging “has any language”.\n",
    "\n",
    "Main **steps** for doing this are:\n",
    "\n",
    "* Build a reverse lookup map (`_reverse_language_map`) by iterating over each language code in `LANGUAGE_VARIANTS` (populated from <a href=\"https://github.com/pycountry/pycountry\" target=\"_blank\">pycountry</a> with English name variants `alpha_2`) and all its known name variants, storing entries like \"english\" -> \"en\", \"italian\" -> \"it\", etc.\n",
    "* Apply `norm_languages`to every extracted mention from our regex based extractor so that each occurrence like \"English B2” is mapped to a clean ISO code \"en\".\n",
    "* Once all language mentions have been normalized to ISO codes via `norm_languages`, we invoke the coverage routine to quantify how well the parser matches our “ground truth” extractions."
   ]
  },
  {
   "cell_type": "code",
   "execution_count": 12,
   "metadata": {},
   "outputs": [
    {
     "data": {
      "application/vnd.jupyter.widget-view+json": {
       "model_id": "5846b37322084f80af94329810a01d7b",
       "version_major": 2,
       "version_minor": 0
      },
      "text/plain": [
       "  0%|          | 0/7404 [00:00<?, ?it/s]"
      ]
     },
     "metadata": {},
     "output_type": "display_data"
    },
    {
     "name": "stdout",
     "output_type": "stream",
     "text": [
      "Regex positive candidates        : 6387\n",
      "Parser positive candidates: 6500\n",
      "- Both regex & parser   : 5615\n",
      "- Only regex            : 772\n",
      "- Only parser           : 885\n",
      "\n",
      "Confusion matrix: \n",
      "Counts   -> TP:10389  FP:2392  TN:132    FN:5438 \n",
      "Metrics  -> Precision:0.81  Recall:0.656  F1:0.726  Acc:0.573\n"
     ]
    }
   ],
   "source": [
    "res_lg = compute_candidate_coverage(\n",
    "    df_cv=df_cv,\n",
    "    df_parser=df_skills,\n",
    "    skill_type=\"Language_Skill\",\n",
    "    extractor=extract_languages,\n",
    "    norm=norm_languages,\n",
    ")\n",
    "\n",
    "print(\"Confusion matrix:\", res_lg.conf)"
   ]
  },
  {
   "cell_type": "code",
   "execution_count": 13,
   "metadata": {},
   "outputs": [
    {
     "name": "stdout",
     "output_type": "stream",
     "text": [
      "\n",
      "CANDIDATE ID: 5184724 - GENERE: Female\n",
      "Reason: Rule-based extractor found skill but parser missed it.\n",
      "--------------------------------------------------------------------------------\n",
      "tute adele pellitteri contacts teaching \u001b[31mItalian\u001b[0m to foreign students and observation of \n",
      "on of actual improvements. nationality: \u001b[31mitalian\u001b[0m palermo, italy gender: female 09/19/201\n",
      "y doctorate in linguistic mediation and \u001b[31mitalian\u001b[0m as l2 university of palermo 09/20/2004 \n",
      " china certificate of attendance of the \u001b[31mchinese\u001b[0m language course dalian university of fo\n",
      "age course dalian university of foreign \u001b[31mlanguages chinese\u001b[0m language courselanguage skills native l\n",
      " courselanguage skills native language: \u001b[31mitalian\u001b[0m english listening reading speaking oral\n",
      "anguage skills native language: italian \u001b[31menglish\u001b[0m listening reading speaking oral interac\n",
      "oral interaction writing c1 c1 c1 c1 c1 \u001b[31mchinese\u001b[0m listening reading speaking oral interac\n",
      "oral interaction writing b1 b1 b1 b1 b1 \u001b[31mfrench\u001b[0m listening reading speaking oral interac\n",
      "--------------------------------------------------------------------------------\n",
      "\n",
      "CANDIDATE ID: 1087369 - GENERE: Female\n",
      "Reason: Rule-based extractor found skill but parser missed it.\n",
      "--------------------------------------------------------------------------------\n",
      "nuovo di napoli (italy) personal skills \u001b[31mitalian\u001b[0m mother tongue production foreign langua\n",
      "eraction oral production a2 a2 a2 a2 a2 \u001b[31menglish\u001b[0m 24/1/19 © european union, 2002-2019 | h\n",
      "ge 2 / 3curriculum vitae a1 a1 a1 a1 a1 \u001b[31mfrench\u001b[0m levels: a1 and a2: basic user - b1 and \n",
      "--------------------------------------------------------------------------------\n"
     ]
    }
   ],
   "source": [
    "df_fn = pl.DataFrame(res_lg.fn_rows)\n",
    "sample = df_fn.sample(n=2, shuffle=True)\n",
    "for row in sample.to_dicts():\n",
    "    print_highlighted_cv(row, pattern=languages_pattern_eng)"
   ]
  },
  {
   "cell_type": "code",
   "execution_count": 14,
   "metadata": {},
   "outputs": [
    {
     "name": "stdout",
     "output_type": "stream",
     "text": [
      "False negatives matching snippet pattern: 5438\n",
      "Saved filtered false negatives to false_negative.csv\n"
     ]
    }
   ],
   "source": [
    "print(f\"False negatives matching snippet pattern: {df_fn.height}\")\n",
    "df_fn.write_csv(LANGUAGE_SKILL_FALSE_NEGATIVES_PATH, separator=\";\")\n",
    "print(\"Saved filtered false negatives to false_negative.csv\")"
   ]
  },
  {
   "cell_type": "code",
   "execution_count": 15,
   "metadata": {},
   "outputs": [
    {
     "name": "stdout",
     "output_type": "stream",
     "text": [
      "TP: 10389, FP: 2392, TN: 132, FN: 5438\n",
      "Accuracy: 0.573, Precision: 0.813, Recall: 0.656, F1: 0.726\n",
      "\n",
      "Error and rates by Gender:\n",
      "\n"
     ]
    },
    {
     "data": {
      "text/html": [
       "<div><style>\n",
       ".dataframe > thead > tr,\n",
       ".dataframe > tbody > tr {\n",
       "  text-align: right;\n",
       "  white-space: pre-wrap;\n",
       "}\n",
       "</style>\n",
       "<small>shape: (2, 12)</small><table border=\"1\" class=\"dataframe\"><thead><tr><th>Gender</th><th>total</th><th>tp</th><th>fp</th><th>fn</th><th>tn</th><th>total_skills</th><th>fp_rate</th><th>fn_rate</th><th>equality_of_opportunity</th><th>calibration_npv</th><th>disparate_impact</th></tr><tr><td>str</td><td>u32</td><td>u32</td><td>u32</td><td>u32</td><td>u32</td><td>u32</td><td>f64</td><td>f64</td><td>f64</td><td>f64</td><td>f64</td></tr></thead><tbody><tr><td>&quot;Female&quot;</td><td>3420</td><td>4969</td><td>1141</td><td>2830</td><td>55</td><td>8995</td><td>0.126848</td><td>0.314619</td><td>0.637133</td><td>0.019064</td><td>0.952663</td></tr><tr><td>&quot;Male&quot;</td><td>3984</td><td>5420</td><td>1251</td><td>2608</td><td>77</td><td>9356</td><td>0.133711</td><td>0.278752</td><td>0.675137</td><td>0.028678</td><td>1.0</td></tr></tbody></table></div>"
      ],
      "text/plain": [
       "shape: (2, 12)\n",
       "┌────────┬───────┬──────┬──────┬──────┬─────┬──────────────┬──────────┬──────────┬─────────────────────────┬─────────────────┬──────────────────┐\n",
       "│ Gender ┆ total ┆ tp   ┆ fp   ┆ fn   ┆ tn  ┆ total_skills ┆ fp_rate  ┆ fn_rate  ┆ equality_of_opportunity ┆ calibration_npv ┆ disparate_impact │\n",
       "│ ---    ┆ ---   ┆ ---  ┆ ---  ┆ ---  ┆ --- ┆ ---          ┆ ---      ┆ ---      ┆ ---                     ┆ ---             ┆ ---              │\n",
       "│ str    ┆ u32   ┆ u32  ┆ u32  ┆ u32  ┆ u32 ┆ u32          ┆ f64      ┆ f64      ┆ f64                     ┆ f64             ┆ f64              │\n",
       "╞════════╪═══════╪══════╪══════╪══════╪═════╪══════════════╪══════════╪══════════╪═════════════════════════╪═════════════════╪══════════════════╡\n",
       "│ Female ┆ 3420  ┆ 4969 ┆ 1141 ┆ 2830 ┆ 55  ┆ 8995         ┆ 0.126848 ┆ 0.314619 ┆ 0.637133                ┆ 0.019064        ┆ 0.952663         │\n",
       "│ Male   ┆ 3984  ┆ 5420 ┆ 1251 ┆ 2608 ┆ 77  ┆ 9356         ┆ 0.133711 ┆ 0.278752 ┆ 0.675137                ┆ 0.028678        ┆ 1.0              │\n",
       "└────────┴───────┴──────┴──────┴──────┴─────┴──────────────┴──────────┴──────────┴─────────────────────────┴─────────────────┴──────────────────┘"
      ]
     },
     "metadata": {},
     "output_type": "display_data"
    }
   ],
   "source": [
    "print_report(\n",
    "    result=res_lg,\n",
    "    df_population=df_cv,\n",
    "    reference_col=\"Male\",\n",
    "    group_col=\"Gender\",\n",
    "    metrics=[\n",
    "        \"equality_of_opportunity\",\n",
    "        \"calibration_npv\",\n",
    "    ],\n",
    ")"
   ]
  },
  {
   "cell_type": "code",
   "execution_count": 16,
   "metadata": {},
   "outputs": [
    {
     "name": "stdout",
     "output_type": "stream",
     "text": [
      "TP: 10389, FP: 2392, TN: 132, FN: 5438\n",
      "Accuracy: 0.573, Precision: 0.813, Recall: 0.656, F1: 0.726\n",
      "\n",
      "Error and rates by Location:\n",
      "\n"
     ]
    },
    {
     "data": {
      "text/html": [
       "<div><style>\n",
       ".dataframe > thead > tr,\n",
       ".dataframe > tbody > tr {\n",
       "  text-align: right;\n",
       "  white-space: pre-wrap;\n",
       "}\n",
       "</style>\n",
       "<small>shape: (3, 12)</small><table border=\"1\" class=\"dataframe\"><thead><tr><th>Location</th><th>total</th><th>tp</th><th>fp</th><th>fn</th><th>tn</th><th>total_skills</th><th>fp_rate</th><th>fn_rate</th><th>equality_of_opportunity</th><th>calibration_npv</th><th>disparate_impact</th></tr><tr><td>str</td><td>u32</td><td>u32</td><td>u32</td><td>u32</td><td>u32</td><td>u32</td><td>f64</td><td>f64</td><td>f64</td><td>f64</td><td>f64</td></tr></thead><tbody><tr><td>&quot;SOUTH&quot;</td><td>1060</td><td>1474</td><td>348</td><td>791</td><td>14</td><td>2627</td><td>0.13247</td><td>0.301104</td><td>0.650773</td><td>0.017391</td><td>0.997271</td></tr><tr><td>&quot;CENTER&quot;</td><td>1001</td><td>1431</td><td>343</td><td>733</td><td>10</td><td>2517</td><td>0.136273</td><td>0.29122</td><td>0.661275</td><td>0.013459</td><td>1.013434</td></tr><tr><td>&quot;NORTH&quot;</td><td>5343</td><td>7484</td><td>1701</td><td>3914</td><td>108</td><td>13207</td><td>0.128795</td><td>0.296358</td><td>0.656606</td><td>0.026852</td><td>1.0</td></tr></tbody></table></div>"
      ],
      "text/plain": [
       "shape: (3, 12)\n",
       "┌──────────┬───────┬──────┬──────┬──────┬─────┬──────────────┬──────────┬──────────┬─────────────────────────┬─────────────────┬──────────────────┐\n",
       "│ Location ┆ total ┆ tp   ┆ fp   ┆ fn   ┆ tn  ┆ total_skills ┆ fp_rate  ┆ fn_rate  ┆ equality_of_opportunity ┆ calibration_npv ┆ disparate_impact │\n",
       "│ ---      ┆ ---   ┆ ---  ┆ ---  ┆ ---  ┆ --- ┆ ---          ┆ ---      ┆ ---      ┆ ---                     ┆ ---             ┆ ---              │\n",
       "│ str      ┆ u32   ┆ u32  ┆ u32  ┆ u32  ┆ u32 ┆ u32          ┆ f64      ┆ f64      ┆ f64                     ┆ f64             ┆ f64              │\n",
       "╞══════════╪═══════╪══════╪══════╪══════╪═════╪══════════════╪══════════╪══════════╪═════════════════════════╪═════════════════╪══════════════════╡\n",
       "│ SOUTH    ┆ 1060  ┆ 1474 ┆ 348  ┆ 791  ┆ 14  ┆ 2627         ┆ 0.13247  ┆ 0.301104 ┆ 0.650773                ┆ 0.017391        ┆ 0.997271         │\n",
       "│ CENTER   ┆ 1001  ┆ 1431 ┆ 343  ┆ 733  ┆ 10  ┆ 2517         ┆ 0.136273 ┆ 0.29122  ┆ 0.661275                ┆ 0.013459        ┆ 1.013434         │\n",
       "│ NORTH    ┆ 5343  ┆ 7484 ┆ 1701 ┆ 3914 ┆ 108 ┆ 13207        ┆ 0.128795 ┆ 0.296358 ┆ 0.656606                ┆ 0.026852        ┆ 1.0              │\n",
       "└──────────┴───────┴──────┴──────┴──────┴─────┴──────────────┴──────────┴──────────┴─────────────────────────┴─────────────────┴──────────────────┘"
      ]
     },
     "metadata": {},
     "output_type": "display_data"
    }
   ],
   "source": [
    "print_report(\n",
    "    result=res_lg,\n",
    "    df_population=df_cv,\n",
    "    reference_col=\"NORTH\",\n",
    "    group_col=\"Location\",\n",
    "    metrics=[\n",
    "        \"equality_of_opportunity\",\n",
    "        \"calibration_npv\",\n",
    "    ],\n",
    ")"
   ]
  },
  {
   "cell_type": "code",
   "execution_count": 17,
   "metadata": {},
   "outputs": [
    {
     "name": "stdout",
     "output_type": "stream",
     "text": [
      "TP: 10389, FP: 2392, TN: 132, FN: 5438\n",
      "Accuracy: 0.573, Precision: 0.813, Recall: 0.656, F1: 0.726\n",
      "\n",
      "Error and rates by length:\n",
      "\n"
     ]
    },
    {
     "data": {
      "text/html": [
       "<div><style>\n",
       ".dataframe > thead > tr,\n",
       ".dataframe > tbody > tr {\n",
       "  text-align: right;\n",
       "  white-space: pre-wrap;\n",
       "}\n",
       "</style>\n",
       "<small>shape: (3, 12)</small><table border=\"1\" class=\"dataframe\"><thead><tr><th>length</th><th>total</th><th>tp</th><th>fp</th><th>fn</th><th>tn</th><th>total_skills</th><th>fp_rate</th><th>fn_rate</th><th>equality_of_opportunity</th><th>calibration_npv</th><th>disparate_impact</th></tr><tr><td>str</td><td>u32</td><td>u32</td><td>u32</td><td>u32</td><td>u32</td><td>u32</td><td>f64</td><td>f64</td><td>f64</td><td>f64</td><td>f64</td></tr></thead><tbody><tr><td>&quot;LONG&quot;</td><td>3789</td><td>5715</td><td>925</td><td>3371</td><td>43</td><td>10054</td><td>0.092003</td><td>0.335289</td><td>0.62899</td><td>0.012595</td><td>1.0</td></tr><tr><td>&quot;SHORT&quot;</td><td>610</td><td>489</td><td>421</td><td>219</td><td>27</td><td>1156</td><td>0.364187</td><td>0.189446</td><td>0.690678</td><td>0.109756</td><td>1.19194</td></tr><tr><td>&quot;MEDIUM&quot;</td><td>3005</td><td>4185</td><td>1046</td><td>1848</td><td>62</td><td>7141</td><td>0.146478</td><td>0.258787</td><td>0.693685</td><td>0.032461</td><td>1.109166</td></tr></tbody></table></div>"
      ],
      "text/plain": [
       "shape: (3, 12)\n",
       "┌────────┬───────┬──────┬──────┬──────┬─────┬──────────────┬──────────┬──────────┬─────────────────────────┬─────────────────┬──────────────────┐\n",
       "│ length ┆ total ┆ tp   ┆ fp   ┆ fn   ┆ tn  ┆ total_skills ┆ fp_rate  ┆ fn_rate  ┆ equality_of_opportunity ┆ calibration_npv ┆ disparate_impact │\n",
       "│ ---    ┆ ---   ┆ ---  ┆ ---  ┆ ---  ┆ --- ┆ ---          ┆ ---      ┆ ---      ┆ ---                     ┆ ---             ┆ ---              │\n",
       "│ str    ┆ u32   ┆ u32  ┆ u32  ┆ u32  ┆ u32 ┆ u32          ┆ f64      ┆ f64      ┆ f64                     ┆ f64             ┆ f64              │\n",
       "╞════════╪═══════╪══════╪══════╪══════╪═════╪══════════════╪══════════╪══════════╪═════════════════════════╪═════════════════╪══════════════════╡\n",
       "│ LONG   ┆ 3789  ┆ 5715 ┆ 925  ┆ 3371 ┆ 43  ┆ 10054        ┆ 0.092003 ┆ 0.335289 ┆ 0.62899                 ┆ 0.012595        ┆ 1.0              │\n",
       "│ SHORT  ┆ 610   ┆ 489  ┆ 421  ┆ 219  ┆ 27  ┆ 1156         ┆ 0.364187 ┆ 0.189446 ┆ 0.690678                ┆ 0.109756        ┆ 1.19194          │\n",
       "│ MEDIUM ┆ 3005  ┆ 4185 ┆ 1046 ┆ 1848 ┆ 62  ┆ 7141         ┆ 0.146478 ┆ 0.258787 ┆ 0.693685                ┆ 0.032461        ┆ 1.109166         │\n",
       "└────────┴───────┴──────┴──────┴──────┴─────┴──────────────┴──────────┴──────────┴─────────────────────────┴─────────────────┴──────────────────┘"
      ]
     },
     "metadata": {},
     "output_type": "display_data"
    }
   ],
   "source": [
    "print_report(\n",
    "    result=res_lg,\n",
    "    df_population=df_cv,\n",
    "    reference_col=\"LONG\",\n",
    "    group_col=\"length\",\n",
    "    metrics=[\n",
    "        \"equality_of_opportunity\",\n",
    "        \"calibration_npv\",\n",
    "    ],\n",
    ")"
   ]
  },
  {
   "cell_type": "markdown",
   "metadata": {},
   "source": [
    "### Bias detection for Job Title"
   ]
  },
  {
   "cell_type": "markdown",
   "metadata": {},
   "source": [
    "Loading list of jobs from <a href=\"https://esco.ec.europa.eu/en/about-esco\" target=\"_blank\">ESCO</a> and filtering out those that are too specific (length > 3)."
   ]
  },
  {
   "cell_type": "code",
   "execution_count": 18,
   "metadata": {},
   "outputs": [],
   "source": [
    "df_skills_cleaned = df_skills.with_columns(\n",
    "    pl.col(\"Skill\")\n",
    "    .str.to_lowercase()\n",
    "    .str.replace_all(\"(m/f)\", \"\", literal=True)\n",
    "    .str.strip_chars()\n",
    "    .alias(\"Skill\")\n",
    ")"
   ]
  },
  {
   "cell_type": "markdown",
   "metadata": {},
   "source": [
    "The **bias detection pipeline for job titles** consists of two main components:\n",
    "\n",
    "* **JobParser**: a class that extracts job experiences listed in ESCO from raw CV texts, using SpaCy's `PhraseMatcher`.\n",
    "\n",
    "* **SemanticMatcher**: once job experiences are extracted, the `SemanticMatcher` (<a href=\"https://huggingface.co/sentence-transformers/all-MiniLM-L6-v2\" target=\"_blank\">all‑MiniLM‑L6‑v2</a>) is then used exclusively to determine which of these experiences match the parser extracted skills, employing semantic embeddings. Pairwise cosine similarity is calculated between the embeddings of **JobParser** skills and Parser skills. Matches are established when this similarity exceeds a specified threshold. This matching step is used only to compute metrics.\n"
   ]
  },
  {
   "cell_type": "code",
   "execution_count": 19,
   "metadata": {},
   "outputs": [],
   "source": [
    "parser = JobParser(normalized_jobs)\n",
    "matcher = SemanticMatcher()"
   ]
  },
  {
   "cell_type": "code",
   "execution_count": 20,
   "metadata": {},
   "outputs": [
    {
     "data": {
      "application/vnd.jupyter.widget-view+json": {
       "model_id": "db4dd52b8d49471983570e4883e36900",
       "version_major": 2,
       "version_minor": 0
      },
      "text/plain": [
       "  0%|          | 0/7404 [00:00<?, ?it/s]"
      ]
     },
     "metadata": {},
     "output_type": "display_data"
    },
    {
     "name": "stdout",
     "output_type": "stream",
     "text": [
      "Regex positive candidates        : 5614\n",
      "Parser positive candidates: 6763\n",
      "- Both regex & parser   : 5299\n",
      "- Only regex            : 315\n",
      "- Only parser           : 1464\n",
      "\n",
      "Confusion matrix: \n",
      "Counts   -> TP:7838   FP:14976 TN:326    FN:6394 \n",
      "Metrics  -> Precision:0.34  Recall:0.551  F1:0.423  Acc:0.276\n"
     ]
    }
   ],
   "source": [
    "res_job = compute_candidate_coverage(\n",
    "    df_cv,\n",
    "    df_skills_cleaned,\n",
    "    \"Job_title\",\n",
    "    parser.parse_with_n_grams,\n",
    "    matcher=matcher.semantic_comparison,\n",
    ")\n",
    "\n",
    "print(\"Confusion matrix:\", res_job.conf)"
   ]
  },
  {
   "cell_type": "code",
   "execution_count": 21,
   "metadata": {},
   "outputs": [
    {
     "name": "stdout",
     "output_type": "stream",
     "text": [
      "\n",
      "CANDIDATE ID: 6646832 - GENERE: Female\n",
      "Reason: Rule-based extractor found skill but parser missed it.\n",
      "--------------------------------------------------------------------------------\n",
      ", milan fashion week participation as a \u001b[31mdancer\u001b[0m for the zegna promotional video under t\n",
      " hotel serena majestic (pe) work with a \u001b[31mhostess\u001b[0m and dancer contract. further informatio\n",
      "a majestic (pe) work with a hostess and \u001b[31mdancer\u001b[0m contract. further information • equippe\n",
      "--------------------------------------------------------------------------------\n",
      "\n",
      "CANDIDATE ID: 6712718 - GENERE: Female\n",
      "Reason: Rule-based extractor found skill but parser missed it.\n",
      "--------------------------------------------------------------------------------\n",
      "nd date of birth] professional profile: \u001b[31msecretary\u001b[0m, receptionist and front office assistan\n",
      "birth] professional profile: secretary, \u001b[31mreceptionist\u001b[0m and front office assistant. I obtained \n",
      "nt of the service. may - september 2016 \u001b[31mbabysitter\u001b[0m for private individuals in orio al seri\n",
      "of the service. October 2005 - May 2007 \u001b[31mbabysitter\u001b[0m for private individuals in Stezzano dur\n",
      "--------------------------------------------------------------------------------\n"
     ]
    }
   ],
   "source": [
    "df_fn = pl.DataFrame(res_job.fn_rows)\n",
    "sample = df_fn.sample(n=2, shuffle=True)\n",
    "for row in sample.to_dicts():\n",
    "    print_highlighted_cv(row, pattern=jobs_pattern)"
   ]
  },
  {
   "cell_type": "code",
   "execution_count": 22,
   "metadata": {},
   "outputs": [
    {
     "name": "stdout",
     "output_type": "stream",
     "text": [
      "False negatives matching snippet pattern: 6394\n",
      "Saved filtered false negatives to false_negative.csv\n"
     ]
    }
   ],
   "source": [
    "print(f\"False negatives matching snippet pattern: {df_fn.height}\")\n",
    "df_fn.write_csv(JOB_TITLE_FALSE_NEGATIVES_PATH, separator=\";\")\n",
    "print(\"Saved filtered false negatives to false_negative.csv\")"
   ]
  },
  {
   "cell_type": "code",
   "execution_count": 23,
   "metadata": {},
   "outputs": [
    {
     "name": "stdout",
     "output_type": "stream",
     "text": [
      "TP: 7838, FP: 14976, TN: 326, FN: 6394\n",
      "Accuracy: 0.276, Precision: 0.344, Recall: 0.551, F1: 0.423\n",
      "\n",
      "Error and rates by Gender:\n",
      "\n"
     ]
    },
    {
     "data": {
      "text/html": [
       "<div><style>\n",
       ".dataframe > thead > tr,\n",
       ".dataframe > tbody > tr {\n",
       "  text-align: right;\n",
       "  white-space: pre-wrap;\n",
       "}\n",
       "</style>\n",
       "<small>shape: (2, 12)</small><table border=\"1\" class=\"dataframe\"><thead><tr><th>Gender</th><th>total</th><th>tp</th><th>fp</th><th>fn</th><th>tn</th><th>total_skills</th><th>fp_rate</th><th>fn_rate</th><th>equality_of_opportunity</th><th>calibration_npv</th><th>disparate_impact</th></tr><tr><td>str</td><td>u32</td><td>u32</td><td>u32</td><td>u32</td><td>u32</td><td>u32</td><td>f64</td><td>f64</td><td>f64</td><td>f64</td><td>f64</td></tr></thead><tbody><tr><td>&quot;Female&quot;</td><td>3420</td><td>4265</td><td>6534</td><td>3273</td><td>111</td><td>14183</td><td>0.460692</td><td>0.230769</td><td>0.5658</td><td>0.032801</td><td>0.972811</td></tr><tr><td>&quot;Male&quot;</td><td>3984</td><td>3573</td><td>8442</td><td>3121</td><td>215</td><td>15351</td><td>0.549932</td><td>0.203309</td><td>0.533762</td><td>0.064448</td><td>1.0</td></tr></tbody></table></div>"
      ],
      "text/plain": [
       "shape: (2, 12)\n",
       "┌────────┬───────┬──────┬──────┬──────┬─────┬──────────────┬──────────┬──────────┬─────────────────────────┬─────────────────┬──────────────────┐\n",
       "│ Gender ┆ total ┆ tp   ┆ fp   ┆ fn   ┆ tn  ┆ total_skills ┆ fp_rate  ┆ fn_rate  ┆ equality_of_opportunity ┆ calibration_npv ┆ disparate_impact │\n",
       "│ ---    ┆ ---   ┆ ---  ┆ ---  ┆ ---  ┆ --- ┆ ---          ┆ ---      ┆ ---      ┆ ---                     ┆ ---             ┆ ---              │\n",
       "│ str    ┆ u32   ┆ u32  ┆ u32  ┆ u32  ┆ u32 ┆ u32          ┆ f64      ┆ f64      ┆ f64                     ┆ f64             ┆ f64              │\n",
       "╞════════╪═══════╪══════╪══════╪══════╪═════╪══════════════╪══════════╪══════════╪═════════════════════════╪═════════════════╪══════════════════╡\n",
       "│ Female ┆ 3420  ┆ 4265 ┆ 6534 ┆ 3273 ┆ 111 ┆ 14183        ┆ 0.460692 ┆ 0.230769 ┆ 0.5658                  ┆ 0.032801        ┆ 0.972811         │\n",
       "│ Male   ┆ 3984  ┆ 3573 ┆ 8442 ┆ 3121 ┆ 215 ┆ 15351        ┆ 0.549932 ┆ 0.203309 ┆ 0.533762                ┆ 0.064448        ┆ 1.0              │\n",
       "└────────┴───────┴──────┴──────┴──────┴─────┴──────────────┴──────────┴──────────┴─────────────────────────┴─────────────────┴──────────────────┘"
      ]
     },
     "metadata": {},
     "output_type": "display_data"
    }
   ],
   "source": [
    "print_report(\n",
    "    result=res_job,\n",
    "    df_population=df_cv,\n",
    "    reference_col=\"Male\",\n",
    "    group_col=\"Gender\",\n",
    "    metrics=[\n",
    "        \"equality_of_opportunity\",\n",
    "        \"calibration_npv\",\n",
    "    ],\n",
    ")"
   ]
  },
  {
   "cell_type": "code",
   "execution_count": 24,
   "metadata": {},
   "outputs": [
    {
     "name": "stdout",
     "output_type": "stream",
     "text": [
      "TP: 7838, FP: 14976, TN: 326, FN: 6394\n",
      "Accuracy: 0.276, Precision: 0.344, Recall: 0.551, F1: 0.423\n",
      "\n",
      "Error and rates by Location:\n",
      "\n"
     ]
    },
    {
     "data": {
      "text/html": [
       "<div><style>\n",
       ".dataframe > thead > tr,\n",
       ".dataframe > tbody > tr {\n",
       "  text-align: right;\n",
       "  white-space: pre-wrap;\n",
       "}\n",
       "</style>\n",
       "<small>shape: (3, 12)</small><table border=\"1\" class=\"dataframe\"><thead><tr><th>Location</th><th>total</th><th>tp</th><th>fp</th><th>fn</th><th>tn</th><th>total_skills</th><th>fp_rate</th><th>fn_rate</th><th>equality_of_opportunity</th><th>calibration_npv</th><th>disparate_impact</th></tr><tr><td>str</td><td>u32</td><td>u32</td><td>u32</td><td>u32</td><td>u32</td><td>u32</td><td>f64</td><td>f64</td><td>f64</td><td>f64</td><td>f64</td></tr></thead><tbody><tr><td>&quot;NORTH&quot;</td><td>5343</td><td>5549</td><td>10890</td><td>4519</td><td>228</td><td>21186</td><td>0.514019</td><td>0.213301</td><td>0.551152</td><td>0.04803</td><td>1.0</td></tr><tr><td>&quot;SOUTH&quot;</td><td>1060</td><td>1078</td><td>1956</td><td>937</td><td>62</td><td>4033</td><td>0.484999</td><td>0.232333</td><td>0.534988</td><td>0.062062</td><td>0.969529</td></tr><tr><td>&quot;CENTER&quot;</td><td>1001</td><td>1211</td><td>2130</td><td>938</td><td>36</td><td>4315</td><td>0.493627</td><td>0.217381</td><td>0.563518</td><td>0.036961</td><td>0.997859</td></tr></tbody></table></div>"
      ],
      "text/plain": [
       "shape: (3, 12)\n",
       "┌──────────┬───────┬──────┬───────┬──────┬─────┬──────────────┬──────────┬──────────┬─────────────────────────┬─────────────────┬──────────────────┐\n",
       "│ Location ┆ total ┆ tp   ┆ fp    ┆ fn   ┆ tn  ┆ total_skills ┆ fp_rate  ┆ fn_rate  ┆ equality_of_opportunity ┆ calibration_npv ┆ disparate_impact │\n",
       "│ ---      ┆ ---   ┆ ---  ┆ ---   ┆ ---  ┆ --- ┆ ---          ┆ ---      ┆ ---      ┆ ---                     ┆ ---             ┆ ---              │\n",
       "│ str      ┆ u32   ┆ u32  ┆ u32   ┆ u32  ┆ u32 ┆ u32          ┆ f64      ┆ f64      ┆ f64                     ┆ f64             ┆ f64              │\n",
       "╞══════════╪═══════╪══════╪═══════╪══════╪═════╪══════════════╪══════════╪══════════╪═════════════════════════╪═════════════════╪══════════════════╡\n",
       "│ NORTH    ┆ 5343  ┆ 5549 ┆ 10890 ┆ 4519 ┆ 228 ┆ 21186        ┆ 0.514019 ┆ 0.213301 ┆ 0.551152                ┆ 0.04803         ┆ 1.0              │\n",
       "│ SOUTH    ┆ 1060  ┆ 1078 ┆ 1956  ┆ 937  ┆ 62  ┆ 4033         ┆ 0.484999 ┆ 0.232333 ┆ 0.534988                ┆ 0.062062        ┆ 0.969529         │\n",
       "│ CENTER   ┆ 1001  ┆ 1211 ┆ 2130  ┆ 938  ┆ 36  ┆ 4315         ┆ 0.493627 ┆ 0.217381 ┆ 0.563518                ┆ 0.036961        ┆ 0.997859         │\n",
       "└──────────┴───────┴──────┴───────┴──────┴─────┴──────────────┴──────────┴──────────┴─────────────────────────┴─────────────────┴──────────────────┘"
      ]
     },
     "metadata": {},
     "output_type": "display_data"
    }
   ],
   "source": [
    "print_report(\n",
    "    result=res_job,\n",
    "    df_population=df_cv,\n",
    "    reference_col=\"NORTH\",\n",
    "    group_col=\"Location\",\n",
    "    metrics=[\n",
    "        \"equality_of_opportunity\",\n",
    "        \"calibration_npv\",\n",
    "    ],\n",
    ")"
   ]
  },
  {
   "cell_type": "code",
   "execution_count": 25,
   "metadata": {},
   "outputs": [
    {
     "name": "stdout",
     "output_type": "stream",
     "text": [
      "TP: 7838, FP: 14976, TN: 326, FN: 6394\n",
      "Accuracy: 0.276, Precision: 0.344, Recall: 0.551, F1: 0.423\n",
      "\n",
      "Error and rates by length:\n",
      "\n"
     ]
    },
    {
     "data": {
      "text/html": [
       "<div><style>\n",
       ".dataframe > thead > tr,\n",
       ".dataframe > tbody > tr {\n",
       "  text-align: right;\n",
       "  white-space: pre-wrap;\n",
       "}\n",
       "</style>\n",
       "<small>shape: (3, 12)</small><table border=\"1\" class=\"dataframe\"><thead><tr><th>length</th><th>total</th><th>tp</th><th>fp</th><th>fn</th><th>tn</th><th>total_skills</th><th>fp_rate</th><th>fn_rate</th><th>equality_of_opportunity</th><th>calibration_npv</th><th>disparate_impact</th></tr><tr><td>str</td><td>u32</td><td>u32</td><td>u32</td><td>u32</td><td>u32</td><td>u32</td><td>f64</td><td>f64</td><td>f64</td><td>f64</td><td>f64</td></tr></thead><tbody><tr><td>&quot;MEDIUM&quot;</td><td>3005</td><td>2360</td><td>5122</td><td>2075</td><td>167</td><td>9724</td><td>0.526738</td><td>0.21339</td><td>0.532131</td><td>0.074487</td><td>0.991761</td></tr><tr><td>&quot;SHORT&quot;</td><td>610</td><td>266</td><td>783</td><td>254</td><td>97</td><td>1400</td><td>0.559286</td><td>0.181429</td><td>0.511538</td><td>0.276353</td><td>0.965788</td></tr><tr><td>&quot;LONG&quot;</td><td>3789</td><td>5212</td><td>9071</td><td>4065</td><td>62</td><td>18410</td><td>0.492721</td><td>0.220804</td><td>0.56182</td><td>0.015023</td><td>1.0</td></tr></tbody></table></div>"
      ],
      "text/plain": [
       "shape: (3, 12)\n",
       "┌────────┬───────┬──────┬──────┬──────┬─────┬──────────────┬──────────┬──────────┬─────────────────────────┬─────────────────┬──────────────────┐\n",
       "│ length ┆ total ┆ tp   ┆ fp   ┆ fn   ┆ tn  ┆ total_skills ┆ fp_rate  ┆ fn_rate  ┆ equality_of_opportunity ┆ calibration_npv ┆ disparate_impact │\n",
       "│ ---    ┆ ---   ┆ ---  ┆ ---  ┆ ---  ┆ --- ┆ ---          ┆ ---      ┆ ---      ┆ ---                     ┆ ---             ┆ ---              │\n",
       "│ str    ┆ u32   ┆ u32  ┆ u32  ┆ u32  ┆ u32 ┆ u32          ┆ f64      ┆ f64      ┆ f64                     ┆ f64             ┆ f64              │\n",
       "╞════════╪═══════╪══════╪══════╪══════╪═════╪══════════════╪══════════╪══════════╪═════════════════════════╪═════════════════╪══════════════════╡\n",
       "│ MEDIUM ┆ 3005  ┆ 2360 ┆ 5122 ┆ 2075 ┆ 167 ┆ 9724         ┆ 0.526738 ┆ 0.21339  ┆ 0.532131                ┆ 0.074487        ┆ 0.991761         │\n",
       "│ SHORT  ┆ 610   ┆ 266  ┆ 783  ┆ 254  ┆ 97  ┆ 1400         ┆ 0.559286 ┆ 0.181429 ┆ 0.511538                ┆ 0.276353        ┆ 0.965788         │\n",
       "│ LONG   ┆ 3789  ┆ 5212 ┆ 9071 ┆ 4065 ┆ 62  ┆ 18410        ┆ 0.492721 ┆ 0.220804 ┆ 0.56182                 ┆ 0.015023        ┆ 1.0              │\n",
       "└────────┴───────┴──────┴──────┴──────┴─────┴──────────────┴──────────┴──────────┴─────────────────────────┴─────────────────┴──────────────────┘"
      ]
     },
     "metadata": {},
     "output_type": "display_data"
    }
   ],
   "source": [
    "print_report(\n",
    "    result=res_job,\n",
    "    df_population=df_cv,\n",
    "    reference_col=\"LONG\",\n",
    "    group_col=\"length\",\n",
    "    metrics=[\n",
    "        \"equality_of_opportunity\",\n",
    "        \"calibration_npv\",\n",
    "    ],\n",
    ")"
   ]
  },
  {
   "cell_type": "code",
   "execution_count": 32,
   "metadata": {},
   "outputs": [],
   "source": [
    "%%bash --bg \n",
    "cd ..\n",
    "\n",
    "# for Unix users\n",
    ".venv/bin/python -m streamlit run hiring_cv_bias/bias_detection/rule_based/app/fn_app.py\n",
    "\n",
    "# for Windows users\n",
    "#.venv/Scripts/python.exe -m streamlit run hiring_cv_bias/bias_detection/rule_based/app/fn_app.py"
   ]
  },
  {
   "cell_type": "markdown",
   "metadata": {},
   "source": [
    "## Summary of Findings  \n",
    "\n",
    "Overall, the parser exhibits very high error rates, with **low recall** across all categories and a large number of **false negatives**, indicating that many true skills are missed by the system. \n",
    "\n",
    "When we examine the metrics across demographic groups, **no strong bias** emerges; nonetheless, a few observations merit discussion: \n",
    "\n",
    "- **Minimal gender disparity in Driving License:** the DI for females is **0.88**, slightly below that of males but still above the critical 0.80 threshold defined by the four-fifths rule.\n",
    "\n",
    "- **Length-based imbalances:** we observe that “Short” CVs are disadvantaged in driving license extraction (DI = 0.75) and simultaneously advantaged for language skill extraction (DI = 1.19). These opposite effects suggest the parser’s performance varies significantly with document length and **deserve a deeper analysis** to uncover the root causes of these imbalances and guide mitigation strategies.\n"
   ]
  }
 ],
 "metadata": {
  "kernelspec": {
   "display_name": ".venv",
   "language": "python",
   "name": "python3"
  },
  "language_info": {
   "codemirror_mode": {
    "name": "ipython",
    "version": 3
   },
   "file_extension": ".py",
   "mimetype": "text/x-python",
   "name": "python",
   "nbconvert_exporter": "python",
   "pygments_lexer": "ipython3",
   "version": "3.12.10"
  }
 },
 "nbformat": 4,
 "nbformat_minor": 4
}

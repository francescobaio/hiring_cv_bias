{
 "cells": [
  {
   "cell_type": "code",
   "execution_count": null,
   "metadata": {},
   "outputs": [],
   "source": [
    "import numpy as np\n",
    "import polars as pl\n",
    "import torch\n",
    "from huggingface_hub import login\n",
    "from transformers import AutoModelForCausalLM, AutoTokenizer, BitsAndBytesConfig\n",
    "\n",
    "from hiring_cv_bias.config import HARD_SOFT_SKILLS\n",
    "from hiring_cv_bias.hard_soft_skills_labelling.utils import batch_classify_skills\n",
    "from hiring_cv_bias.utils import load_data\n",
    "\n",
    "login(token=\"[YOUR_TOKEN]\")"
   ]
  },
  {
   "cell_type": "code",
   "execution_count": null,
   "metadata": {},
   "outputs": [],
   "source": [
    "cv_skills = load_data(\"/kaggle/input/skills-cleaned/Skills_cleaned.csv\")\n",
    "skills = (\n",
    "    cv_skills.filter(pl.col(\"Skill_Type\") == \"Professional_Skill\")[\"Skill\"]\n",
    "    .unique()\n",
    "    .to_list()\n",
    ")"
   ]
  },
  {
   "cell_type": "code",
   "execution_count": null,
   "metadata": {},
   "outputs": [],
   "source": [
    "bnb_config = BitsAndBytesConfig(\n",
    "    load_in_4bit=True,\n",
    "    bnb_4bit_use_double_quant=True,\n",
    "    bnb_4bit_compute_dtype=torch.float16,\n",
    "    bnb_4bit_quant_type=\"nf4\",\n",
    ")\n",
    "\n",
    "model_name = \"meta-llama/Llama-3.1-8B-Instruct\"\n",
    "\n",
    "tokenizer = AutoTokenizer.from_pretrained(model_name, padding_side=\"left\")\n",
    "tokenizer.pad_token = tokenizer.eos_token\n",
    "model = AutoModelForCausalLM.from_pretrained(\n",
    "    model_name,\n",
    "    device_map=\"auto\",\n",
    "    torch_dtype=torch.bfloat16,\n",
    "    trust_remote_code=True,\n",
    "    quantization_config=bnb_config,\n",
    ")"
   ]
  },
  {
   "cell_type": "code",
   "execution_count": null,
   "metadata": {},
   "outputs": [],
   "source": [
    "hard_soft_labels = batch_classify_skills(skills, batch_size=64)"
   ]
  },
  {
   "cell_type": "code",
   "execution_count": null,
   "metadata": {},
   "outputs": [],
   "source": [
    "(\n",
    "    hard_soft_labels.count(\"Hard\"),\n",
    "    hard_soft_labels.count(\"Soft\"),\n",
    "    hard_soft_labels.count(\"Unknown\"),\n",
    ")"
   ]
  },
  {
   "cell_type": "code",
   "execution_count": null,
   "metadata": {},
   "outputs": [],
   "source": [
    "output_df = pl.DataFrame({\"Skill\": skills, \"label\": hard_soft_labels})\n",
    "output_df.write_csv(\"hard_soft_skills.csv\")"
   ]
  },
  {
   "cell_type": "markdown",
   "metadata": {},
   "source": [
    "### Estimating Accuracy"
   ]
  },
  {
   "cell_type": "markdown",
   "metadata": {},
   "source": [
    "In this section, we estimated the model's accuracy using a sample of 100 skills: 50 predicted as hard skills and 50 predicted as soft skills.  \n",
    "We then compared the model's predictions with evaluations provided by ChatGPT.\n",
    "From this comparison, we derived separate accuracy estimates for hard and soft skills, as well as an overall accuracy score."
   ]
  },
  {
   "cell_type": "code",
   "execution_count": null,
   "metadata": {},
   "outputs": [],
   "source": [
    "hard_soft_df = pl.read_csv(HARD_SOFT_SKILLS)\n",
    "print(\n",
    "    hard_soft_df[\"label\"]\n",
    "    .value_counts()\n",
    "    .filter(pl.col(\"label\").is_in(\"Hard\", \"Soft\", \"Unknown\"))\n",
    ")"
   ]
  },
  {
   "cell_type": "code",
   "execution_count": null,
   "metadata": {},
   "outputs": [],
   "source": [
    "hard_skills = (\n",
    "    hard_soft_df.filter(pl.col(\"label\") == \"Hard\").sample(50, shuffle=True).to_numpy()\n",
    ")\n",
    "soft_skills = (\n",
    "    hard_soft_df.filter(pl.col(\"label\") == \"Soft\").sample(50, shuffle=True).to_numpy()\n",
    ")\n",
    "\n",
    "skills_sample = np.concatenate((hard_skills, soft_skills))\n",
    "np.random.shuffle(skills_sample)"
   ]
  },
  {
   "cell_type": "markdown",
   "metadata": {},
   "source": [
    "ACCURACY 3-examples model:\n",
    "\n",
    "-HARD: 49/50\n",
    "\n",
    "-SOFT: 18/50\n",
    "\n",
    "-OVERALL: 67/100"
   ]
  },
  {
   "cell_type": "code",
   "execution_count": null,
   "metadata": {},
   "outputs": [],
   "source": [
    "skills_sample"
   ]
  }
 ],
 "metadata": {
  "kernelspec": {
   "display_name": ".venv",
   "language": "python",
   "name": "python3"
  },
  "language_info": {
   "codemirror_mode": {
    "name": "ipython",
    "version": 3
   },
   "file_extension": ".py",
   "mimetype": "text/x-python",
   "name": "python",
   "nbconvert_exporter": "python",
   "pygments_lexer": "ipython3",
   "version": "3.10.8"
  }
 },
 "nbformat": 4,
 "nbformat_minor": 2
}
